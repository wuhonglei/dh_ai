{
 "cells": [
  {
   "cell_type": "code",
   "execution_count": 5,
   "metadata": {},
   "outputs": [
    {
     "name": "stdout",
     "output_type": "stream",
     "text": [
      "avg: 122.5, gap: 140\n",
      "before: 60, after: -0.446\n",
      "before: 200, after: 0.554\n",
      "before: 80, after: -0.304\n",
      "before: 150, after: 0.196\n"
     ]
    }
   ],
   "source": [
    "x1 = [60, 200, 80, 150]\n",
    "avg = sum(x1) / len(x1)\n",
    "gap = max(x1) - min(x1)\n",
    "print(f'avg: {avg}, gap: {gap}')\n",
    "for i in range(len(x1)):\n",
    "    print(f'before: {x1[i]}, after: {(x1[i] - avg)/gap:.3f}')"
   ]
  },
  {
   "cell_type": "code",
   "execution_count": 7,
   "metadata": {},
   "outputs": [
    {
     "name": "stdout",
     "output_type": "stream",
     "text": [
      "avg: 122.5, std: 64.48514040717701\n"
     ]
    }
   ],
   "source": [
    "import math\n",
    "\n",
    "x1 = [60, 200, 80, 150]\n",
    "avg = sum(x1) / len(x1)\n",
    "sum = 0\n",
    "m = len(x1)\n",
    "for i in range(m):\n",
    "    sum += (x1[i] - avg)**2\n",
    "std = math.sqrt(sum / (m - 1))\n",
    "print(f'avg: {avg}, std: {std}')"
   ]
  },
  {
   "cell_type": "code",
   "execution_count": 6,
   "metadata": {},
   "outputs": [
    {
     "name": "stdout",
     "output_type": "stream",
     "text": [
      "avg: 2.5, gap: 3\n",
      "before: 1, after: -0.500\n",
      "before: 4, after: 0.500\n",
      "before: 2, after: -0.167\n",
      "before: 3, after: 0.167\n"
     ]
    }
   ],
   "source": [
    "y1 = [1, 4, 2, 3]\n",
    "avg = sum(y1) / len(y1)\n",
    "gap = max(y1) - min(y1)\n",
    "print(f'avg: {avg}, gap: {gap}')\n",
    "for i in range(len(y1)):\n",
    "    print(f'before: {y1[i]}, after: {(y1[i] - avg)/gap:.3f}')"
   ]
  }
 ],
 "metadata": {
  "kernelspec": {
   "display_name": "myenv",
   "language": "python",
   "name": "python3"
  },
  "language_info": {
   "codemirror_mode": {
    "name": "ipython",
    "version": 3
   },
   "file_extension": ".py",
   "mimetype": "text/x-python",
   "name": "python",
   "nbconvert_exporter": "python",
   "pygments_lexer": "ipython3",
   "version": "3.9.19"
  }
 },
 "nbformat": 4,
 "nbformat_minor": 2
}
