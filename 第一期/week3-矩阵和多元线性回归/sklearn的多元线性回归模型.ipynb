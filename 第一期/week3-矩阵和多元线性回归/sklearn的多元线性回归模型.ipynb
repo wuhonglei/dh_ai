{
 "cells": [
  {
   "cell_type": "code",
   "execution_count": 3,
   "metadata": {},
   "outputs": [],
   "source": [
    "import numpy as np\n",
    "import matplotlib.pyplot as plt\n",
    "from sklearn import linear_model\n",
    "from sklearn import metrics # 计算平方误差\n",
    "from sklearn.preprocessing import StandardScaler"
   ]
  },
  {
   "cell_type": "code",
   "execution_count": 5,
   "metadata": {},
   "outputs": [
    {
     "data": {
      "text/plain": [
       "array([342.26154206, 343.51683493])"
      ]
     },
     "execution_count": 5,
     "metadata": {},
     "output_type": "execute_result"
    }
   ],
   "source": [
    "x = [\n",
    "    [96.79, 2, 1, 2],\n",
    "    [110.39, 3, 1, 0],\n",
    "    [70.25, 1, 0, 2],\n",
    "    [99.96, 2, 1, 1],\n",
    "    [118.15, 3, 1, 0],\n",
    "    [115.08, 3, 1, 2]\n",
    "]\n",
    "y = [287, 343, 199, 298, 340, 350]\n",
    "\n",
    "test = [[112, 3, 1, 0],\n",
    "        [110, 3, 1, 1]]\n",
    "\n",
    "scaler = StandardScaler()\n",
    "X_train_scaled = scaler.fit_transform(x)\n",
    "X_test_scaled = scaler.transform(test)\n",
    "\n",
    "model = linear_model.LinearRegression()\n",
    "model.fit(X_train_scaled, y)\n",
    "y_pred = model.predict(X_test_scaled)\n"
   ]
  },
  {
   "cell_type": "code",
   "execution_count": 10,
   "metadata": {},
   "outputs": [
    {
     "data": {
      "text/plain": [
       "array([1., 1., 1., 1.])"
      ]
     },
     "execution_count": 10,
     "metadata": {},
     "output_type": "execute_result"
    }
   ],
   "source": []
  }
 ],
 "metadata": {
  "kernelspec": {
   "display_name": "myenv",
   "language": "python",
   "name": "python3"
  },
  "language_info": {
   "codemirror_mode": {
    "name": "ipython",
    "version": 3
   },
   "file_extension": ".py",
   "mimetype": "text/x-python",
   "name": "python",
   "nbconvert_exporter": "python",
   "pygments_lexer": "ipython3",
   "version": "3.10.12"
  }
 },
 "nbformat": 4,
 "nbformat_minor": 2
}
