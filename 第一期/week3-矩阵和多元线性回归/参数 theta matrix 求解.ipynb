{
 "cells": [
  {
   "cell_type": "code",
   "execution_count": 2,
   "metadata": {},
   "outputs": [],
   "source": [
    "import numpy as np\n",
    "\n",
    "# 矩阵 6 * 5\n",
    "x = np.matrix([\n",
    "    [1.00, 96.79, 2.00, 1.00, 2.00],\n",
    "    [1.00, 110.39, 3.00, 1.00, 0.00],\n",
    "    [1.00, 70.25, 1.00, 0.00, 2.00],\n",
    "    [1.00, 99.96, 2.00, 1.00, 1.00],\n",
    "    [1.00, 118.15, 3.00, 1.00, 0.00],\n",
    "    [1.00, 115.08, 3.00, 1.00, 2.00]\n",
    "])\n",
    "\n",
    "# 列向量 6 * 1\n",
    "y = np.matrix([\n",
    "    [287], [343], [199], [298], [340], [350],\n",
    "])"
   ]
  },
  {
   "cell_type": "code",
   "execution_count": 6,
   "metadata": {},
   "outputs": [
    {
     "data": {
      "text/plain": [
       "matrix([[124.55946459],\n",
       "        [  0.31882858],\n",
       "        [ 48.25692773],\n",
       "        [ 37.22249353],\n",
       "        [  1.89295003]])"
      ]
     },
     "execution_count": 6,
     "metadata": {},
     "output_type": "execute_result"
    }
   ],
   "source": [
    "x_t = x.T\n",
    "A = np.dot(x_t, x)\n",
    "A_inv = np.linalg.inv(A) # 求逆\n",
    "B = np.dot(x_t, y)\n",
    "w = (x.T * x).I * x.T * y\n",
    "w"
   ]
  },
  {
   "cell_type": "code",
   "execution_count": 7,
   "metadata": {},
   "outputs": [
    {
     "data": {
      "text/plain": [
       "matrix([[8.23445195]])"
      ]
     },
     "execution_count": 7,
     "metadata": {},
     "output_type": "execute_result"
    }
   ],
   "source": [
    "cost = (y - np.dot(x, w)).T.dot(y - np.dot(x, w)) / ( 2 * x.shape[0])\n",
    "cost"
   ]
  },
  {
   "cell_type": "code",
   "execution_count": 8,
   "metadata": {},
   "outputs": [
    {
     "data": {
      "text/plain": [
       "matrix([[342.26154206],\n",
       "        [343.51683493]])"
      ]
     },
     "execution_count": 8,
     "metadata": {},
     "output_type": "execute_result"
    }
   ],
   "source": [
    "test = [[1, 112, 3, 1, 0],\n",
    "        [1, 110, 3, 1, 1]\n",
    "        ]\n",
    "\n",
    "np.dot(test, w)"
   ]
  }
 ],
 "metadata": {
  "kernelspec": {
   "display_name": "myenv",
   "language": "python",
   "name": "python3"
  },
  "language_info": {
   "codemirror_mode": {
    "name": "ipython",
    "version": 3
   },
   "file_extension": ".py",
   "mimetype": "text/x-python",
   "name": "python",
   "nbconvert_exporter": "python",
   "pygments_lexer": "ipython3",
   "version": "3.10.12"
  }
 },
 "nbformat": 4,
 "nbformat_minor": 2
}
