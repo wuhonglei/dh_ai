{
 "cells": [
  {
   "cell_type": "code",
   "execution_count": 26,
   "metadata": {},
   "outputs": [
    {
     "data": {
      "text/plain": [
       "array([[0.31682708, 0.69627909],\n",
       "       [0.32882937, 0.72300564],\n",
       "       [0.33376622, 0.7339522 ]])"
      ]
     },
     "execution_count": 26,
     "metadata": {},
     "output_type": "execute_result"
    }
   ],
   "source": [
    "import numpy as np\n",
    "\n",
    "# 基于 numpy 实现前向传播\n",
    "\n",
    "\n",
    "def sigmoid(x):\n",
    "    return 1 / (1 + np.exp(-x))\n",
    "\n",
    "\n",
    "def create_network():\n",
    "    network = {}\n",
    "    network['W1'] = np.array([\n",
    "        [0.1, 0.2],\n",
    "        [0.3, 0.4],\n",
    "        [0.5, 0.6]\n",
    "    ])\n",
    "    network['b1'] = np.array([0.1, 0.2, 0.3]).reshape(-1, 1)  # 重塑为列向量\n",
    "\n",
    "    network['W2'] = np.array([\n",
    "        [0.1, 0.2, 0.3],\n",
    "        [0.4, 0.5, 0.6]\n",
    "    ])\n",
    "    network['b2'] = np.array([0.1, 0.2]).reshape(-1, 1)  # 重塑为列向量\n",
    "\n",
    "    network['W3'] = np.array([\n",
    "        [0.1, 0.2],\n",
    "        [0.3, 0.4]\n",
    "    ])\n",
    "    network['b3'] = np.array([0.1, 0.2]).reshape(-1, 1)  # 重塑为列向量\n",
    "\n",
    "    return network\n",
    "\n",
    "\n",
    "def forward(network, X):\n",
    "    \"\"\"\n",
    "    实现神经网络的前向传播\n",
    "    神经网络的结构是 2 * 3 * 2 * 2\n",
    "    network: 神经网络的参数\n",
    "    X: 输入数据(多个样本的特征值输入)\n",
    "    \"\"\"\n",
    "    Z_2 = network['W1'] @ X + network['b1']\n",
    "    A_2 = sigmoid(Z_2)  # 列向量 (3, 1)\n",
    "\n",
    "    Z_3 = network['W2'] @ A_2 + network['b2']\n",
    "    A_3 = sigmoid(Z_3)  # 列向量 (2, 1)\n",
    "\n",
    "    y = network['W3'] @ A_3 + network['b3']\n",
    "    return y.T\n",
    "\n",
    "\n",
    "X = np.array([\n",
    "    [1.0, 0.5],\n",
    "    [2.0, 3.0],\n",
    "    [5.0, 6.0]\n",
    "])\n",
    "network = create_network()\n",
    "forward(network, X.T)"
   ]
  },
  {
   "cell_type": "code",
   "execution_count": 29,
   "metadata": {},
   "outputs": [
    {
     "data": {
      "text/plain": [
       "array([[0.3168271 , 0.6962791 ],\n",
       "       [0.32882938, 0.72300565],\n",
       "       [0.33376622, 0.7339522 ]], dtype=float32)"
      ]
     },
     "execution_count": 29,
     "metadata": {},
     "output_type": "execute_result"
    }
   ],
   "source": [
    "# 基于 pytorch 实现前向传播\n",
    "\n",
    "import torch\n",
    "import torch.nn as nn\n",
    "\n",
    "\n",
    "class Network(nn.Module):\n",
    "    def __init__(self):\n",
    "        super(Network, self).__init__()\n",
    "        self.fc1 = nn.Linear(2, 3)\n",
    "        self.fc2 = nn.Linear(3, 2)\n",
    "        self.fc3 = nn.Linear(2, 2)\n",
    "\n",
    "        self.fc1.weight.data = torch.tensor([\n",
    "            [0.1, 0.2],\n",
    "            [0.3, 0.4],\n",
    "            [0.5, 0.6]\n",
    "        ])\n",
    "        self.fc1.bias.data = torch.tensor([0.1, 0.2, 0.3])\n",
    "\n",
    "        self.fc2.weight.data = torch.tensor([\n",
    "            [0.1, 0.2, 0.3],\n",
    "            [0.4, 0.5, 0.6]\n",
    "        ])\n",
    "        self.fc2.bias.data = torch.tensor([0.1, 0.2])\n",
    "\n",
    "        self.fc3.weight.data = torch.tensor([\n",
    "            [0.1, 0.2],\n",
    "            [0.3, 0.4]\n",
    "        ])\n",
    "        self.fc3.bias.data = torch.tensor([0.1, 0.2])\n",
    "\n",
    "    def forward(self, x):\n",
    "        z2 = self.fc1(x)\n",
    "        a2 = torch.sigmoid(z2)\n",
    "\n",
    "        z3 = self.fc2(a2)\n",
    "        a3 = torch.sigmoid(z3)\n",
    "\n",
    "        y = self.fc3(a3)\n",
    "        return y\n",
    "\n",
    "\n",
    "X = torch.tensor([\n",
    "    [1.0, 0.5],\n",
    "    [2.0, 3.0],\n",
    "    [5.0, 6.0]\n",
    "])\n",
    "network = Network()\n",
    "y = network(X)\n",
    "y.detach().numpy()  # tensor 转 numpy"
   ]
  }
 ],
 "metadata": {
  "kernelspec": {
   "display_name": "myenv",
   "language": "python",
   "name": "python3"
  },
  "language_info": {
   "codemirror_mode": {
    "name": "ipython",
    "version": 3
   },
   "file_extension": ".py",
   "mimetype": "text/x-python",
   "name": "python",
   "nbconvert_exporter": "python",
   "pygments_lexer": "ipython3",
   "version": "3.10.12"
  }
 },
 "nbformat": 4,
 "nbformat_minor": 2
}
