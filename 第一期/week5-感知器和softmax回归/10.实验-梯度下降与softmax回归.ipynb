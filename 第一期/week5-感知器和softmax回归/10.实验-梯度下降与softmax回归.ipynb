{
 "cells": [
  {
   "cell_type": "code",
   "execution_count": 9,
   "metadata": {},
   "outputs": [],
   "source": [
    "import numpy as np\n",
    "import matplotlib.pyplot as plt\n",
    "\n",
    "\n",
    "def softmax(z):\n",
    "    \"\"\" Compute the softmax of vector z \"\"\"\n",
    "    z -= np.max(z)\n",
    "    z = np.exp(z)\n",
    "    return z / np.sum(z)\n",
    "\n",
    "\n",
    "def softmax_output(W, x):\n",
    "    z = np.dot(W, x)\n",
    "    return softmax(z)\n",
    "\n",
    "\n",
    "def gradient_w(X, y, W):\n",
    "    m = len(X)  # 样本数\n",
    "    n = len(X[0])  # 特征数\n",
    "    c = len(W)  # 类别数\n",
    "    grad = np.zeros((c, n))  # 梯度形状\n",
    "    for k in range(c):\n",
    "        for j in range(n):\n",
    "            temp = []\n",
    "            for i in range(m):\n",
    "                temp.append((softmax_output(W, X[i])\n",
    "                             [k] - (y[i][k])) * X[i][j])\n",
    "            grad[k][j] = np.mean(temp)\n",
    "    return grad\n",
    "\n",
    "\n",
    "def softmax_cost(X, y, W):\n",
    "    m = len(X)  # 样本数\n",
    "    c = len(W)  # 类别数\n",
    "    cost = 0\n",
    "    for i in range(m):\n",
    "        p = softmax_output(W, X[i])\n",
    "        cost += y[i] @ np.log(p)\n",
    "\n",
    "    return -cost / m\n",
    "\n",
    "\n",
    "def softmax_train(X, y, alpha, iterate):\n",
    "    m = len(X)  # 样本数\n",
    "    n = len(X[0])  # 特征数\n",
    "    c = len(y[0])  # 类别数\n",
    "    W = np.zeros((c, n))  # 权重初始化\n",
    "\n",
    "    for i in range(iterate):\n",
    "        grad = gradient_w(X, y, W)\n",
    "        W -= alpha * grad\n",
    "        if i % 1000 == 0:\n",
    "            print(f\"Iteration: {i}, Loss: {softmax_cost(X, y, W)}\")\n",
    "\n",
    "    return W\n",
    "\n",
    "\n",
    "def softmax_predict(x, W):\n",
    "    \"\"\" 预测函数 \"\"\"\n",
    "    x = np.append(x, 1)\n",
    "    return np.argmax(softmax_output(W, x))\n",
    "\n",
    "\n",
    "def generate_data(num):\n",
    "    # 保存当前的随机数生成器状态\n",
    "    state = np.random.get_state()\n",
    "    np.random.seed(42)\n",
    "    green = np.random.randn(num, 2) + np.array([0, -2])\n",
    "    blue = np.random.randn(num, 2) + np.array([-2, 2])\n",
    "    red = np.random.randn(num, 2) + np.array([2, 2])\n",
    "    np.random.set_state(state)\n",
    "    return green, blue, red\n",
    "\n",
    "\n",
    "def plot_samples(green, blue, red):\n",
    "    fig, axis = plt.subplots()\n",
    "    axis.set(\n",
    "        xlim=(-4, 4),\n",
    "        ylim=(-4, 4),\n",
    "        title=\"Softmax Regression\",\n",
    "        xlabel=\"x1\",\n",
    "        ylabel=\"x2\"\n",
    "    )\n",
    "    plt.scatter(green[:, 0], green[:, 1], color='g')\n",
    "    plt.scatter(blue[:, 0], blue[:, 1], color='b')\n",
    "    plt.scatter(red[:, 0], red[:, 1], color='r')\n",
    "\n",
    "\n",
    "def plot_decision_boundary(x_min, x_max, y_min, y_max, W):\n",
    "    xx, yy = np.meshgrid(np.arange(x_min, x_max, 0.01),\n",
    "                         np.arange(y_min, y_max, 0.01))\n",
    "    Z = np.array([softmax_predict(x, W)\n",
    "                 for x in np.c_[xx.ravel(), yy.ravel()]])\n",
    "    Z = Z.reshape(xx.shape)\n",
    "    plt.contour(xx, yy, Z, alpha=0.5)"
   ]
  },
  {
   "cell_type": "code",
   "execution_count": 10,
   "metadata": {},
   "outputs": [
    {
     "name": "stdout",
     "output_type": "stream",
     "text": [
      "Iteration: 0, Loss: 1.07577342527859\n",
      "Iteration: 1000, Loss: 0.0831195779045669\n",
      "Iteration: 2000, Loss: 0.05688394369333217\n",
      "Iteration: 3000, Loss: 0.045940769014575375\n",
      "Iteration: 4000, Loss: 0.03959468520452031\n",
      "Iteration: 5000, Loss: 0.03532823346437119\n",
      "Iteration: 6000, Loss: 0.03220510695663773\n",
      "Iteration: 7000, Loss: 0.029788509060093733\n",
      "Iteration: 8000, Loss: 0.027844195379445717\n",
      "Iteration: 9000, Loss: 0.026233966046744092\n"
     ]
    }
   ],
   "source": [
    "green, blue, red = generate_data(30)\n",
    "X = np.concatenate((green, blue, red), axis=0)\n",
    "X = np.c_[X, np.ones(len(X))]\n",
    "y_green = np.array([[1, 0, 0]] * len(green))\n",
    "y_blue = np.array([[0, 1, 0]] * len(blue))\n",
    "y_red = np.array([[0, 0, 1]] * len(red))\n",
    "y = np.concatenate((y_green, y_blue, y_red), axis=0)\n",
    "\n",
    "W = softmax_train(X, y, 0.01, 10000)"
   ]
  },
  {
   "cell_type": "code",
   "execution_count": 5,
   "metadata": {},
   "outputs": [
    {
     "data": {
      "image/png": "[encoded data removed]",
      "text/plain": [
       "<Figure size 640x480 with 1 Axes>"
      ]
     },
     "metadata": {},
     "output_type": "display_data"
    }
   ],
   "source": [
    "plot_samples(green, blue, red)\n",
    "# plot_decision_boundary(-4, 4, -4, 4, W)"
   ]
  }
 ],
 "metadata": {
  "kernelspec": {
   "display_name": "myenv",
   "language": "python",
   "name": "python3"
  },
  "language_info": {
   "codemirror_mode": {
    "name": "ipython",
    "version": 3
   },
   "file_extension": ".py",
   "mimetype": "text/x-python",
   "name": "python",
   "nbconvert_exporter": "python",
   "pygments_lexer": "ipython3",
   "version": "3.9.19"
  }
 },
 "nbformat": 4,
 "nbformat_minor": 2
}
