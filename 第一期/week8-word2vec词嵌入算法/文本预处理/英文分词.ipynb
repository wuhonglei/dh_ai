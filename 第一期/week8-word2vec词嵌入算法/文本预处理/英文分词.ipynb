{
 "cells": [
  {
   "cell_type": "code",
   "execution_count": 4,
   "metadata": {},
   "outputs": [
    {
     "data": {
      "text/plain": [
       "[':-)©']"
      ]
     },
     "execution_count": 4,
     "metadata": {},
     "output_type": "execute_result"
    }
   ],
   "source": [
    "str = ':-) ©'\n",
    "str.split()"
   ]
  },
  {
   "cell_type": "code",
   "execution_count": 5,
   "metadata": {},
   "outputs": [
    {
     "name": "stdout",
     "output_type": "stream",
     "text": [
      "['Hello,', 'world!', \"I'm\", 'learning', 'NLP.']\n"
     ]
    }
   ],
   "source": [
    "text = \"Hello, world! I'm learning NLP.\"\n",
    "tokens = text.split()\n",
    "print(tokens)"
   ]
  },
  {
   "cell_type": "code",
   "execution_count": 8,
   "metadata": {},
   "outputs": [
    {
     "name": "stdout",
     "output_type": "stream",
     "text": [
      "['Hello', 'world', \"I'm\", 'learning', 'NLP', 'mother', 'in', 'law']\n"
     ]
    }
   ],
   "source": [
    "import re\n",
    "\n",
    "text = \"Hello, world! I'm learning NLP. mother-in-law\"\n",
    "# 使用正则表达式匹配单词和缩写\n",
    "tokens = re.findall(r\"\\b\\w+(?:'\\w+)?\\b\", text)\n",
    "print(tokens)\n",
    "# 输出：['Hello', 'world', \"I'm\", 'learning', 'NLP']"
   ]
  },
  {
   "cell_type": "code",
   "execution_count": 9,
   "metadata": {},
   "outputs": [
    {
     "name": "stdout",
     "output_type": "stream",
     "text": [
      "['Hello', ',', 'world', '!', 'I', \"'m\", 'learning', 'NLP', '.']\n"
     ]
    },
    {
     "name": "stderr",
     "output_type": "stream",
     "text": [
      "[nltk_data] Downloading package punkt to\n",
      "[nltk_data]     /Users/honglei.wu/nltk_data...\n",
      "[nltk_data]   Package punkt is already up-to-date!\n"
     ]
    }
   ],
   "source": [
    "import nltk\n",
    "from nltk.tokenize import word_tokenize\n",
    "\n",
    "nltk.download('punkt')\n",
    "text = \"Hello, world! I'm learning NLP.\"\n",
    "tokens = word_tokenize(text)\n",
    "print(tokens)"
   ]
  },
  {
   "cell_type": "code",
   "execution_count": 24,
   "metadata": {},
   "outputs": [
    {
     "data": {
      "text/plain": [
       "['Hello', ',', 'world', '!', 'I', \"'m\", 'learning', 'NLP', '.']"
      ]
     },
     "execution_count": 24,
     "metadata": {},
     "output_type": "execute_result"
    }
   ],
   "source": [
    "import spacy\n",
    "\n",
    "# 加载英语模型\n",
    "nlp = spacy.load(\"en_core_web_sm\")\n",
    "\n",
    "text = \"Hello, world! I'm learning NLP.\"\n",
    "doc = nlp(text)\n",
    "\n",
    "tokens = [token.text for token in doc]\n",
    "tokens"
   ]
  },
  {
   "cell_type": "code",
   "execution_count": 25,
   "metadata": {},
   "outputs": [
    {
     "name": "stdout",
     "output_type": "stream",
     "text": [
      "This is a sample text.\n",
      "It contains multiple sentences.\n",
      "How can we split them?\n"
     ]
    }
   ],
   "source": [
    "import nltk\n",
    "\n",
    "text = \"This is a sample text. It contains multiple sentences. How can we split them?\"\n",
    "sentences = nltk.sent_tokenize(text)\n",
    "\n",
    "for sentence in sentences:\n",
    "    print(sentence)"
   ]
  },
  {
   "cell_type": "code",
   "execution_count": null,
   "metadata": {},
   "outputs": [],
   "source": [
    "import nltk\n",
    "from nltk.tokenize import word_tokenize\n",
    "\n",
    "nltk.download('punkt')\n",
    "\n",
    "text = \"Don't hesitate to ask questions. It's a good practice!\"\n",
    "tokens = word_tokenize(text)\n",
    "print(tokens)\n",
    "# 输出：['Do', \"n't\", 'hesitate', 'to', 'ask', 'questions', '.', 'It', \"'s\", 'a', 'good', 'practice', '!']"
   ]
  },
  {
   "cell_type": "code",
   "execution_count": 26,
   "metadata": {},
   "outputs": [
    {
     "name": "stdout",
     "output_type": "stream",
     "text": [
      "['She', 'is', 'my', 'mother-in-law', '.']\n"
     ]
    }
   ],
   "source": [
    "import nltk\n",
    "from nltk.tokenize import word_tokenize\n",
    "\n",
    "text = \"She is my mother-in-law.\"\n",
    "tokens = word_tokenize(text)\n",
    "print(tokens)\n",
    "# 输出：['She', 'is', 'my', 'mother-in-law', '.']"
   ]
  },
  {
   "cell_type": "code",
   "execution_count": 42,
   "metadata": {},
   "outputs": [
    {
     "data": {
      "text/plain": [
       "['The', 'price', 'is', '-5.50', 'or', '50', 'off']"
      ]
     },
     "execution_count": 42,
     "metadata": {},
     "output_type": "execute_result"
    }
   ],
   "source": [
    "import nltk\n",
    "from nltk.tokenize import word_tokenize\n",
    "\n",
    "from typing import AnyStr\n",
    "\n",
    "\n",
    "def custom_token(text: str) -> list[str]:\n",
    "    return re.findall(r\"(?:\\-)?\\d+(?:\\.(?:\\d+)?)?|\\b\\w+(?:'\\w+)?\\b\", text)\n",
    "\n",
    "\n",
    "text = \"The price is $-5.50 or 50% off.\"\n",
    "tokens = word_tokenize(text)\n",
    "custom_token(text)\n",
    "# 输出：['The', 'price', 'is', '$', '5.50', 'or', '50', '%', 'off', '.']"
   ]
  },
  {
   "cell_type": "code",
   "execution_count": 45,
   "metadata": {},
   "outputs": [
    {
     "name": "stdout",
     "output_type": "stream",
     "text": [
      "[\"Don't\", 'hesitate', 'to', 'ask', 'questions', 'about', \"mother-in-law's\", 'health', '.']\n"
     ]
    }
   ],
   "source": [
    "from nltk.tokenize import RegexpTokenizer\n",
    "\n",
    "# 定义自定义的正则表达式\n",
    "tokenizer = RegexpTokenizer(r\"\\w+[-']\\w+|\\w+|\\$[\\d\\.]+|\\S+\")\n",
    "\n",
    "\n",
    "def custom_token(text: str) -> list[str]:\n",
    "    return re.findall(r\"\\w+(?:[-']\\w+)+|\\w+|\\$[\\d\\.]+|\\S+\", text)\n",
    "\n",
    "\n",
    "text = \"Don't hesitate to ask questions about mother-in-law's health.\"\n",
    "tokens = custom_token(text)\n",
    "print(tokens)\n",
    "# 输出：[\"Don't\", 'hesitate', 'to', 'ask', 'questions', 'about', \"mother-in-law's\", 'health', '.']"
   ]
  },
  {
   "cell_type": "code",
   "execution_count": 54,
   "metadata": {},
   "outputs": [
    {
     "data": {
      "text/plain": [
       "[('1', '23'), ('4', '56')]"
      ]
     },
     "execution_count": 54,
     "metadata": {},
     "output_type": "execute_result"
    }
   ],
   "source": [
    "text = \"abc123def456\"\n",
    "pattern = r'(\\d)(\\d+)'\n",
    "result = re.findall(pattern, text)\n",
    "result"
   ]
  }
 ],
 "metadata": {
  "kernelspec": {
   "display_name": "myenv",
   "language": "python",
   "name": "python3"
  },
  "language_info": {
   "codemirror_mode": {
    "name": "ipython",
    "version": 3
   },
   "file_extension": ".py",
   "mimetype": "text/x-python",
   "name": "python",
   "nbconvert_exporter": "python",
   "pygments_lexer": "ipython3",
   "version": "3.10.12"
  }
 },
 "nbformat": 4,
 "nbformat_minor": 2
}
