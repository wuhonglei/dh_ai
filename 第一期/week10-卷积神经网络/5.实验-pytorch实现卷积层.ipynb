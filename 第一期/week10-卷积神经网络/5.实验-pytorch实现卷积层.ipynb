{
 "cells": [
  {
   "cell_type": "code",
   "execution_count": 33,
   "metadata": {},
   "outputs": [],
   "source": [
    "import torch\n",
    "import torch.nn as nn\n",
    "\n",
    "\"\"\"\n",
    "创建一个卷积层\n",
    "卷积层的输入通道数为1，输出通道数为6，卷积核大小为5\n",
    "\"\"\"\n",
    "conv = nn.Conv2d(in_channels=3, out_channels=5,\n",
    "                 kernel_size=3, stride=3, padding=1)\n",
    "\n",
    "\"\"\"\n",
    "创建 10 个输入数据\n",
    "每个数据的形状为 1x8x8\n",
    "\"\"\"\n",
    "x = torch.randn(5, 3, 4, 4)\n",
    "\n",
    "out = conv(x)"
   ]
  },
  {
   "cell_type": "code",
   "execution_count": 36,
   "metadata": {},
   "outputs": [
    {
     "name": "stdout",
     "output_type": "stream",
     "text": [
      "torch.Size([5, 3, 3, 3])\n",
      "torch.Size([5])\n"
     ]
    }
   ],
   "source": [
    "for p in conv.parameters():\n",
    "    print(p.shape)"
   ]
  },
  {
   "cell_type": "code",
   "execution_count": 56,
   "metadata": {},
   "outputs": [
    {
     "name": "stdout",
     "output_type": "stream",
     "text": [
      "torch.Size([5, 10, 6, 6])\n"
     ]
    }
   ],
   "source": [
    "import torch.nn.functional as F\n",
    "import torch\n",
    "import torch.nn as nn\n",
    "\n",
    "w = torch.ones(10, 3, 3, 3)\n",
    "x = torch.randn(5, 3, 8, 8)\n",
    "\n",
    "\n",
    "out = F.conv2d(x, w)\n",
    "print(out.shape)"
   ]
  },
  {
   "cell_type": "code",
   "execution_count": 65,
   "metadata": {},
   "outputs": [
    {
     "data": {
      "text/plain": [
       "(tensor([[[[0.2616, 0.3641, 0.3980, 0.3635],\n",
       "           [0.2990, 0.7144, 0.4138, 0.7864],\n",
       "           [0.9171, 0.1197, 0.8857, 0.8748],\n",
       "           [0.4742, 0.6090, 0.2201, 0.5415]]]]),\n",
       " tensor([[[[0.4098, 0.4904],\n",
       "           [0.5300, 0.6305]]]]))"
      ]
     },
     "execution_count": 65,
     "metadata": {},
     "output_type": "execute_result"
    }
   ],
   "source": [
    "import torch.nn.functional as F\n",
    "import torch\n",
    "import torch.nn as nn\n",
    "\n",
    "pool = nn.MaxPool2d(2)\n",
    "# 5 组样本，每组样本 3 个通道，8x8 的图像\n",
    "x = torch.rand(1, 1, 4, 4)\n",
    "\n",
    "out = pool(x)\n",
    "\n",
    "x, F.avg_pool2d(x, 2)"
   ]
  }
 ],
 "metadata": {
  "kernelspec": {
   "display_name": "myenv",
   "language": "python",
   "name": "python3"
  },
  "language_info": {
   "codemirror_mode": {
    "name": "ipython",
    "version": 3
   },
   "file_extension": ".py",
   "mimetype": "text/x-python",
   "name": "python",
   "nbconvert_exporter": "python",
   "pygments_lexer": "ipython3",
   "version": "3.10.12"
  }
 },
 "nbformat": 4,
 "nbformat_minor": 2
}
