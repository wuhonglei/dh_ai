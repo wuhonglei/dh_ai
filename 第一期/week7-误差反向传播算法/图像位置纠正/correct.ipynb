{
 "cells": [
  {
   "cell_type": "code",
   "execution_count": 64,
   "metadata": {},
   "outputs": [
    {
     "name": "stdout",
     "output_type": "stream",
     "text": [
      "(28, 28)\n",
      "(28, 28)\n",
      "(28, 28)\n",
      "(28, 28)\n",
      "(28, 28)\n",
      "(28, 28)\n",
      "(28, 28)\n",
      "(28, 28)\n",
      "(28, 28)\n",
      "(28, 28)\n"
     ]
    }
   ],
   "source": [
    "import os\n",
    "import numpy as np\n",
    "from PIL import Image\n",
    "\n",
    "\n",
    "def get_pixel_range(img, axis):\n",
    "    data = np.where(img.sum(axis=axis) > 0)[0]\n",
    "    return data[0], data[-1]\n",
    "\n",
    "\n",
    "def center_img(img):\n",
    "    \"\"\"\n",
    "    提取图片中的有效像素并放置到 28*28 的画布中央\n",
    "    \"\"\"\n",
    "    left, right = get_pixel_range(img, axis=0)\n",
    "    top, bottom = get_pixel_range(img, axis=1)\n",
    "    img = img[top:bottom+1, left:right+1]\n",
    "    h, w = img.shape\n",
    "    new_image = np.full((28, 28), 0, dtype=np.uint8)\n",
    "    print(new_image.shape)\n",
    "    row_start = (28 - h) // 2\n",
    "    col_start = (28 - w) // 2\n",
    "    new_image[row_start:row_start+h, col_start:col_start+w] = img\n",
    "    return new_image\n",
    "\n",
    "\n",
    "for img in os.listdir('./data'):\n",
    "    img_path = os.path.join('./data', img)\n",
    "    img = Image.open(img_path)\n",
    "    img = img.resize((28, 28))\n",
    "    img = img.convert('L')\n",
    "    img = np.array(img)\n",
    "    new_img = center_img(img)\n",
    "    new_img = Image.fromarray(new_img)\n",
    "    # 显示图片\n",
    "    new_img.show()\n",
    "    # break"
   ]
  },
  {
   "cell_type": "code",
   "execution_count": 28,
   "metadata": {},
   "outputs": [
    {
     "name": "stdout",
     "output_type": "stream",
     "text": [
      "[   0    0    0    0    0    0  854 1805 1617 1839 4292 3995 2667 2684\n",
      " 1645 1228 1374 1844 1697  569    0    0    0    0    0    0    0    0]\n",
      "1645\n"
     ]
    },
    {
     "data": {
      "text/plain": [
       "(0.0, 284.5, 1724.0)"
      ]
     },
     "execution_count": 28,
     "metadata": {},
     "output_type": "execute_result"
    }
   ],
   "source": [
    "data = img.sum(axis=0)\n",
    "print(data)\n",
    "print(data[14])\n",
    "np.percentile(data, 25), np.percentile(data, 50), np.percentile(data, 75)"
   ]
  },
  {
   "cell_type": "code",
   "execution_count": 3,
   "metadata": {},
   "outputs": [
    {
     "data": {
      "text/plain": [
       "(2, 2)"
      ]
     },
     "execution_count": 3,
     "metadata": {},
     "output_type": "execute_result"
    }
   ],
   "source": [
    "import numpy as np\n",
    "\n",
    "a = np.array([\n",
    "    [1, 2],\n",
    "    [3, 5]\n",
    "])\n",
    "\n",
    "np.array(a).shape"
   ]
  }
 ],
 "metadata": {
  "kernelspec": {
   "display_name": "myenv",
   "language": "python",
   "name": "python3"
  },
  "language_info": {
   "codemirror_mode": {
    "name": "ipython",
    "version": 3
   },
   "file_extension": ".py",
   "mimetype": "text/x-python",
   "name": "python",
   "nbconvert_exporter": "python",
   "pygments_lexer": "ipython3",
   "version": "3.9.19"
  }
 },
 "nbformat": 4,
 "nbformat_minor": 2
}
