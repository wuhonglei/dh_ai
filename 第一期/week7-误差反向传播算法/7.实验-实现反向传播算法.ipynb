{
 "cells": [
  {
   "cell_type": "code",
   "execution_count": 68,
   "metadata": {},
   "outputs": [],
   "source": [
    "import numpy as np\n",
    "\n",
    "\n",
    "def create_network(layers: list[int]):\n",
    "    \"\"\"\n",
    "    创建神经网络的权重矩阵和偏置向量\n",
    "    \"\"\"\n",
    "    network = []\n",
    "    bias = []\n",
    "    for i in range(1, len(layers)):\n",
    "        network.append(np.random.random((layers[i], layers[i-1])))\n",
    "        bias.append(np.random.random(layers[i]).reshape(-1, 1))\n",
    "\n",
    "    return network, bias\n",
    "\n",
    "\n",
    "def sigmoid(x):\n",
    "    return 1 / (1 + np.exp(-x))\n",
    "\n",
    "\n",
    "def forward(network, bias, X):\n",
    "    \"\"\"\n",
    "    前向传播\n",
    "    \"\"\"\n",
    "    z = [X]\n",
    "    a = [X]\n",
    "    for i in range(len(network)):\n",
    "        X = np.dot(network[i], X) + bias[i]\n",
    "        z.append(X)\n",
    "        if i != len(network) - 1:\n",
    "            X = sigmoid(X)\n",
    "        a.append(X)\n",
    "    return z, a\n",
    "\n",
    "\n",
    "def sigmoid_gradient(a):\n",
    "    return a * (1 - a)\n",
    "\n",
    "\n",
    "def backward(network, A, y):\n",
    "    \"\"\"\n",
    "    反向传播\n",
    "    \"\"\"\n",
    "    layers = len(network)\n",
    "    delta = [0] * layers\n",
    "    delta[layers - 1] = A[layers] - y  # 输出层的误差\n",
    "    gradient_W = [0] * layers\n",
    "    gradient_B = [0] * layers\n",
    "    for i in range(layers - 2, -1, -1):\n",
    "        delta[i] = np.dot(network[i + 1].T, delta[i + 1]) * \\\n",
    "            sigmoid_gradient(A[i+1])\n",
    "    for i in range(layers):\n",
    "        gradient_W[i] = np.dot(delta[i], A[i].T)\n",
    "        gradient_B[i] = np.sum(\n",
    "            delta[i], axis=1, keepdims=True)  # 为什么这里是进行 sum 处理\n",
    "\n",
    "    return gradient_W, gradient_B\n",
    "\n",
    "\n",
    "def update_network(network, bias, gradient_W, gradient_B, learning_rate):\n",
    "    for i in range(len(network)):\n",
    "        network[i] -= learning_rate * gradient_W[i]\n",
    "        bias[i] -= learning_rate * gradient_B[i]\n",
    "\n",
    "\n",
    "def cost(y_hat, y):\n",
    "    \"\"\"\n",
    "    计算损失: 均方误差\n",
    "    \"\"\"\n",
    "    return np.mean(np.sum((y_hat - y) ** 2, axis=0))"
   ]
  },
  {
   "cell_type": "code",
   "execution_count": 81,
   "metadata": {},
   "outputs": [
    {
     "name": "stdout",
     "output_type": "stream",
     "text": [
      "60.15245913604033\n",
      "5.031882064240068\n",
      "2.134647929772716\n",
      "0.8230186614758179\n",
      "0.297078516390168\n",
      "0.15731222236215592\n",
      "0.10364883120684924\n",
      "0.07467090032896863\n",
      "0.06650365336082825\n",
      "0.04444305543410277\n"
     ]
    }
   ],
   "source": [
    "import numpy as np\n",
    "import matplotlib.pyplot as plt\n",
    "\n",
    "X = np.arange(0, 1, 0.01).reshape(1, -1)\n",
    "Y = 10 * np.sin(2 * np.pi * X)\n",
    "\n",
    "network, bias = create_network([1, 10, 1])\n",
    "alpha = 0.001\n",
    "\n",
    "for i in range(10000):\n",
    "    Z, A = forward(network, bias, X)\n",
    "    gradient_W, gradient_B = backward(network, A, Y)\n",
    "    update_network(network, bias, gradient_W, gradient_B, alpha)\n",
    "    if i % 1000 == 0:\n",
    "        y_hat = A[-1]\n",
    "        print(cost(y_hat, Y))"
   ]
  },
  {
   "cell_type": "code",
   "execution_count": 80,
   "metadata": {},
   "outputs": [
    {
     "data": {
      "text/plain": [
       "<matplotlib.collections.PathCollection at 0x1242f9370>"
      ]
     },
     "execution_count": 80,
     "metadata": {},
     "output_type": "execute_result"
    },
    {
     "data": {
      "image/png": "[encoded data removed]",
      "text/plain": [
       "<Figure size 640x480 with 1 Axes>"
      ]
     },
     "metadata": {},
     "output_type": "display_data"
    }
   ],
   "source": [
    "plt.scatter(X, Y, color='blue')\n",
    "plt.scatter(X, y_hat, color='red')"
   ]
  }
 ],
 "metadata": {
  "kernelspec": {
   "display_name": "myenv",
   "language": "python",
   "name": "python3"
  },
  "language_info": {
   "codemirror_mode": {
    "name": "ipython",
    "version": 3
   },
   "file_extension": ".py",
   "mimetype": "text/x-python",
   "name": "python",
   "nbconvert_exporter": "python",
   "pygments_lexer": "ipython3",
   "version": "3.9.19"
  }
 },
 "nbformat": 4,
 "nbformat_minor": 2
}
