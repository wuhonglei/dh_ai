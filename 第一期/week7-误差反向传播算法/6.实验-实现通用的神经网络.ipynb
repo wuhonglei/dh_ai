{
 "cells": [
  {
   "cell_type": "code",
   "execution_count": 23,
   "metadata": {},
   "outputs": [
    {
     "data": {
      "text/plain": [
       "array([[0.31682708, 0.32882937, 0.33376622],\n",
       "       [0.69627909, 0.72300564, 0.7339522 ]])"
      ]
     },
     "execution_count": 23,
     "metadata": {},
     "output_type": "execute_result"
    }
   ],
   "source": [
    "import numpy as np\n",
    "\n",
    "\n",
    "def create_network(layers: list[int]):\n",
    "    \"\"\"\n",
    "    创建神经网络的权重矩阵和偏置向量\n",
    "    \"\"\"\n",
    "    network = []\n",
    "    bias = []\n",
    "    for i in range(1, len(layers)):\n",
    "        network.append(np.random.random((layers[i], layers[i-1])))\n",
    "        bias.append(np.random.random(layers[i]).reshape(-1, 1))\n",
    "\n",
    "    return network, bias\n",
    "\n",
    "\n",
    "def sigmoid(x):\n",
    "    return 1 / (1 + np.exp(-x))\n",
    "\n",
    "\n",
    "def forward(network, bias, X):\n",
    "    \"\"\"\n",
    "    前向传播\n",
    "    \"\"\"\n",
    "    for i in range(len(network)):\n",
    "        X = np.dot(network[i], X) + bias[i]\n",
    "        if i != len(network) - 1:\n",
    "            X = sigmoid(X)\n",
    "    return X\n",
    "\n",
    "\n",
    "\"\"\"\n",
    "网络结构 2 * 3 * 2 * 2\n",
    "\"\"\"\n",
    "network = [\n",
    "    np.array([\n",
    "        [0.1, 0.2],\n",
    "        [0.3, 0.4],\n",
    "        [0.5, 0.6]\n",
    "    ]),\n",
    "    np.array([\n",
    "        [0.1, 0.2, 0.3],\n",
    "        [0.4, 0.5, 0.6]\n",
    "    ]),\n",
    "    np.array([\n",
    "        [0.1, 0.2],\n",
    "        [0.3, 0.4]\n",
    "    ])\n",
    "]\n",
    "bias = [\n",
    "    np.array([0.1, 0.2, 0.3]).reshape(-1, 1),\n",
    "    np.array([0.1, 0.2]).reshape(-1, 1),\n",
    "    np.array([0.1, 0.2]).reshape(-1, 1)\n",
    "]\n",
    "\n",
    "X = np.array([\n",
    "    [1.0, 0.5],\n",
    "    [2.0, 3.0],\n",
    "    [5.0, 6.0]\n",
    "])\n",
    "\n",
    "forward(network, bias, X.T)"
   ]
  },
  {
   "cell_type": "code",
   "execution_count": 14,
   "metadata": {},
   "outputs": [
    {
     "data": {
      "text/plain": [
       "array([0.86935514])"
      ]
     },
     "execution_count": 14,
     "metadata": {},
     "output_type": "execute_result"
    }
   ],
   "source": [
    "np.random.random(1)"
   ]
  }
 ],
 "metadata": {
  "kernelspec": {
   "display_name": "myenv",
   "language": "python",
   "name": "python3"
  },
  "language_info": {
   "codemirror_mode": {
    "name": "ipython",
    "version": 3
   },
   "file_extension": ".py",
   "mimetype": "text/x-python",
   "name": "python",
   "nbconvert_exporter": "python",
   "pygments_lexer": "ipython3",
   "version": "3.9.19"
  }
 },
 "nbformat": 4,
 "nbformat_minor": 2
}
