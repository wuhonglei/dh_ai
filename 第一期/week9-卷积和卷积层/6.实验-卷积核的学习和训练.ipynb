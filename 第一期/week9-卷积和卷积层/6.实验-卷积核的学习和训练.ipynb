{
 "cells": [
  {
   "cell_type": "code",
   "execution_count": 28,
   "metadata": {},
   "outputs": [],
   "source": [
    "import torch\n",
    "import torch.nn as nn\n",
    "\n",
    "def correlation2d(X, K):\n",
    "  \"\"\"\n",
    "  互相关运算\n",
    "  X 是输入数据\n",
    "  K 是卷积核\n",
    "  \"\"\"\n",
    "  kh, kw = K.shape\n",
    "  xh, xw = X.shape\n",
    "  output = torch.zeros((xh-kh+1, xw-kw+1), dtype=torch.float)\n",
    "  for r_index in range(xh):\n",
    "    for c_index in range(xw):\n",
    "      if r_index+kh > xh or c_index+kw > xw:\n",
    "        break\n",
    "      sum = (X[r_index:r_index+kh,\n",
    "                     c_index:c_index+kw] * K).sum()\n",
    "      output[r_index, c_index] = sum\n",
    "\n",
    "  return output\n",
    "\n",
    "\n",
    "class Conv2d(nn.Module):\n",
    "  def __init__(self, kernel_size):\n",
    "    super(Conv2d, self).__init__()\n",
    "    kernel = torch.rand(kernel_size)\n",
    "    self.weight = nn.Parameter(kernel)\n",
    "\n",
    "  def forward(self, x):\n",
    "    \"\"\"\n",
    "    计算 X 和参数 weight 的互相关运算 \n",
    "    \"\"\"\n",
    "    return correlation2d(x, self.weight)"
   ]
  },
  {
   "cell_type": "code",
   "execution_count": 32,
   "metadata": {},
   "outputs": [
    {
     "data": {
      "image/png": "[encoded data removed]",
      "text/plain": [
       "<Figure size 640x480 with 1 Axes>"
      ]
     },
     "metadata": {},
     "output_type": "display_data"
    },
    {
     "name": "stdout",
     "output_type": "stream",
     "text": [
      "iteration 0, loss 7087836.0\n",
      "iteration 1000, loss 27234.2421875\n",
      "iteration 2000, loss 4975.79345703125\n",
      "iteration 3000, loss 910.1537475585938\n",
      "iteration 4000, loss 166.4917755126953\n",
      "iteration 5000, loss 30.461292266845703\n",
      "iteration 6000, loss 5.57565975189209\n",
      "iteration 7000, loss 1.0213292837142944\n",
      "iteration 8000, loss 0.1874038428068161\n",
      "iteration 9000, loss 0.03484950587153435\n"
     ]
    }
   ],
   "source": [
    "import torch\n",
    "import matplotlib.pyplot as plt\n",
    "\n",
    "# 设置一个数组img，其中保存的数据代表了图像中的像素。\n",
    "img = torch.tensor([[0, 0, 0, 0, 0, 0, 0, 0, 0, 0, 0, 0],\n",
    "                [0, 0, 0, 0, 0, 0, 0, 0, 0, 0, 0, 0],\n",
    "                [0, 0, 0, 0, 0, 0, 0, 0, 0, 0, 0, 0],\n",
    "                [0, 0, 0, 100, 100, 100, 100, 100, 100, 0, 0, 0],\n",
    "                [0, 0, 0, 100, 100, 100, 100, 100, 100, 0, 0, 0],\n",
    "                [0, 0, 0, 100, 100, 100, 100, 100, 100, 0, 0, 0],\n",
    "                [0, 0, 0, 100, 100, 100, 100, 100, 100, 0, 0, 0],\n",
    "                [0, 0, 0, 100, 100, 100, 100, 100, 100, 0, 0, 0],\n",
    "                [0, 0, 0, 100, 100, 100, 100, 100, 100, 0, 0, 0],\n",
    "                [0, 0, 0, 0, 0, 0, 0, 0, 0, 0, 0, 0],\n",
    "                [0, 0, 0, 0, 0, 0, 0, 0, 0, 0, 0, 0],\n",
    "                [0, 0, 0, 0, 0, 0, 0, 0, 0, 0, 0, 0]], dtype=torch.float)\n",
    "plt.imshow(img)  # 将它展示在面板中\n",
    "plt.show()\n",
    "\n",
    "# 卷积核kernel，通过该数组可以将图像的边缘显示出来\n",
    "# 拉普拉斯算子，它可以将相同值的一片数据计算为0\n",
    "kernel = torch.tensor([[-1, -1, -1],\n",
    "                   [-1,  8, -1],\n",
    "                   [-1, -1, -1]], dtype=torch.float)\n",
    "\n",
    "Y = correlation2d(img, kernel)\n",
    "# plt.imshow(Y)\n",
    "\n",
    "conv2d = Conv2d(kernel_size=(3, 3))\n",
    "lr = 1e-7\n",
    "iteration = 10000\n",
    "\n",
    "for i in range(iteration):\n",
    "  Y_hat = conv2d(img)\n",
    "  conv2d.zero_grad()\n",
    "  l = ((Y_hat - Y) ** 2).sum()\n",
    "  l.backward()\n",
    "  conv2d.weight.data -= lr * conv2d.weight.grad\n",
    "  if i % 1000 == 0:\n",
    "    print(f'iteration {i}, loss {l.item()}')"
   ]
  },
  {
   "cell_type": "code",
   "execution_count": 34,
   "metadata": {},
   "outputs": [
    {
     "data": {
      "text/plain": [
       "<matplotlib.image.AxesImage at 0x122ed1e10>"
      ]
     },
     "execution_count": 34,
     "metadata": {},
     "output_type": "execute_result"
    },
    {
     "data": {
      "image/png": "[encoded data removed]",
      "text/plain": [
       "<Figure size 640x480 with 1 Axes>"
      ]
     },
     "metadata": {},
     "output_type": "display_data"
    }
   ],
   "source": [
    "conv2d.eval()\n",
    "Y_hat = conv2d(img)\n",
    "plt.imshow(Y_hat.detach().numpy())"
   ]
  },
  {
   "cell_type": "code",
   "execution_count": 35,
   "metadata": {},
   "outputs": [
    {
     "data": {
      "text/plain": [
       "Parameter containing:\n",
       "tensor([[-1.0002, -0.9996, -1.0002],\n",
       "        [-0.9996,  7.9992, -0.9996],\n",
       "        [-1.0002, -0.9996, -1.0002]], requires_grad=True)"
      ]
     },
     "execution_count": 35,
     "metadata": {},
     "output_type": "execute_result"
    }
   ],
   "source": [
    "conv2d.weight"
   ]
  }
 ],
 "metadata": {
  "kernelspec": {
   "display_name": "myenv",
   "language": "python",
   "name": "python3"
  },
  "language_info": {
   "codemirror_mode": {
    "name": "ipython",
    "version": 3
   },
   "file_extension": ".py",
   "mimetype": "text/x-python",
   "name": "python",
   "nbconvert_exporter": "python",
   "pygments_lexer": "ipython3",
   "version": "3.10.12"
  }
 },
 "nbformat": 4,
 "nbformat_minor": 2
}
