{
 "cells": [
  {
   "cell_type": "code",
   "execution_count": 5,
   "metadata": {},
   "outputs": [
    {
     "name": "stdout",
     "output_type": "stream",
     "text": [
      "x is :-1.9999999959594266, min value is :1.0\n"
     ]
    }
   ],
   "source": [
    "def j(x): return x ** 2 + 4 * x + 5  # 损失函数\n",
    "def grad_j(x): return 2 * x + 4  # 损失函数的梯度\n",
    "\n",
    "\n",
    "x = 0  # 初始值\n",
    "lr = 0.001  # 学习率\n",
    "\n",
    "for i in range(10000):\n",
    "    x = x - lr * grad_j(x)\n",
    "\n",
    "print(f'x is :{x}, min value is :{j(x)}')"
   ]
  }
 ],
 "metadata": {
  "kernelspec": {
   "display_name": "myenv",
   "language": "python",
   "name": "python3"
  },
  "language_info": {
   "codemirror_mode": {
    "name": "ipython",
    "version": 3
   },
   "file_extension": ".py",
   "mimetype": "text/x-python",
   "name": "python",
   "nbconvert_exporter": "python",
   "pygments_lexer": "ipython3",
   "version": "3.9.19"
  }
 },
 "nbformat": 4,
 "nbformat_minor": 2
}
