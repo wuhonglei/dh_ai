{
 "cells": [
  {
   "cell_type": "code",
   "execution_count": null,
   "metadata": {},
   "outputs": [
    {
     "data": {
      "text/plain": [
       "'0'"
      ]
     },
     "execution_count": 9,
     "metadata": {},
     "output_type": "execute_result"
    }
   ],
   "source": [
    "from functools import cmp_to_key\n",
    "from typing import List\n",
    "\n",
    "class Solution:\n",
    "    def largestNumber(self, nums: List[int]) -> str:\n",
    "      if self.is_all_zero(nums):\n",
    "        return \"0\"\n",
    "\n",
    "      sorted_nums = self.sort_nums(nums)\n",
    "      return self.concat_nums(sorted_nums)\n",
    "\n",
    "    def sort_nums(self, nums: List[int]) -> List[int]:\n",
    "      return sorted(nums, key=cmp_to_key(self.compare), reverse=True)\n",
    "\n",
    "    def compare(self, x: int, y: int) -> int:\n",
    "      str_x = str(x)\n",
    "      str_y = str(y)\n",
    "      str_concat_num1 = str_x + str_y\n",
    "      str_concat_num2 = str_y + str_x\n",
    "      return self.compare_two_nums(str_concat_num1, str_concat_num2)\n",
    "      \n",
    "    def compare_two_nums(self, x: str, y: str) -> int:\n",
    "      i = 0\n",
    "      while i < len(x) and i < len(y):\n",
    "        if x[i] > y[i]:\n",
    "          return 1\n",
    "        elif x[i] < y[i]:\n",
    "          return -1\n",
    "        i += 1\n",
    "      return 0\n",
    "\n",
    "    def concat_nums(self, nums: List[int]) -> str:\n",
    "      return \"\".join(map(str, nums))\n",
    "\n",
    "    def is_all_zero(self, nums: List[int]) -> bool:\n",
    "      return all(num == 0 for num in nums)\n",
    "\n",
    "# sol = Solution()\n",
    "# sol.largestNumber([0,0])"
   ]
  },
  {
   "cell_type": "code",
   "execution_count": 3,
   "metadata": {},
   "outputs": [
    {
     "ename": "IndexError",
     "evalue": "string index out of range",
     "output_type": "error",
     "traceback": [
      "\u001b[0;31m---------------------------------------------------------------------------\u001b[0m",
      "\u001b[0;31mIndexError\u001b[0m                                Traceback (most recent call last)",
      "Cell \u001b[0;32mIn[3], line 2\u001b[0m\n\u001b[1;32m      1\u001b[0m a \u001b[38;5;241m=\u001b[39m \u001b[38;5;124m'\u001b[39m\u001b[38;5;124mstr\u001b[39m\u001b[38;5;124m'\u001b[39m\n\u001b[0;32m----> 2\u001b[0m \u001b[43ma\u001b[49m\u001b[43m[\u001b[49m\u001b[38;5;241;43m3\u001b[39;49m\u001b[43m]\u001b[49m\n",
      "\u001b[0;31mIndexError\u001b[0m: string index out of range"
     ]
    }
   ],
   "source": [
    "a = 'str'\n",
    "a[3]"
   ]
  }
 ],
 "metadata": {
  "kernelspec": {
   "display_name": "Python 3",
   "language": "python",
   "name": "python3"
  },
  "language_info": {
   "codemirror_mode": {
    "name": "ipython",
    "version": 3
   },
   "file_extension": ".py",
   "mimetype": "text/x-python",
   "name": "python",
   "nbconvert_exporter": "python",
   "pygments_lexer": "ipython3",
   "version": "3.10.12"
  }
 },
 "nbformat": 4,
 "nbformat_minor": 2
}
