{
 "cells": [
  {
   "cell_type": "code",
   "execution_count": 3,
   "metadata": {},
   "outputs": [],
   "source": [
    "import json\n",
    "\n",
    "json_path = './result.json'\n",
    "with open(json_path) as f:\n",
    "    data = json.load(f)[0]"
   ]
  },
  {
   "cell_type": "code",
   "execution_count": 6,
   "metadata": {},
   "outputs": [
    {
     "data": {
      "text/plain": [
       "(37339, 27858.089576358947)"
      ]
     },
     "execution_count": 6,
     "metadata": {},
     "output_type": "execute_result"
    }
   ],
   "source": [
    "leaf_models = data['leaf_models']\n",
    "count = 0\n",
    "correct = 0\n",
    "for item in leaf_models:\n",
    "    count += item['test_length']\n",
    "    correct += item['test_length'] * item['precision']\n",
    "count, correct"
   ]
  },
  {
   "cell_type": "code",
   "execution_count": 4,
   "metadata": {},
   "outputs": [
    {
     "data": {
      "text/plain": [
       "{'column': 'remove_spacy_stop_words',\n",
       " 'top_level_precision': 0.8709660140871475,\n",
       " 'top_level_model_size': 32,\n",
       " 'top_level_train_time': 5.357496023178101,\n",
       " 'test_length': 37339,\n",
       " 'leaf_models': [{'level1_name': '100001',\n",
       "   'precision': 0.7788825757575758,\n",
       "   'model_size': 4,\n",
       "   'train_time': 0.45566487312316895,\n",
       "   'test_length': 2112},\n",
       "  {'level1_name': '100009',\n",
       "   'precision': 0.8245833333333333,\n",
       "   'model_size': 3,\n",
       "   'train_time': 0.45957088470458984,\n",
       "   'test_length': 2400},\n",
       "  {'level1_name': '100010',\n",
       "   'precision': 0.6617429837518464,\n",
       "   'model_size': 2,\n",
       "   'train_time': 0.2323000431060791,\n",
       "   'test_length': 677},\n",
       "  {'level1_name': '100011',\n",
       "   'precision': 0.7474916387959866,\n",
       "   'model_size': 1,\n",
       "   'train_time': 0.12216615676879883,\n",
       "   'test_length': 598},\n",
       "  {'level1_name': '100012',\n",
       "   'precision': 0.5,\n",
       "   'model_size': 0,\n",
       "   'train_time': 0.11616301536560059,\n",
       "   'test_length': 166},\n",
       "  {'level1_name': '100013',\n",
       "   'precision': 0.8713280926768722,\n",
       "   'model_size': 3,\n",
       "   'train_time': 0.4819366931915283,\n",
       "   'test_length': 2417},\n",
       "  {'level1_name': '100014',\n",
       "   'precision': 0.43884892086330934,\n",
       "   'model_size': 0,\n",
       "   'train_time': 0.11770915985107422,\n",
       "   'test_length': 280},\n",
       "  {'level1_name': '100015',\n",
       "   'precision': 0.7698630136986301,\n",
       "   'model_size': 1,\n",
       "   'train_time': 0.12274289131164551,\n",
       "   'test_length': 365},\n",
       "  {'level1_name': '100016',\n",
       "   'precision': 0.6869158878504673,\n",
       "   'model_size': 1,\n",
       "   'train_time': 0.12422919273376465,\n",
       "   'test_length': 429},\n",
       "  {'level1_name': '100017',\n",
       "   'precision': 0.8123529411764706,\n",
       "   'model_size': 2,\n",
       "   'train_time': 0.4609260559082031,\n",
       "   'test_length': 1701},\n",
       "  {'level1_name': '100532',\n",
       "   'precision': 0.8035714285714286,\n",
       "   'model_size': 0,\n",
       "   'train_time': 0.11886405944824219,\n",
       "   'test_length': 336},\n",
       "  {'level1_name': '100533',\n",
       "   'precision': 0.5813953488372093,\n",
       "   'model_size': 0,\n",
       "   'train_time': 0.11765408515930176,\n",
       "   'test_length': 129},\n",
       "  {'level1_name': '100534',\n",
       "   'precision': 0.777027027027027,\n",
       "   'model_size': 0,\n",
       "   'train_time': 0.1209869384765625,\n",
       "   'test_length': 148},\n",
       "  {'level1_name': '100535',\n",
       "   'precision': 0.9084158415841584,\n",
       "   'model_size': 1,\n",
       "   'train_time': 0.1284499168395996,\n",
       "   'test_length': 407},\n",
       "  {'level1_name': '100629',\n",
       "   'precision': 0.6098846787479407,\n",
       "   'model_size': 5,\n",
       "   'train_time': 1.2121860980987549,\n",
       "   'test_length': 3037},\n",
       "  {'level1_name': '100630',\n",
       "   'precision': 0.7723797780517879,\n",
       "   'model_size': 6,\n",
       "   'train_time': 1.4242479801177979,\n",
       "   'test_length': 4057},\n",
       "  {'level1_name': '100631',\n",
       "   'precision': 0.7621225983531564,\n",
       "   'model_size': 2,\n",
       "   'train_time': 0.23590898513793945,\n",
       "   'test_length': 1094},\n",
       "  {'level1_name': '100632',\n",
       "   'precision': 0.6951512241958714,\n",
       "   'model_size': 4,\n",
       "   'train_time': 0.7736849784851074,\n",
       "   'test_length': 2085},\n",
       "  {'level1_name': '100633',\n",
       "   'precision': 0.6836403033586133,\n",
       "   'model_size': 1,\n",
       "   'train_time': 0.33754777908325195,\n",
       "   'test_length': 927},\n",
       "  {'level1_name': '100634',\n",
       "   'precision': 0.785234899328859,\n",
       "   'model_size': 0,\n",
       "   'train_time': 0.11809825897216797,\n",
       "   'test_length': 150},\n",
       "  {'level1_name': '100635',\n",
       "   'precision': 0.36619718309859156,\n",
       "   'model_size': 0,\n",
       "   'train_time': 0.12050199508666992,\n",
       "   'test_length': 145},\n",
       "  {'level1_name': '100636',\n",
       "   'precision': 0.7733469231749267,\n",
       "   'model_size': 9,\n",
       "   'train_time': 3.6137778759002686,\n",
       "   'test_length': 7849},\n",
       "  {'level1_name': '100637',\n",
       "   'precision': 0.6582381729200653,\n",
       "   'model_size': 2,\n",
       "   'train_time': 0.4509110450744629,\n",
       "   'test_length': 1235},\n",
       "  {'level1_name': '100638',\n",
       "   'precision': 0.7982151710461081,\n",
       "   'model_size': 3,\n",
       "   'train_time': 0.46472716331481934,\n",
       "   'test_length': 2017},\n",
       "  {'level1_name': '100639',\n",
       "   'precision': 0.6888646288209607,\n",
       "   'model_size': 2,\n",
       "   'train_time': 0.23117589950561523,\n",
       "   'test_length': 916},\n",
       "  {'level1_name': '100640',\n",
       "   'precision': 0.5805168986083499,\n",
       "   'model_size': 1,\n",
       "   'train_time': 0.1252739429473877,\n",
       "   'test_length': 510},\n",
       "  {'level1_name': '100641',\n",
       "   'precision': 0.4318181818181818,\n",
       "   'model_size': 0,\n",
       "   'train_time': 0.11454176902770996,\n",
       "   'test_length': 93},\n",
       "  {'level1_name': '100642',\n",
       "   'precision': 0.6820276497695853,\n",
       "   'model_size': 0,\n",
       "   'train_time': 0.11878705024719238,\n",
       "   'test_length': 220},\n",
       "  {'level1_name': '100643',\n",
       "   'precision': 0.6018099547511312,\n",
       "   'model_size': 0,\n",
       "   'train_time': 0.12016892433166504,\n",
       "   'test_length': 223},\n",
       "  {'level1_name': '100644',\n",
       "   'precision': 0.6851549755301795,\n",
       "   'model_size': 2,\n",
       "   'train_time': 0.23983383178710938,\n",
       "   'test_length': 616}],\n",
       " 'cascade_accuracy': 0.675968826160315}"
      ]
     },
     "execution_count": 4,
     "metadata": {},
     "output_type": "execute_result"
    }
   ],
   "source": [
    "data"
   ]
  },
  {
   "cell_type": "code",
   "execution_count": 14,
   "metadata": {},
   "outputs": [
    {
     "name": "stdout",
     "output_type": "stream",
     "text": [
      "直接相乘结果: 0.0\n",
      "log_result -746.0375701300688\n",
      "对数概率相加结果: 0.0\n"
     ]
    }
   ],
   "source": [
    "import numpy as np\n",
    "\n",
    "# 假设有100个很小的概率\n",
    "probabilities = [0.001] * 108\n",
    "\n",
    "# 直接相乘\n",
    "result = 1.0\n",
    "for p in probabilities:\n",
    "    result *= p\n",
    "print(f\"直接相乘结果: {result}\")  # 输出: 0.0 (下溢)\n",
    "\n",
    "# 使用对数概率相加\n",
    "log_result = 0.0\n",
    "for p in probabilities:\n",
    "    log_result += np.log(p)\n",
    "\n",
    "print('log_result', log_result)\n",
    "print(f\"对数概率相加结果: {np.exp(log_result)}\")  # 输出: 1e-300"
   ]
  },
  {
   "cell_type": "code",
   "execution_count": 4,
   "metadata": {},
   "outputs": [
    {
     "data": {
      "text/plain": [
       "[{'score': 2}, {'score': 1}, {'score': 0}]"
      ]
     },
     "execution_count": 4,
     "metadata": {},
     "output_type": "execute_result"
    }
   ],
   "source": [
    "candidates = [{\n",
    "    'score': 1,\n",
    "}, {\n",
    "    'score': 2,\n",
    "}, {\n",
    "    'score': 0,\n",
    "}]\n",
    "sorted(candidates, key=lambda x: x['score'], reverse=True)"
   ]
  }
 ],
 "metadata": {
  "kernelspec": {
   "display_name": ".venv",
   "language": "python",
   "name": "python3"
  },
  "language_info": {
   "codemirror_mode": {
    "name": "ipython",
    "version": 3
   },
   "file_extension": ".py",
   "mimetype": "text/x-python",
   "name": "python",
   "nbconvert_exporter": "python",
   "pygments_lexer": "ipython3",
   "version": "3.11.11"
  }
 },
 "nbformat": 4,
 "nbformat_minor": 2
}
