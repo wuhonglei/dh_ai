{
 "cells": [
  {
   "cell_type": "code",
   "execution_count": 3,
   "metadata": {},
   "outputs": [
    {
     "name": "stdout",
     "output_type": "stream",
     "text": [
      "列表生成时间: 0.020906925201416016 秒\n",
      "生成器生成时间: 2.7894973754882812e-05 秒\n",
      "生成器使用时间: 3.314018249511719e-05 秒\n"
     ]
    }
   ],
   "source": [
    "import time\n",
    "\n",
    "\n",
    "def get_numbers_list(n):\n",
    "    # 使用列表（一次性生成所有数据）\n",
    "    return [x for x in range(n)]  # 立即生成所有数字\n",
    "\n",
    "\n",
    "def get_numbers_generator(n):\n",
    "    # 使用yield（按需生成数据）\n",
    "    for x in range(n):\n",
    "        yield x  # 每次只生成一个数字\n",
    "\n",
    "\n",
    "# 使用对比\n",
    "start_time = time.time()\n",
    "numbers_list = get_numbers_list(1000000)      # 立即占用大量内存\n",
    "end_time = time.time()\n",
    "print(f\"列表生成时间: {end_time - start_time} 秒\")\n",
    "\n",
    "start_time = time.time()\n",
    "numbers_gen = get_numbers_generator(1000000)   # 几乎不占内存，直到使用时才生成\n",
    "end_time = time.time()\n",
    "print(f\"生成器生成时间: {end_time - start_time} 秒\")\n",
    "\n",
    "start_time = time.time()\n",
    "for num in numbers_gen:\n",
    "    pass\n",
    "    break\n",
    "end_time = time.time()\n",
    "print(f\"生成器使用时间: {end_time - start_time} 秒\")"
   ]
  },
  {
   "cell_type": "code",
   "execution_count": 3,
   "metadata": {},
   "outputs": [
    {
     "data": {
      "text/plain": [
       "{'count': 1}"
      ]
     },
     "execution_count": 3,
     "metadata": {},
     "output_type": "execute_result"
    }
   ],
   "source": [
    "from collections import UserDict\n",
    "\n",
    "\n",
    "class MyDict(UserDict):\n",
    "    # 重写 __setitem__ 方法\n",
    "    def __missing__(self, key):\n",
    "        # 如果 key 不存在，返回默认值 0\n",
    "        return 0\n",
    "\n",
    "\n",
    "a = MyDict()\n",
    "a['count'] += 1\n",
    "\n",
    "a"
   ]
  },
  {
   "cell_type": "code",
   "execution_count": 11,
   "metadata": {},
   "outputs": [
    {
     "name": "stdout",
     "output_type": "stream",
     "text": [
      "3\n"
     ]
    },
    {
     "data": {
      "text/plain": [
       "[('c', 5), ('a', 4), ('b', 2)]"
      ]
     },
     "execution_count": 11,
     "metadata": {},
     "output_type": "execute_result"
    }
   ],
   "source": [
    "from collections import Counter\n",
    "\n",
    "counter = Counter(['a', 'b', 'c', 'a'])\n",
    "counter.update(['a', 'b', 'c', 'a', 'c', 'c', 'c'])\n",
    "# counter.clear()\n",
    "print(counter)\n",
    "counter.most_common()"
   ]
  },
  {
   "cell_type": "code",
   "execution_count": 2,
   "metadata": {},
   "outputs": [
    {
     "data": {
      "text/plain": [
       "[1, 2, 3, 4, 5, 6]"
      ]
     },
     "execution_count": 2,
     "metadata": {},
     "output_type": "execute_result"
    }
   ],
   "source": [
    "a = [1, 2, 3]\n",
    "b = [4, 5, 6]\n",
    "\n",
    "a.extend(b)\n",
    "a"
   ]
  },
  {
   "cell_type": "code",
   "execution_count": 6,
   "metadata": {},
   "outputs": [
    {
     "name": "stdout",
     "output_type": "stream",
     "text": [
      "word: first freq: 1\n",
      "\n",
      "word: second freq: 2\n",
      "\n",
      "word:   freq: 3\n"
     ]
    }
   ],
   "source": [
    "import os\n",
    "import pandas as pd\n",
    "\n",
    "file_path = 'test.txt'\n",
    "with open(file_path, 'r') as f:\n",
    "    for line in f:\n",
    "        word, freq = line.rsplit(' ', 1)\n",
    "        print('word:', word, 'freq:', freq)"
   ]
  },
  {
   "cell_type": "code",
   "execution_count": 3,
   "metadata": {},
   "outputs": [],
   "source": [
    "from typing import TypedDict\n",
    "\n",
    "\n",
    "class NewsItem(TypedDict):\n",
    "    index: int\n",
    "    title: str\n",
    "    content: str\n",
    "\n",
    "\n",
    "a = NewsItem(index=1, title='title', content='content')"
   ]
  },
  {
   "cell_type": "code",
   "execution_count": 6,
   "metadata": {},
   "outputs": [
    {
     "name": "stdout",
     "output_type": "stream",
     "text": [
      "1.4054651081081644\n"
     ]
    }
   ],
   "source": [
    "import numpy as np\n",
    "import math\n",
    "\n",
    "\n",
    "def word_idf(word_in_doc_count: int, total_doc_count: int):\n",
    "    \"\"\" 计算 idf 值 (加 1 平滑, 最小值 1) \"\"\"\n",
    "    idf = math.log((total_doc_count + 1) /\n",
    "                   (word_in_doc_count + 1)) + 1\n",
    "    return idf\n",
    "\n",
    "\n",
    "print((word_idf(1, 2)))"
   ]
  }
 ],
 "metadata": {
  "kernelspec": {
   "display_name": ".venv",
   "language": "python",
   "name": "python3"
  },
  "language_info": {
   "codemirror_mode": {
    "name": "ipython",
    "version": 3
   },
   "file_extension": ".py",
   "mimetype": "text/x-python",
   "name": "python",
   "nbconvert_exporter": "python",
   "pygments_lexer": "ipython3",
   "version": "3.11.11"
  }
 },
 "nbformat": 4,
 "nbformat_minor": 2
}
