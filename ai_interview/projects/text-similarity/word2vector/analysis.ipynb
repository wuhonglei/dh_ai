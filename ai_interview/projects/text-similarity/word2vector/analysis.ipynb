{
 "cells": [
  {
   "cell_type": "code",
   "execution_count": 4,
   "metadata": {},
   "outputs": [
    {
     "data": {
      "text/plain": [
       "count    186875.000000\n",
       "mean        504.497835\n",
       "std         471.054650\n",
       "min          31.000000\n",
       "25%         135.000000\n",
       "50%         333.000000\n",
       "75%         721.000000\n",
       "max        2046.000000\n",
       "Name: content, dtype: float64"
      ]
     },
     "execution_count": 4,
     "metadata": {},
     "output_type": "execute_result"
    }
   ],
   "source": [
    "from collections import Counter\n",
    "import pandas as pd\n",
    "import matplotlib.pyplot as plt\n",
    "\n",
    "csv_path = './data/val.csv'\n",
    "df = pd.read_csv(csv_path)\n",
    "\n",
    "# 统计 content 列的文本长度\n",
    "content_lengths = df['content'].apply(len)\n",
    "content_lengths.describe()"
   ]
  },
  {
   "cell_type": "code",
   "execution_count": 4,
   "metadata": {},
   "outputs": [
    {
     "name": "stdout",
     "output_type": "stream",
     "text": [
      "MRR milvus.bow.v5_1 0.06033286031746032\n",
      "MRR milvus.bow.v5_2 0.13648126190476192\n"
     ]
    }
   ],
   "source": [
    "import pandas as pd\n",
    "\n",
    "versions = ['milvus.bow.v5_1', 'milvus.bow.v5_2']\n",
    "for version in versions:\n",
    "    csv_path = f'./性能测试结果/title/{version}.csv'\n",
    "    df = pd.read_csv(csv_path)\n",
    "    df['rank'] = 1 / df['rank']\n",
    "    print(f'MRR {version}', df['rank'].mean())"
   ]
  }
 ],
 "metadata": {
  "kernelspec": {
   "display_name": ".venv",
   "language": "python",
   "name": "python3"
  },
  "language_info": {
   "codemirror_mode": {
    "name": "ipython",
    "version": 3
   },
   "file_extension": ".py",
   "mimetype": "text/x-python",
   "name": "python",
   "nbconvert_exporter": "python",
   "pygments_lexer": "ipython3",
   "version": "3.11.11"
  }
 },
 "nbformat": 4,
 "nbformat_minor": 2
}
