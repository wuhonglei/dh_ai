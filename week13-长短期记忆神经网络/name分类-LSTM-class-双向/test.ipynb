{
 "cells": [
  {
   "cell_type": "code",
   "execution_count": 3,
   "metadata": {},
   "outputs": [
    {
     "name": "stdout",
     "output_type": "stream",
     "text": [
      "café\n",
      "c\n",
      "a\n",
      "f\n",
      "e\n",
      "́\n"
     ]
    },
    {
     "data": {
      "text/plain": [
       "'cafe'"
      ]
     },
     "execution_count": 3,
     "metadata": {},
     "output_type": "execute_result"
    }
   ],
   "source": [
    "import unicodedata\n",
    "\n",
    "result = ''\n",
    "name_asc2 = unicodedata.normalize('NFD', 'café')\n",
    "# 将拉丁字母和重音符号组合成一个单字符\n",
    "print(name_asc2)\n",
    "for c in name_asc2:\n",
    "    print(c)\n",
    "\n",
    "unicodedata.normalize('NFD', 'café').encode(\n",
    "    'ascii', 'ignore').decode('ascii')"
   ]
  },
  {
   "cell_type": "code",
   "execution_count": 10,
   "metadata": {},
   "outputs": [
    {
     "data": {
      "text/plain": [
       "'cafe'"
      ]
     },
     "execution_count": 10,
     "metadata": {},
     "output_type": "execute_result"
    }
   ],
   "source": [
    "import unicodedata\n",
    "import string\n",
    "# 设置一个全局变量all_letters\n",
    "# 保存了训练数据中全部可能出现的字符\n",
    "# 包括英文的大小写，加上空格、点、逗号、分号、引号等标点符号\n",
    "all_letters = string.ascii_letters + \" .,;'\"\n",
    "\n",
    "# 实现一个unicode转Asc2码的函数，这个函数的主要作用是，将拉丁字符转为英文字符\n",
    "# 在未来在训练的时候，我们只关注英文单词中的大小写字符\n",
    "# 一些语言中的特殊字符，会直接转为英文的大小\n",
    "\n",
    "\n",
    "def unicode_to_asc2(name):\n",
    "    result = \"\"  # 保存转换后的结果\n",
    "    # 对输入的name进行标准化\n",
    "    name_asc2 = unicodedata.normalize('NFD', name)\n",
    "    # 遍历标准化后的字符串中的字符\n",
    "    for c in name_asc2:\n",
    "        # 如果字符c不是词素记号，例如不是重音符号，并且c还是英文字符\n",
    "        if unicodedata.category(c) != 'Mn' and c in all_letters:\n",
    "            result += c  # 将c添加到结果中\n",
    "    return result  # 返回结果\n",
    "\n",
    "\n",
    "unicode_to_asc2('café')"
   ]
  },
  {
   "cell_type": "code",
   "execution_count": 7,
   "metadata": {},
   "outputs": [
    {
     "data": {
      "text/plain": [
       "'caf'"
      ]
     },
     "execution_count": 7,
     "metadata": {},
     "output_type": "execute_result"
    }
   ],
   "source": [
    "import re\n",
    "import string\n",
    "\n",
    "all_letters = string.ascii_letters + \" .,;'\"\n",
    "pattern = re.compile(f'[^{all_letters}]')\n",
    "pattern.sub('', 'café')"
   ]
  },
  {
   "cell_type": "code",
   "execution_count": 1,
   "metadata": {},
   "outputs": [
    {
     "data": {
      "text/plain": [
       "'café'"
      ]
     },
     "execution_count": 1,
     "metadata": {},
     "output_type": "execute_result"
    }
   ],
   "source": [
    "'café'.lower()"
   ]
  },
  {
   "cell_type": "code",
   "execution_count": 23,
   "metadata": {},
   "outputs": [
    {
     "data": {
      "text/plain": [
       "torch.float32"
      ]
     },
     "execution_count": 23,
     "metadata": {},
     "output_type": "execute_result"
    }
   ],
   "source": [
    "import torch\n",
    "a = torch.tensor([[1, 2, 3]])\n",
    "b = torch.tensor([[4, 5, 6]])\n",
    "\n",
    "torch.concat((a, b), dim=1)\n",
    "\n",
    "torch.rand((10, 2))"
   ]
  },
  {
   "cell_type": "code",
   "execution_count": 28,
   "metadata": {},
   "outputs": [
    {
     "data": {
      "text/plain": [
       "array([30, 20, 20])"
      ]
     },
     "execution_count": 28,
     "metadata": {},
     "output_type": "execute_result"
    }
   ],
   "source": [
    "import numpy as np\n",
    "\n",
    "confusion = np.array([[20, 5, 5],\n",
    "                      [5, 15, 0],\n",
    "                      [5, 0, 15]])\n",
    "\n",
    "confusion.sum(axis=1)"
   ]
  },
  {
   "cell_type": "code",
   "execution_count": 30,
   "metadata": {},
   "outputs": [
    {
     "data": {
      "text/plain": [
       "['a', 'b']"
      ]
     },
     "execution_count": 30,
     "metadata": {},
     "output_type": "execute_result"
    }
   ],
   "source": [
    "dict_ = {\n",
    "    'a': 1,\n",
    "    'b': 2\n",
    "}\n",
    "\n",
    "list(dict_.keys())"
   ]
  },
  {
   "cell_type": "code",
   "execution_count": 36,
   "metadata": {},
   "outputs": [
    {
     "data": {
      "text/plain": [
       "tensor(2.)"
      ]
     },
     "execution_count": 36,
     "metadata": {},
     "output_type": "execute_result"
    }
   ],
   "source": [
    "import torch\n",
    "total_loss = torch.tensor(0.0, dtype=torch.float32)\n",
    "total_loss += torch.tensor(2.0, dtype=torch.float32)\n",
    "total_loss"
   ]
  },
  {
   "cell_type": "code",
   "execution_count": null,
   "metadata": {},
   "outputs": [],
   "source": [
    "import torch\n",
    "import torch.nn as nn\n",
    "import string\n",
    "\n",
    "# 1. 数据准备\n",
    "sequence = \"hello\"\n",
    "all_chars = string.ascii_lowercase  # 'abcdefghijklmnopqrstuvwxyz'\n",
    "char_to_idx = {char: idx for idx, char in enumerate(all_chars)}\n",
    "idx_to_char = {idx: char for idx, char in enumerate(all_chars)}\n",
    "\n",
    "# 将字符转换为索引\n",
    "input_seq = [char_to_idx[char]\n",
    "             for char in sequence[:-1]]  # 输入序列：'h', 'e', 'l', 'l'\n",
    "target_seq = [char_to_idx[char]\n",
    "              for char in sequence[1:]]  # 目标序列：'e', 'l', 'l', 'o'\n",
    "\n",
    "# 转换为张量\n",
    "input_tensor = torch.tensor(input_seq, dtype=torch.long).unsqueeze(\n",
    "    1)  # 形状：(seq_len, batch_size)\n",
    "target_tensor = torch.tensor(target_seq, dtype=torch.long)\n",
    "\n",
    "# 2. 定义模型参数\n",
    "input_size = len(all_chars)     # 输入维度（字符数量）\n",
    "hidden_size = 10                # 隐藏层维度\n",
    "num_layers = 1                  # RNN 层数\n",
    "\n",
    "# 3. 定义模型\n",
    "\n",
    "\n",
    "class CharRNN(nn.Module):\n",
    "    def __init__(self, input_size, hidden_size, num_layers):\n",
    "        super(CharRNN, self).__init__()\n",
    "        self.hidden_size = hidden_size\n",
    "        self.num_layers = num_layers\n",
    "\n",
    "        # 定义一个嵌入层，将字符索引转换为向量\n",
    "        self.embedding = nn.Embedding(input_size, input_size)\n",
    "        # 定义 RNN 层\n",
    "        self.rnn = nn.RNN(input_size, hidden_size, num_layers)\n",
    "        # 定义全连接层，将隐藏状态转换为输出\n",
    "        self.fc = nn.Linear(hidden_size, input_size)\n",
    "\n",
    "    def forward(self, x, hidden):\n",
    "        # x 的形状：(seq_len, batch_size)\n",
    "        x = self.embedding(x)  # 形状：(seq_len, batch_size, input_size)\n",
    "        output, hidden = self.rnn(x, hidden)\n",
    "        output = self.fc(output)  # 形状：(seq_len, batch_size, input_size)\n",
    "        return output, hidden\n",
    "\n",
    "    def init_hidden(self):\n",
    "        # 初始化隐藏状态\n",
    "        return torch.zeros(self.num_layers, 1, self.hidden_size)\n",
    "\n",
    "\n",
    "# 4. 实例化模型\n",
    "model = CharRNN(input_size, hidden_size, num_layers)\n",
    "\n",
    "# 5. 定义损失函数和优化器\n",
    "criterion = nn.CrossEntropyLoss()\n",
    "optimizer = torch.optim.Adam(model.parameters(), lr=0.01)\n",
    "\n",
    "# 6. 训练模型\n",
    "num_epochs = 100\n",
    "for epoch in range(num_epochs):\n",
    "    hidden = model.init_hidden()\n",
    "    optimizer.zero_grad()\n",
    "    outputs, hidden = model(input_tensor, hidden)\n",
    "    loss = criterion(outputs.view(-1, input_size), target_tensor)\n",
    "    loss.backward()\n",
    "    optimizer.step()\n",
    "\n",
    "    if (epoch + 1) % 20 == 0:\n",
    "        print(f'Epoch [{epoch+1}/{num_epochs}], Loss: {loss.item():.4f}')\n",
    "\n",
    "# 7. 测试模型\n",
    "\n",
    "\n",
    "def predict(model, start_char, predict_len):\n",
    "    model.eval()\n",
    "    hidden = model.init_hidden()\n",
    "    input_char = torch.tensor(\n",
    "        [char_to_idx[start_char]], dtype=torch.long).unsqueeze(1)\n",
    "    predicted = start_char\n",
    "\n",
    "    for _ in range(predict_len):\n",
    "        output, hidden = model(input_char, hidden)\n",
    "        output = output.squeeze(0)\n",
    "        _, top_idx = torch.max(output, dim=1)\n",
    "        char = idx_to_char[top_idx.item()]\n",
    "        predicted += char\n",
    "        input_char = top_idx.unsqueeze(0)\n",
    "\n",
    "    return predicted\n",
    "\n",
    "\n",
    "print(\"\\n生成文本:\")\n",
    "print(predict(model, 'h', 10))"
   ]
  },
  {
   "cell_type": "code",
   "execution_count": 2,
   "metadata": {},
   "outputs": [
    {
     "data": {
      "text/plain": [
       "(torch.Size([5, 7, 20]), torch.Size([1, 5, 20]), torch.Size([1, 5, 20]))"
      ]
     },
     "execution_count": 2,
     "metadata": {},
     "output_type": "execute_result"
    }
   ],
   "source": [
    "import torch\n",
    "import torch.nn as nn\n",
    "\n",
    "# 参数设置\n",
    "input_size = 10       # 输入特征的维度\n",
    "hidden_size = 20      # 隐藏状态的维度\n",
    "num_layers = 1        # LSTM 层数\n",
    "batch_size = 5        # 批量大小\n",
    "seq_len = 7           # 序列长度\n",
    "\n",
    "lstm = nn.LSTM(input_size, hidden_size, num_layers, batch_first=True)\n",
    "input = torch.randn(batch_size, seq_len, input_size)\n",
    "h_0 = torch.randn(num_layers, batch_size, hidden_size)\n",
    "c_0 = torch.randn(num_layers, batch_size, hidden_size)\n",
    "\n",
    "output, (h_n, c_n) = lstm(input, (h_0, c_0))\n",
    "output.shape, h_n.shape, c_n.shape"
   ]
  },
  {
   "cell_type": "code",
   "execution_count": 3,
   "metadata": {},
   "outputs": [
    {
     "data": {
      "text/plain": [
       "tensor([[1, 2, 3, 4, 5, 6]])"
      ]
     },
     "execution_count": 3,
     "metadata": {},
     "output_type": "execute_result"
    }
   ],
   "source": [
    "import torch\n",
    "import torch.nn as nn\n",
    "\n",
    "a = torch.tensor([\n",
    "    [1, 2, 3]\n",
    "])\n",
    "b = torch.tensor([\n",
    "    [4, 5, 6]\n",
    "])\n",
    "\n",
    "torch.cat((a, b), dim=-1)"
   ]
  },
  {
   "cell_type": "code",
   "execution_count": 9,
   "metadata": {},
   "outputs": [
    {
     "data": {
      "text/plain": [
       "tensor([[4, 5, 6],\n",
       "        [1, 2, 3]])"
      ]
     },
     "execution_count": 9,
     "metadata": {},
     "output_type": "execute_result"
    }
   ],
   "source": [
    "import torch\n",
    "import torch.nn as nn\n",
    "\n",
    "a = torch.tensor([\n",
    "    [1, 2, 3],\n",
    "    [4, 5, 6]\n",
    "])\n",
    "torch.flip(a, dims=[0])"
   ]
  },
  {
   "cell_type": "code",
   "execution_count": 19,
   "metadata": {},
   "outputs": [
    {
     "name": "stdout",
     "output_type": "stream",
     "text": [
      "outputs torch.Size([6, 1, 20])\n"
     ]
    }
   ],
   "source": [
    "import torch\n",
    "import json\n",
    "import torch.nn as nn\n",
    "import torch.optim as optim\n",
    "import random\n",
    "import string\n",
    "import time\n",
    "import math\n",
    "\n",
    "# 1. 准备数据\n",
    "all_letters = string.ascii_letters + \" .,;'\"\n",
    "n_letters = len(all_letters)\n",
    "\n",
    "category_lines = {\n",
    "    'English': ['Adam', 'Henry', 'Scott'],\n",
    "    'French': ['Albert', 'Pierre', 'Jacques'],\n",
    "    'Spanish': ['Carlos', 'Miguel', 'Jose']\n",
    "}\n",
    "\n",
    "all_categories = list(category_lines.keys())\n",
    "n_categories = len(all_categories)\n",
    "\n",
    "\n",
    "def letter_to_index(letter):\n",
    "    return all_letters.find(letter)\n",
    "\n",
    "\n",
    "def letter_to_tensor(letter):\n",
    "    tensor = torch.zeros(1, n_letters)\n",
    "    tensor[0][letter_to_index(letter)] = 1\n",
    "    return tensor\n",
    "\n",
    "\n",
    "def line_to_tensor(line):\n",
    "    tensor = torch.zeros(len(line), 1, n_letters)\n",
    "    for li, letter in enumerate(line):\n",
    "        tensor[li][0][letter_to_index(letter)] = 1\n",
    "    return tensor\n",
    "\n",
    "# 2. 定义双向 LSTM 模型\n",
    "\n",
    "\n",
    "class CustomBiLSTM(nn.Module):\n",
    "    def __init__(self, input_size, hidden_size, output_size):\n",
    "        super(CustomBiLSTM, self).__init__()\n",
    "        self.hidden_size = hidden_size\n",
    "\n",
    "        # 正向和反向 LSTM 的权重和偏置\n",
    "        self.i2h_f = nn.Linear(input_size + hidden_size, hidden_size)\n",
    "        self.i2h_b = nn.Linear(input_size + hidden_size, hidden_size)\n",
    "        self.h2o = nn.Linear(hidden_size * 2, output_size)\n",
    "\n",
    "    def forward(self, input_tensor):\n",
    "        seq_len = input_tensor.size(0)\n",
    "        batch_size = input_tensor.size(1)\n",
    "\n",
    "        # 初始化正向和反向的隐藏状态\n",
    "        h_f = torch.zeros(batch_size, self.hidden_size)\n",
    "        h_b = torch.zeros(batch_size, self.hidden_size)\n",
    "\n",
    "        # 正向 LSTM\n",
    "        outputs_f = []\n",
    "        for t in range(seq_len):\n",
    "            combined = torch.cat((input_tensor[t], h_f), 1)\n",
    "            h_f = torch.tanh(self.i2h_f(combined))\n",
    "            outputs_f.append(h_f.unsqueeze(0))\n",
    "        outputs_f = torch.cat(outputs_f, dim=0)\n",
    "\n",
    "        # 反向 LSTM\n",
    "        outputs_b = []\n",
    "        for t in reversed(range(seq_len)):\n",
    "            combined = torch.cat((input_tensor[t], h_b), 1)\n",
    "            h_b = torch.tanh(self.i2h_b(combined))\n",
    "            outputs_b.insert(0, h_b.unsqueeze(0))\n",
    "        outputs_b = torch.cat(outputs_b, dim=0)\n",
    "\n",
    "        # 拼接正向和反向的输出\n",
    "        outputs = torch.cat((outputs_f, outputs_b), dim=2)\n",
    "        last_output = outputs[-1][0].data.tolist()\n",
    "        with open('last_output.json', 'w') as f:\n",
    "            json.dump(last_output, f)\n",
    "        print('outputs', outputs.shape)\n",
    "\n",
    "        # 取最后一个时间步的输出用于分类\n",
    "        output = self.h2o(outputs[-1])\n",
    "        return output\n",
    "\n",
    "# 3. 训练模型\n",
    "\n",
    "\n",
    "def category_from_output(output):\n",
    "    top_n, top_i = output.topk(1)\n",
    "    category_i = top_i[0].item()\n",
    "    return all_categories[category_i], category_i\n",
    "\n",
    "\n",
    "def random_training_example():\n",
    "    # 设置种子为固定值，这里以 42 为例\n",
    "    random.seed(42)\n",
    "    category = random.choice(all_categories)\n",
    "    line = random.choice(category_lines[category])\n",
    "    category_tensor = torch.tensor(\n",
    "        [all_categories.index(category)], dtype=torch.long)\n",
    "    line_tensor = line_to_tensor(line)\n",
    "    return category, line, category_tensor, line_tensor\n",
    "\n",
    "\n",
    "n_hidden = 10\n",
    "model = CustomBiLSTM(n_letters, n_hidden, n_categories)\n",
    "model.load_state_dict(torch.load('model.pth'))\n",
    "\n",
    "criterion = nn.CrossEntropyLoss()\n",
    "optimizer = optim.SGD(model.parameters(), lr=0.01)\n",
    "\n",
    "n_iters = 1\n",
    "print_every = 200\n",
    "\n",
    "\n",
    "def time_since(since):\n",
    "    now = time.time()\n",
    "    s = now - since\n",
    "    m = math.floor(s / 60)\n",
    "    s -= m * 60\n",
    "    return f'{m}m {s:.2f}s'\n",
    "\n",
    "\n",
    "start = time.time()\n",
    "\n",
    "for iter in range(1, n_iters + 1):\n",
    "    category, line, category_tensor, line_tensor = random_training_example()\n",
    "\n",
    "    model.zero_grad()\n",
    "\n",
    "    output = model(line_tensor)\n",
    "    loss = criterion(output, category_tensor)\n",
    "    loss.backward()\n",
    "    optimizer.step()\n",
    "\n",
    "    if iter % print_every == 0:\n",
    "        guess, guess_i = category_from_output(output)\n",
    "        correct = '✓' if guess == category else f'✗ ({category})'\n",
    "        print(f'{iter} {iter / n_iters * 100:.2f}% ({time_since(start)}) Loss: {loss.item():.4f} {line} / {guess} {correct}')\n",
    "\n",
    "# 4. 测试模型\n",
    "# torch.save(model.state_dict(), 'model.pth')\n",
    "\n",
    "\n",
    "def predict(input_line):\n",
    "    with torch.no_grad():\n",
    "        line_tensor = line_to_tensor(input_line)\n",
    "        output = model(line_tensor)\n",
    "        guess, guess_i = category_from_output(output)\n",
    "        print(f'{input_line} -> {guess}')\n",
    "\n",
    "\n",
    "# 测试一些名字\n",
    "# predict('Henry')\n",
    "# predict('Jacques')\n",
    "# predict('Carlos')"
   ]
  },
  {
   "cell_type": "code",
   "execution_count": 16,
   "metadata": {},
   "outputs": [
    {
     "data": {
      "text/plain": [
       "[2, 1]"
      ]
     },
     "execution_count": 16,
     "metadata": {},
     "output_type": "execute_result"
    }
   ],
   "source": [
    "a = []\n",
    "a.insert(0, 1)\n",
    "a.insert(0, 2)\n",
    "a"
   ]
  },
  {
   "cell_type": "code",
   "execution_count": 19,
   "metadata": {},
   "outputs": [
    {
     "data": {
      "text/plain": [
       "tensor([[1, 2, 3, 4, 5, 6]])"
      ]
     },
     "execution_count": 19,
     "metadata": {},
     "output_type": "execute_result"
    }
   ],
   "source": [
    "import torch\n",
    "outputs_f = torch.tensor([\n",
    "    [1, 2, 3]\n",
    "])\n",
    "outputs_b = torch.tensor([\n",
    "    [4, 5, 6]\n",
    "])\n",
    "torch.concat((outputs_f, outputs_b), dim=1)"
   ]
  },
  {
   "cell_type": "code",
   "execution_count": 22,
   "metadata": {},
   "outputs": [
    {
     "ename": "RuntimeError",
     "evalue": "self must be a matrix",
     "output_type": "error",
     "traceback": [
      "\u001b[0;31m---------------------------------------------------------------------------\u001b[0m",
      "\u001b[0;31mRuntimeError\u001b[0m                              Traceback (most recent call last)",
      "Cell \u001b[0;32mIn[22], line 72\u001b[0m\n\u001b[1;32m     70\u001b[0m input_seq \u001b[38;5;241m=\u001b[39m torch\u001b[38;5;241m.\u001b[39mrandn(\u001b[38;5;241m5\u001b[39m, \u001b[38;5;241m3\u001b[39m)  \u001b[38;5;66;03m# 假设输入序列长度为5，输入特征维度为3\u001b[39;00m\n\u001b[1;32m     71\u001b[0m hidden_size \u001b[38;5;241m=\u001b[39m \u001b[38;5;241m4\u001b[39m\n\u001b[0;32m---> 72\u001b[0m output \u001b[38;5;241m=\u001b[39m \u001b[43mbidirectional_lstm\u001b[49m\u001b[43m(\u001b[49m\u001b[43minput_seq\u001b[49m\u001b[43m,\u001b[49m\u001b[43m \u001b[49m\u001b[43mhidden_size\u001b[49m\u001b[43m)\u001b[49m\n\u001b[1;32m     73\u001b[0m \u001b[38;5;28mprint\u001b[39m(output)\n",
      "Cell \u001b[0;32mIn[22], line 51\u001b[0m, in \u001b[0;36mbidirectional_lstm\u001b[0;34m(inputs, hidden_size)\u001b[0m\n\u001b[1;32m     48\u001b[0m output_b \u001b[38;5;241m=\u001b[39m []\n\u001b[1;32m     50\u001b[0m \u001b[38;5;28;01mfor\u001b[39;00m t \u001b[38;5;129;01min\u001b[39;00m \u001b[38;5;28mrange\u001b[39m(num_timesteps):\n\u001b[0;32m---> 51\u001b[0m     hidden_f, cell_f \u001b[38;5;241m=\u001b[39m \u001b[43mlstm_cell\u001b[49m\u001b[43m(\u001b[49m\n\u001b[1;32m     52\u001b[0m \u001b[43m        \u001b[49m\u001b[43minputs\u001b[49m\u001b[43m[\u001b[49m\u001b[43mt\u001b[49m\u001b[43m]\u001b[49m\u001b[43m,\u001b[49m\u001b[43m \u001b[49m\u001b[43mhidden_f\u001b[49m\u001b[43m,\u001b[49m\u001b[43m \u001b[49m\u001b[43mcell_f\u001b[49m\u001b[43m,\u001b[49m\u001b[43m \u001b[49m\u001b[43mw_ih_f\u001b[49m\u001b[43m,\u001b[49m\u001b[43m \u001b[49m\u001b[43mw_hh_f\u001b[49m\u001b[43m,\u001b[49m\u001b[43m \u001b[49m\u001b[43mb_ih_f\u001b[49m\u001b[43m,\u001b[49m\u001b[43m \u001b[49m\u001b[43mb_hh_f\u001b[49m\u001b[43m)\u001b[49m\n\u001b[1;32m     53\u001b[0m     output_f\u001b[38;5;241m.\u001b[39mappend(hidden_f)\n\u001b[1;32m     55\u001b[0m     \u001b[38;5;66;03m# 后向时间步\u001b[39;00m\n",
      "Cell \u001b[0;32mIn[22], line 7\u001b[0m, in \u001b[0;36mlstm_cell\u001b[0;34m(input, hidden, cell, w_ih, w_hh, b_ih, b_hh)\u001b[0m\n\u001b[1;32m      6\u001b[0m \u001b[38;5;28;01mdef\u001b[39;00m \u001b[38;5;21mlstm_cell\u001b[39m(\u001b[38;5;28minput\u001b[39m, hidden, cell, w_ih, w_hh, b_ih, b_hh):\n\u001b[0;32m----> 7\u001b[0m     gates \u001b[38;5;241m=\u001b[39m \u001b[43mtorch\u001b[49m\u001b[38;5;241;43m.\u001b[39;49m\u001b[43mmm\u001b[49m\u001b[43m(\u001b[49m\u001b[38;5;28;43minput\u001b[39;49m\u001b[43m,\u001b[49m\u001b[43m \u001b[49m\u001b[43mw_ih\u001b[49m\u001b[38;5;241;43m.\u001b[39;49m\u001b[43mt\u001b[49m\u001b[43m(\u001b[49m\u001b[43m)\u001b[49m\u001b[43m)\u001b[49m \u001b[38;5;241m+\u001b[39m \\\n\u001b[1;32m      8\u001b[0m         torch\u001b[38;5;241m.\u001b[39mmm(hidden, w_hh\u001b[38;5;241m.\u001b[39mt()) \u001b[38;5;241m+\u001b[39m b_ih \u001b[38;5;241m+\u001b[39m b_hh\n\u001b[1;32m      9\u001b[0m     ingate, forgetgate, cellgate, outgate \u001b[38;5;241m=\u001b[39m gates\u001b[38;5;241m.\u001b[39mchunk(\u001b[38;5;241m4\u001b[39m, \u001b[38;5;241m1\u001b[39m)\n\u001b[1;32m     11\u001b[0m     ingate \u001b[38;5;241m=\u001b[39m torch\u001b[38;5;241m.\u001b[39msigmoid(ingate)\n",
      "\u001b[0;31mRuntimeError\u001b[0m: self must be a matrix"
     ]
    }
   ],
   "source": [
    "import torch\n",
    "import torch.nn as nn\n",
    "\n",
    "\n",
    "# 定义LSTM的单元计算（单步）\n",
    "def lstm_cell(input, hidden, cell, w_ih, w_hh, b_ih, b_hh):\n",
    "    gates = torch.mm(input, w_ih.t()) + \\\n",
    "        torch.mm(hidden, w_hh.t()) + b_ih + b_hh\n",
    "    ingate, forgetgate, cellgate, outgate = gates.chunk(4, 1)\n",
    "\n",
    "    ingate = torch.sigmoid(ingate)\n",
    "    forgetgate = torch.sigmoid(forgetgate)\n",
    "    cellgate = torch.tanh(cellgate)\n",
    "    outgate = torch.sigmoid(outgate)\n",
    "\n",
    "    new_cell = (forgetgate * cell) + (ingate * cellgate)\n",
    "    new_hidden = outgate * torch.tanh(new_cell)\n",
    "\n",
    "    return new_hidden, new_cell\n",
    "\n",
    "\n",
    "# 定义双向LSTM的前向传播（简化版，未处理批次维度等复杂情况）\n",
    "def bidirectional_lstm(inputs, hidden_size):\n",
    "    num_timesteps = inputs.size(0)\n",
    "    hidden_size = hidden_size\n",
    "    input_size = inputs.size(1)\n",
    "\n",
    "    # 初始化权重（这里简单随机初始化，实际中需谨慎初始化）\n",
    "    w_ih_f = torch.randn(4 * hidden_size, input_size)\n",
    "    w_hh_f = torch.randn(4 * hidden_size, hidden_size)\n",
    "    b_ih_f = torch.randn(4 * hidden_size)\n",
    "    b_hh_f = torch.randn(4 * hidden_size)\n",
    "\n",
    "    w_ih_b = torch.randn(4 * hidden_size, input_size)\n",
    "    w_hh_b = torch.randn(4 * hidden_size, hidden_size)\n",
    "    b_ih_b = torch.randn(4 * hidden_size)\n",
    "    b_hh_b = torch.randn(4 * hidden_size)\n",
    "\n",
    "    # 前向初始化隐藏状态和细胞状态\n",
    "    hidden_f = torch.randn(hidden_size)\n",
    "    cell_f = torch.randn(hidden_size)\n",
    "\n",
    "    # 后向初始化隐藏状态和细胞状态\n",
    "    hidden_b = torch.randn(hidden_size)\n",
    "    cell_b = torch.randn(hidden_size)\n",
    "\n",
    "    output_f = []\n",
    "    output_b = []\n",
    "\n",
    "    for t in range(num_timesteps):\n",
    "        hidden_f, cell_f = lstm_cell(\n",
    "            inputs[t], hidden_f, cell_f, w_ih_f, w_hh_f, b_ih_f, b_hh_f)\n",
    "        output_f.append(hidden_f)\n",
    "\n",
    "        # 后向时间步\n",
    "        t_back = num_timesteps - t - 1\n",
    "        hidden_b, cell_b = lstm_cell(\n",
    "            inputs[t_back], hidden_b, cell_b, w_ih_b, w_hh_b, b_ih_b, b_hh_b)\n",
    "        output_b.append(hidden_b)\n",
    "\n",
    "    output_f = torch.stack(output_f)\n",
    "    output_b = torch.stack(output_b[::-1])\n",
    "\n",
    "    output = torch.cat([output_f, output_b], dim=1)\n",
    "\n",
    "    return output\n",
    "\n",
    "\n",
    "# 测试示例\n",
    "input_seq = torch.randn(5, 3)  # 假设输入序列长度为5，输入特征维度为3\n",
    "hidden_size = 4\n",
    "output = bidirectional_lstm(input_seq, hidden_size)\n",
    "print(output)"
   ]
  },
  {
   "cell_type": "code",
   "execution_count": 24,
   "metadata": {},
   "outputs": [
    {
     "data": {
      "text/plain": [
       "[3, 2, 1]"
      ]
     },
     "execution_count": 24,
     "metadata": {},
     "output_type": "execute_result"
    }
   ],
   "source": [
    "a = [1, 2, 3]\n",
    "a[::-1]"
   ]
  },
  {
   "cell_type": "code",
   "execution_count": 3,
   "metadata": {},
   "outputs": [
    {
     "name": "stdout",
     "output_type": "stream",
     "text": [
      "Outputs:\n",
      "tensor([[ 0.3648,  0.2411, -0.3089,  0.2007, -0.1097,  0.5242,  0.3789, -0.3503],\n",
      "        [ 0.3420,  0.1185, -0.0651,  0.3576,  0.0764, -0.5390,  0.1255, -0.4141],\n",
      "        [ 0.0401, -0.0282, -0.3234,  0.3144, -0.0713,  0.4474,  0.3256, -0.4765],\n",
      "        [ 0.0031, -0.2287,  0.1083,  0.1781, -0.2411, -0.0599,  0.5003, -0.1189],\n",
      "        [ 0.4869,  0.5825, -0.0332,  0.4724, -0.6330,  0.1864,  0.1699, -0.6844]])\n",
      "\n",
      "Hidden State h_n:\n",
      "tensor([[ 0.4869,  0.5825, -0.0332,  0.4724, -0.1097,  0.5242,  0.3789, -0.3503]])\n",
      "\n",
      "Cell State c_n:\n",
      "tensor([[ 0.9634,  0.6768, -0.2033,  1.2016, -0.2670,  0.6003,  0.5137, -0.3839]])\n"
     ]
    }
   ],
   "source": [
    "import torch\n",
    "import torch.nn as nn\n",
    "import torch\n",
    "import torch.nn.functional as F\n",
    "\n",
    "\n",
    "class LSTMCell:\n",
    "    def __init__(self, input_size, hidden_size):\n",
    "        self.input_size = input_size\n",
    "        self.hidden_size = hidden_size\n",
    "        # 初始化权重和偏置\n",
    "        self.W_ih = torch.randn(4 * hidden_size, input_size)\n",
    "        self.W_hh = torch.randn(4 * hidden_size, hidden_size)\n",
    "        self.b_ih = torch.randn(4 * hidden_size)\n",
    "        self.b_hh = torch.randn(4 * hidden_size)\n",
    "\n",
    "    def __call__(self, x, hidden):\n",
    "        h, c = hidden\n",
    "        # 计算门控\n",
    "        gates = (torch.matmul(x, self.W_ih.t()) + self.b_ih) + \\\n",
    "                (torch.matmul(h, self.W_hh.t()) + self.b_hh)\n",
    "        # 分割门控为四部分\n",
    "        i_gate, f_gate, g_gate, o_gate = gates.chunk(4, 1)\n",
    "        # 应用激活函数\n",
    "        i = torch.sigmoid(i_gate)\n",
    "        f = torch.sigmoid(f_gate)\n",
    "        g = torch.tanh(g_gate)\n",
    "        o = torch.sigmoid(o_gate)\n",
    "        # 更新记忆状态和隐藏状态\n",
    "        c_new = f * c + i * g\n",
    "        h_new = o * torch.tanh(c_new)\n",
    "        return h_new, c_new\n",
    "\n",
    "\n",
    "class BidirectionalLSTM:\n",
    "    def __init__(self, input_size, hidden_size):\n",
    "        self.hidden_size = hidden_size\n",
    "        self.forward_cell = LSTMCell(input_size, hidden_size)\n",
    "        self.backward_cell = LSTMCell(input_size, hidden_size)\n",
    "\n",
    "    def __call__(self, inputs):\n",
    "        seq_len, _ = inputs.size()\n",
    "        # 初始化隐藏状态和记忆状态\n",
    "        h_fwd = torch.zeros(1, self.hidden_size)\n",
    "        c_fwd = torch.zeros(1, self.hidden_size)\n",
    "        h_bwd = torch.zeros(1, self.hidden_size)\n",
    "        c_bwd = torch.zeros(1, self.hidden_size)\n",
    "\n",
    "        outputs = []\n",
    "        # 前向遍历\n",
    "        hiddens_fwd = []\n",
    "        for t in range(seq_len):\n",
    "            x = inputs[t].unsqueeze(0)\n",
    "            h_fwd, c_fwd = self.forward_cell(x, (h_fwd, c_fwd))\n",
    "            hiddens_fwd.append(h_fwd)\n",
    "\n",
    "        # 后向遍历\n",
    "        hiddens_bwd = []\n",
    "        for t in reversed(range(seq_len)):\n",
    "            x = inputs[t].unsqueeze(0)\n",
    "            h_bwd, c_bwd = self.backward_cell(x, (h_bwd, c_bwd))\n",
    "            hiddens_bwd.insert(0, h_bwd)\n",
    "\n",
    "        # 拼接前向和后向的隐藏状态\n",
    "        for h_f, h_b in zip(hiddens_fwd, hiddens_bwd):\n",
    "            outputs.append(torch.cat((h_f, h_b), dim=1))\n",
    "\n",
    "        outputs = torch.cat(outputs, dim=0)\n",
    "        # 最后的隐藏状态和记忆状态\n",
    "        h_n = torch.cat((h_fwd, h_bwd), dim=1)\n",
    "        c_n = torch.cat((c_fwd, c_bwd), dim=1)\n",
    "        return outputs, (h_n, c_n)\n",
    "\n",
    "\n",
    "# 输入序列长度为5，输入维度为3\n",
    "input_size = 3\n",
    "hidden_size = 4\n",
    "seq_len = 5\n",
    "\n",
    "# 随机生成输入数据\n",
    "inputs = torch.randn(seq_len, input_size)\n",
    "\n",
    "# 创建双向 LSTM\n",
    "bilstm = BidirectionalLSTM(input_size, hidden_size)\n",
    "\n",
    "# 获取输出和隐藏状态\n",
    "outputs, (h_n, c_n) = bilstm(inputs)\n",
    "\n",
    "print(\"Outputs:\")\n",
    "print(outputs)\n",
    "print(\"\\nHidden State h_n:\")\n",
    "print(h_n)\n",
    "print(\"\\nCell State c_n:\")\n",
    "print(c_n)"
   ]
  }
 ],
 "metadata": {
  "kernelspec": {
   "display_name": "myenv",
   "language": "python",
   "name": "python3"
  },
  "language_info": {
   "codemirror_mode": {
    "name": "ipython",
    "version": 3
   },
   "file_extension": ".py",
   "mimetype": "text/x-python",
   "name": "python",
   "nbconvert_exporter": "python",
   "pygments_lexer": "ipython3",
   "version": "3.9.19"
  }
 },
 "nbformat": 4,
 "nbformat_minor": 2
}
