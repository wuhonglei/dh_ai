{
 "cells": [
  {
   "cell_type": "code",
   "execution_count": 3,
   "metadata": {},
   "outputs": [
    {
     "name": "stdout",
     "output_type": "stream",
     "text": [
      "café\n",
      "c\n",
      "a\n",
      "f\n",
      "e\n",
      "́\n"
     ]
    },
    {
     "data": {
      "text/plain": [
       "'cafe'"
      ]
     },
     "execution_count": 3,
     "metadata": {},
     "output_type": "execute_result"
    }
   ],
   "source": [
    "import unicodedata\n",
    "\n",
    "result = ''\n",
    "name_asc2 = unicodedata.normalize('NFD', 'café')\n",
    "# 将拉丁字母和重音符号组合成一个单字符\n",
    "print(name_asc2)\n",
    "for c in name_asc2:\n",
    "    print(c)\n",
    "\n",
    "unicodedata.normalize('NFD', 'café').encode(\n",
    "    'ascii', 'ignore').decode('ascii')"
   ]
  },
  {
   "cell_type": "code",
   "execution_count": 10,
   "metadata": {},
   "outputs": [
    {
     "data": {
      "text/plain": [
       "'cafe'"
      ]
     },
     "execution_count": 10,
     "metadata": {},
     "output_type": "execute_result"
    }
   ],
   "source": [
    "import unicodedata\n",
    "import string\n",
    "# 设置一个全局变量all_letters\n",
    "# 保存了训练数据中全部可能出现的字符\n",
    "# 包括英文的大小写，加上空格、点、逗号、分号、引号等标点符号\n",
    "all_letters = string.ascii_letters + \" .,;'\"\n",
    "\n",
    "# 实现一个unicode转Asc2码的函数，这个函数的主要作用是，将拉丁字符转为英文字符\n",
    "# 在未来在训练的时候，我们只关注英文单词中的大小写字符\n",
    "# 一些语言中的特殊字符，会直接转为英文的大小\n",
    "\n",
    "\n",
    "def unicode_to_asc2(name):\n",
    "    result = \"\"  # 保存转换后的结果\n",
    "    # 对输入的name进行标准化\n",
    "    name_asc2 = unicodedata.normalize('NFD', name)\n",
    "    # 遍历标准化后的字符串中的字符\n",
    "    for c in name_asc2:\n",
    "        # 如果字符c不是词素记号，例如不是重音符号，并且c还是英文字符\n",
    "        if unicodedata.category(c) != 'Mn' and c in all_letters:\n",
    "            result += c  # 将c添加到结果中\n",
    "    return result  # 返回结果\n",
    "\n",
    "\n",
    "unicode_to_asc2('café')"
   ]
  },
  {
   "cell_type": "code",
   "execution_count": 7,
   "metadata": {},
   "outputs": [
    {
     "data": {
      "text/plain": [
       "'caf'"
      ]
     },
     "execution_count": 7,
     "metadata": {},
     "output_type": "execute_result"
    }
   ],
   "source": [
    "import re\n",
    "import string\n",
    "\n",
    "all_letters = string.ascii_letters + \" .,;'\"\n",
    "pattern = re.compile(f'[^{all_letters}]')\n",
    "pattern.sub('', 'café')"
   ]
  },
  {
   "cell_type": "code",
   "execution_count": 1,
   "metadata": {},
   "outputs": [
    {
     "data": {
      "text/plain": [
       "'café'"
      ]
     },
     "execution_count": 1,
     "metadata": {},
     "output_type": "execute_result"
    }
   ],
   "source": [
    "'café'.lower()"
   ]
  },
  {
   "cell_type": "code",
   "execution_count": 23,
   "metadata": {},
   "outputs": [
    {
     "data": {
      "text/plain": [
       "torch.float32"
      ]
     },
     "execution_count": 23,
     "metadata": {},
     "output_type": "execute_result"
    }
   ],
   "source": [
    "import torch\n",
    "a = torch.tensor([[1, 2, 3]])\n",
    "b = torch.tensor([[4, 5, 6]])\n",
    "\n",
    "torch.concat((a, b), dim=1)\n",
    "\n",
    "torch.rand((10, 2))"
   ]
  },
  {
   "cell_type": "code",
   "execution_count": 28,
   "metadata": {},
   "outputs": [
    {
     "data": {
      "text/plain": [
       "array([30, 20, 20])"
      ]
     },
     "execution_count": 28,
     "metadata": {},
     "output_type": "execute_result"
    }
   ],
   "source": [
    "import numpy as np\n",
    "\n",
    "confusion = np.array([[20, 5, 5],\n",
    "                      [5, 15, 0],\n",
    "                      [5, 0, 15]])\n",
    "\n",
    "confusion.sum(axis=1)"
   ]
  },
  {
   "cell_type": "code",
   "execution_count": 30,
   "metadata": {},
   "outputs": [
    {
     "data": {
      "text/plain": [
       "['a', 'b']"
      ]
     },
     "execution_count": 30,
     "metadata": {},
     "output_type": "execute_result"
    }
   ],
   "source": [
    "dict_ = {\n",
    "    'a': 1,\n",
    "    'b': 2\n",
    "}\n",
    "\n",
    "list(dict_.keys())"
   ]
  },
  {
   "cell_type": "code",
   "execution_count": 36,
   "metadata": {},
   "outputs": [
    {
     "data": {
      "text/plain": [
       "tensor(2.)"
      ]
     },
     "execution_count": 36,
     "metadata": {},
     "output_type": "execute_result"
    }
   ],
   "source": [
    "import torch\n",
    "total_loss = torch.tensor(0.0, dtype=torch.float32)\n",
    "total_loss += torch.tensor(2.0, dtype=torch.float32)\n",
    "total_loss"
   ]
  },
  {
   "cell_type": "code",
   "execution_count": null,
   "metadata": {},
   "outputs": [],
   "source": [
    "import torch\n",
    "import torch.nn as nn\n",
    "import string\n",
    "\n",
    "# 1. 数据准备\n",
    "sequence = \"hello\"\n",
    "all_chars = string.ascii_lowercase  # 'abcdefghijklmnopqrstuvwxyz'\n",
    "char_to_idx = {char: idx for idx, char in enumerate(all_chars)}\n",
    "idx_to_char = {idx: char for idx, char in enumerate(all_chars)}\n",
    "\n",
    "# 将字符转换为索引\n",
    "input_seq = [char_to_idx[char]\n",
    "             for char in sequence[:-1]]  # 输入序列：'h', 'e', 'l', 'l'\n",
    "target_seq = [char_to_idx[char]\n",
    "              for char in sequence[1:]]  # 目标序列：'e', 'l', 'l', 'o'\n",
    "\n",
    "# 转换为张量\n",
    "input_tensor = torch.tensor(input_seq, dtype=torch.long).unsqueeze(\n",
    "    1)  # 形状：(seq_len, batch_size)\n",
    "target_tensor = torch.tensor(target_seq, dtype=torch.long)\n",
    "\n",
    "# 2. 定义模型参数\n",
    "input_size = len(all_chars)     # 输入维度（字符数量）\n",
    "hidden_size = 10                # 隐藏层维度\n",
    "num_layers = 1                  # RNN 层数\n",
    "\n",
    "# 3. 定义模型\n",
    "\n",
    "\n",
    "class CharRNN(nn.Module):\n",
    "    def __init__(self, input_size, hidden_size, num_layers):\n",
    "        super(CharRNN, self).__init__()\n",
    "        self.hidden_size = hidden_size\n",
    "        self.num_layers = num_layers\n",
    "\n",
    "        # 定义一个嵌入层，将字符索引转换为向量\n",
    "        self.embedding = nn.Embedding(input_size, input_size)\n",
    "        # 定义 RNN 层\n",
    "        self.rnn = nn.RNN(input_size, hidden_size, num_layers)\n",
    "        # 定义全连接层，将隐藏状态转换为输出\n",
    "        self.fc = nn.Linear(hidden_size, input_size)\n",
    "\n",
    "    def forward(self, x, hidden):\n",
    "        # x 的形状：(seq_len, batch_size)\n",
    "        x = self.embedding(x)  # 形状：(seq_len, batch_size, input_size)\n",
    "        output, hidden = self.rnn(x, hidden)\n",
    "        output = self.fc(output)  # 形状：(seq_len, batch_size, input_size)\n",
    "        return output, hidden\n",
    "\n",
    "    def init_hidden(self):\n",
    "        # 初始化隐藏状态\n",
    "        return torch.zeros(self.num_layers, 1, self.hidden_size)\n",
    "\n",
    "\n",
    "# 4. 实例化模型\n",
    "model = CharRNN(input_size, hidden_size, num_layers)\n",
    "\n",
    "# 5. 定义损失函数和优化器\n",
    "criterion = nn.CrossEntropyLoss()\n",
    "optimizer = torch.optim.Adam(model.parameters(), lr=0.01)\n",
    "\n",
    "# 6. 训练模型\n",
    "num_epochs = 100\n",
    "for epoch in range(num_epochs):\n",
    "    hidden = model.init_hidden()\n",
    "    optimizer.zero_grad()\n",
    "    outputs, hidden = model(input_tensor, hidden)\n",
    "    loss = criterion(outputs.view(-1, input_size), target_tensor)\n",
    "    loss.backward()\n",
    "    optimizer.step()\n",
    "\n",
    "    if (epoch + 1) % 20 == 0:\n",
    "        print(f'Epoch [{epoch+1}/{num_epochs}], Loss: {loss.item():.4f}')\n",
    "\n",
    "# 7. 测试模型\n",
    "\n",
    "\n",
    "def predict(model, start_char, predict_len):\n",
    "    model.eval()\n",
    "    hidden = model.init_hidden()\n",
    "    input_char = torch.tensor(\n",
    "        [char_to_idx[start_char]], dtype=torch.long).unsqueeze(1)\n",
    "    predicted = start_char\n",
    "\n",
    "    for _ in range(predict_len):\n",
    "        output, hidden = model(input_char, hidden)\n",
    "        output = output.squeeze(0)\n",
    "        _, top_idx = torch.max(output, dim=1)\n",
    "        char = idx_to_char[top_idx.item()]\n",
    "        predicted += char\n",
    "        input_char = top_idx.unsqueeze(0)\n",
    "\n",
    "    return predicted\n",
    "\n",
    "\n",
    "print(\"\\n生成文本:\")\n",
    "print(predict(model, 'h', 10))"
   ]
  },
  {
   "cell_type": "code",
   "execution_count": 2,
   "metadata": {},
   "outputs": [
    {
     "data": {
      "text/plain": [
       "(torch.Size([5, 7, 20]), torch.Size([1, 5, 20]), torch.Size([1, 5, 20]))"
      ]
     },
     "execution_count": 2,
     "metadata": {},
     "output_type": "execute_result"
    }
   ],
   "source": [
    "import torch\n",
    "import torch.nn as nn\n",
    "\n",
    "# 参数设置\n",
    "input_size = 10       # 输入特征的维度\n",
    "hidden_size = 20      # 隐藏状态的维度\n",
    "num_layers = 1        # LSTM 层数\n",
    "batch_size = 5        # 批量大小\n",
    "seq_len = 7           # 序列长度\n",
    "\n",
    "lstm = nn.LSTM(input_size, hidden_size, num_layers, batch_first=True)\n",
    "input = torch.randn(batch_size, seq_len, input_size)\n",
    "h_0 = torch.randn(num_layers, batch_size, hidden_size)\n",
    "c_0 = torch.randn(num_layers, batch_size, hidden_size)\n",
    "\n",
    "output, (h_n, c_n) = lstm(input, (h_0, c_0))\n",
    "output.shape, h_n.shape, c_n.shape"
   ]
  },
  {
   "cell_type": "code",
   "execution_count": 3,
   "metadata": {},
   "outputs": [
    {
     "data": {
      "text/plain": [
       "tensor([[1, 2, 3, 4, 5, 6]])"
      ]
     },
     "execution_count": 3,
     "metadata": {},
     "output_type": "execute_result"
    }
   ],
   "source": [
    "import torch\n",
    "import torch.nn as nn\n",
    "\n",
    "a = torch.tensor([\n",
    "    [1, 2, 3]\n",
    "])\n",
    "b = torch.tensor([\n",
    "    [4, 5, 6]\n",
    "])\n",
    "\n",
    "torch.cat((a, b), dim=-1)"
   ]
  },
  {
   "cell_type": "code",
   "execution_count": 9,
   "metadata": {},
   "outputs": [
    {
     "data": {
      "text/plain": [
       "tensor([[4, 5, 6],\n",
       "        [1, 2, 3]])"
      ]
     },
     "execution_count": 9,
     "metadata": {},
     "output_type": "execute_result"
    }
   ],
   "source": [
    "import torch\n",
    "import torch.nn as nn\n",
    "\n",
    "a = torch.tensor([\n",
    "    [1, 2, 3],\n",
    "    [4, 5, 6]\n",
    "])\n",
    "torch.flip(a, dims=[0])"
   ]
  },
  {
   "cell_type": "code",
   "execution_count": 1,
   "metadata": {},
   "outputs": [
    {
     "name": "stdout",
     "output_type": "stream",
     "text": [
      "200 20.00% (6m 40.02s) Loss: 0.9134 Albert / French ✓\n",
      "400 40.00% (6m 40.49s) Loss: 0.9747 Albert / English ✗ (French)\n",
      "600 60.00% (6m 40.96s) Loss: 0.4575 Carlos / Spanish ✓\n",
      "800 80.00% (6m 41.63s) Loss: 0.5296 Albert / French ✓\n",
      "1000 100.00% (6m 42.30s) Loss: 0.0792 Scott / English ✓\n",
      "Henry -> English\n",
      "Jacques -> French\n",
      "Carlos -> Spanish\n"
     ]
    }
   ],
   "source": [
    "import torch\n",
    "import torch.nn as nn\n",
    "import torch.optim as optim\n",
    "import random\n",
    "import string\n",
    "import time\n",
    "import math\n",
    "\n",
    "# 1. 准备数据\n",
    "all_letters = string.ascii_letters + \" .,;'\"\n",
    "n_letters = len(all_letters)\n",
    "\n",
    "category_lines = {\n",
    "    'English': ['Adam', 'Henry', 'Scott'],\n",
    "    'French': ['Albert', 'Pierre', 'Jacques'],\n",
    "    'Spanish': ['Carlos', 'Miguel', 'Jose']\n",
    "}\n",
    "\n",
    "all_categories = list(category_lines.keys())\n",
    "n_categories = len(all_categories)\n",
    "\n",
    "\n",
    "def letter_to_index(letter):\n",
    "    return all_letters.find(letter)\n",
    "\n",
    "\n",
    "def letter_to_tensor(letter):\n",
    "    tensor = torch.zeros(1, n_letters)\n",
    "    tensor[0][letter_to_index(letter)] = 1\n",
    "    return tensor\n",
    "\n",
    "\n",
    "def line_to_tensor(line):\n",
    "    tensor = torch.zeros(len(line), 1, n_letters)\n",
    "    for li, letter in enumerate(line):\n",
    "        tensor[li][0][letter_to_index(letter)] = 1\n",
    "    return tensor\n",
    "\n",
    "# 2. 定义双向 LSTM 模型\n",
    "\n",
    "\n",
    "class CustomBiLSTM(nn.Module):\n",
    "    def __init__(self, input_size, hidden_size, output_size):\n",
    "        super(CustomBiLSTM, self).__init__()\n",
    "        self.hidden_size = hidden_size\n",
    "\n",
    "        # 正向和反向 LSTM 的权重和偏置\n",
    "        self.i2h_f = nn.Linear(input_size + hidden_size, hidden_size)\n",
    "        self.i2h_b = nn.Linear(input_size + hidden_size, hidden_size)\n",
    "        self.h2o = nn.Linear(hidden_size * 2, output_size)\n",
    "\n",
    "    def forward(self, input_tensor):\n",
    "        seq_len = input_tensor.size(0)\n",
    "        batch_size = input_tensor.size(1)\n",
    "\n",
    "        # 初始化正向和反向的隐藏状态\n",
    "        h_f = torch.zeros(batch_size, self.hidden_size)\n",
    "        h_b = torch.zeros(batch_size, self.hidden_size)\n",
    "\n",
    "        # 正向 LSTM\n",
    "        outputs_f = []\n",
    "        for t in range(seq_len):\n",
    "            combined = torch.cat((input_tensor[t], h_f), 1)\n",
    "            h_f = torch.tanh(self.i2h_f(combined))\n",
    "            outputs_f.append(h_f.unsqueeze(0))\n",
    "        outputs_f = torch.cat(outputs_f, dim=0)\n",
    "\n",
    "        # 反向 LSTM\n",
    "        outputs_b = []\n",
    "        for t in reversed(range(seq_len)):\n",
    "            combined = torch.cat((input_tensor[t], h_b), 1)\n",
    "            h_b = torch.tanh(self.i2h_b(combined))\n",
    "            outputs_b.insert(0, h_b.unsqueeze(0))\n",
    "        outputs_b = torch.cat(outputs_b, dim=0)\n",
    "\n",
    "        # 拼接正向和反向的输出\n",
    "        outputs = torch.cat((outputs_f, outputs_b), dim=2)\n",
    "\n",
    "        # 取最后一个时间步的输出用于分类\n",
    "        output = self.h2o(outputs[-1])\n",
    "        return output\n",
    "\n",
    "# 3. 训练模型\n",
    "\n",
    "\n",
    "def category_from_output(output):\n",
    "    top_n, top_i = output.topk(1)\n",
    "    category_i = top_i[0].item()\n",
    "    return all_categories[category_i], category_i\n",
    "\n",
    "\n",
    "def random_training_example():\n",
    "    category = random.choice(all_categories)\n",
    "    line = random.choice(category_lines[category])\n",
    "    category_tensor = torch.tensor(\n",
    "        [all_categories.index(category)], dtype=torch.long)\n",
    "    line_tensor = line_to_tensor(line)\n",
    "    return category, line, category_tensor, line_tensor\n",
    "\n",
    "\n",
    "n_hidden = 128\n",
    "model = CustomBiLSTM(n_letters, n_hidden, n_categories)\n",
    "\n",
    "criterion = nn.CrossEntropyLoss()\n",
    "optimizer = optim.SGD(model.parameters(), lr=0.01)\n",
    "\n",
    "n_iters = 1000\n",
    "print_every = 200\n",
    "\n",
    "\n",
    "def time_since(since):\n",
    "    now = time.time()\n",
    "    s = now - since\n",
    "    m = math.floor(s / 60)\n",
    "    s -= m * 60\n",
    "    return f'{m}m {s:.2f}s'\n",
    "\n",
    "\n",
    "start = time.time()\n",
    "\n",
    "for iter in range(1, n_iters + 1):\n",
    "    category, line, category_tensor, line_tensor = random_training_example()\n",
    "\n",
    "    model.zero_grad()\n",
    "\n",
    "    output = model(line_tensor)\n",
    "    loss = criterion(output, category_tensor)\n",
    "    loss.backward()\n",
    "    optimizer.step()\n",
    "\n",
    "    if iter % print_every == 0:\n",
    "        guess, guess_i = category_from_output(output)\n",
    "        correct = '✓' if guess == category else f'✗ ({category})'\n",
    "        print(f'{iter} {iter / n_iters * 100:.2f}% ({time_since(start)}) Loss: {loss.item():.4f} {line} / {guess} {correct}')\n",
    "\n",
    "# 4. 测试模型\n",
    "\n",
    "\n",
    "def predict(input_line):\n",
    "    with torch.no_grad():\n",
    "        line_tensor = line_to_tensor(input_line)\n",
    "        output = model(line_tensor)\n",
    "        guess, guess_i = category_from_output(output)\n",
    "        print(f'{input_line} -> {guess}')\n",
    "\n",
    "\n",
    "# 测试一些名字\n",
    "predict('Henry')\n",
    "predict('Jacques')\n",
    "predict('Carlos')"
   ]
  },
  {
   "cell_type": "code",
   "execution_count": 16,
   "metadata": {},
   "outputs": [
    {
     "data": {
      "text/plain": [
       "[2, 1]"
      ]
     },
     "execution_count": 16,
     "metadata": {},
     "output_type": "execute_result"
    }
   ],
   "source": [
    "a = []\n",
    "a.insert(0, 1)\n",
    "a.insert(0, 2)\n",
    "a"
   ]
  },
  {
   "cell_type": "code",
   "execution_count": 19,
   "metadata": {},
   "outputs": [
    {
     "data": {
      "text/plain": [
       "tensor([[1, 2, 3, 4, 5, 6]])"
      ]
     },
     "execution_count": 19,
     "metadata": {},
     "output_type": "execute_result"
    }
   ],
   "source": [
    "import torch\n",
    "outputs_f = torch.tensor([\n",
    "    [1, 2, 3]\n",
    "])\n",
    "outputs_b = torch.tensor([\n",
    "    [4, 5, 6]\n",
    "])\n",
    "torch.concat((outputs_f, outputs_b), dim=1)"
   ]
  }
 ],
 "metadata": {
  "kernelspec": {
   "display_name": "myenv",
   "language": "python",
   "name": "python3"
  },
  "language_info": {
   "codemirror_mode": {
    "name": "ipython",
    "version": 3
   },
   "file_extension": ".py",
   "mimetype": "text/x-python",
   "name": "python",
   "nbconvert_exporter": "python",
   "pygments_lexer": "ipython3",
   "version": "3.10.12"
  }
 },
 "nbformat": 4,
 "nbformat_minor": 2
}
