{
 "cells": [
  {
   "cell_type": "code",
   "execution_count": 3,
   "metadata": {},
   "outputs": [],
   "source": [
    "import os\n",
    "\n",
    "# 假设我们要删除一个空的目录 'test_dir'\n",
    "os.removedirs('./dir/dir1')  # 删除单个空目录"
   ]
  },
  {
   "cell_type": "code",
   "execution_count": 11,
   "metadata": {},
   "outputs": [
    {
     "data": {
      "text/plain": [
       "tensor([[[[0., 2.],\n",
       "          [8., 3.]]]])"
      ]
     },
     "execution_count": 11,
     "metadata": {},
     "output_type": "execute_result"
    }
   ],
   "source": [
    "import torch\n",
    "import torch.nn as nn\n",
    "import torch.nn.functional as F\n",
    "\n",
    "x = torch.tensor([\n",
    "    [[\n",
    "        [0, 1],\n",
    "        [2, 3]\n",
    "    ]]\n",
    "], dtype=torch.float32)\n",
    "\n",
    "w = torch.tensor([[\n",
    "    [[1, 4],\n",
    "     [2, 3]]\n",
    "]], dtype=torch.float32)\n",
    "\n",
    "b = torch.tensor([0], dtype=torch.float32)\n",
    "\n",
    "output = F.conv_transpose2d(input=x, weight=w, bias=b, stride=2, padding=1)\n",
    "output"
   ]
  },
  {
   "cell_type": "code",
   "execution_count": 15,
   "metadata": {},
   "outputs": [
    {
     "data": {
      "text/plain": [
       "tensor([[[[0., 2.],\n",
       "          [8., 3.]]]], grad_fn=<ConvolutionBackward0>)"
      ]
     },
     "execution_count": 15,
     "metadata": {},
     "output_type": "execute_result"
    }
   ],
   "source": [
    "import torch\n",
    "import torch.nn as nn\n",
    "import torch.nn.functional as F\n",
    "\n",
    "# 定义转置卷积层\n",
    "ct = nn.ConvTranspose2d(in_channels=1, out_channels=1,\n",
    "                        kernel_size=2, stride=2, padding=1, )\n",
    "\n",
    "# 定义输入\n",
    "x = torch.tensor([\n",
    "    [[\n",
    "        [0, 1],\n",
    "        [2, 3]\n",
    "    ]]\n",
    "], dtype=torch.float32)\n",
    "\n",
    "# 定义卷积核\n",
    "w = torch.tensor([\n",
    "    [\n",
    "        [\n",
    "            [1, 4],\n",
    "            [2, 3]\n",
    "        ]\n",
    "    ]\n",
    "], dtype=torch.float32)\n",
    "\n",
    "# 定义偏置\n",
    "b = torch.tensor([0], dtype=torch.float32)\n",
    "\n",
    "# 设置卷积核和偏置\n",
    "ct.weight = nn.Parameter(w)\n",
    "ct.bias = nn.Parameter(b)\n",
    "\n",
    "out = ct(x)\n",
    "out"
   ]
  }
 ],
 "metadata": {
  "kernelspec": {
   "display_name": "myenv",
   "language": "python",
   "name": "python3"
  },
  "language_info": {
   "codemirror_mode": {
    "name": "ipython",
    "version": 3
   },
   "file_extension": ".py",
   "mimetype": "text/x-python",
   "name": "python",
   "nbconvert_exporter": "python",
   "pygments_lexer": "ipython3",
   "version": "3.10.12"
  }
 },
 "nbformat": 4,
 "nbformat_minor": 2
}
