{
 "cells": [
  {
   "cell_type": "code",
   "execution_count": 1,
   "metadata": {},
   "outputs": [
    {
     "name": "stdout",
     "output_type": "stream",
     "text": [
      "二进制矩阵表示:\n",
      "[[1 0 1 0]\n",
      " [0 1 0 1]\n",
      " [1 1 1 1]\n",
      " [0 0 1 0]]\n",
      "\n",
      "类别:\n",
      "['label1' 'label2' 'label3' 'label4']\n",
      "\n",
      "新数据的二进制矩阵表示:\n",
      "[[0 1 1 0]]\n"
     ]
    }
   ],
   "source": [
    "from sklearn.preprocessing import MultiLabelBinarizer\n",
    "\n",
    "# 假设我们有一些多标签数据\n",
    "all_labels = ['label1', 'label2', 'label3', 'label4']\n",
    "data = [\n",
    "    ['label1', 'label3'],\n",
    "    ['label2', 'label4'],\n",
    "    ['label1', 'label2', 'label3', 'label4'],\n",
    "    ['label3']\n",
    "]\n",
    "\n",
    "# 创建 MultiLabelBinarizer 对象\n",
    "mlb = MultiLabelBinarizer(classes=all_labels)\n",
    "\n",
    "# 使用 fit_transform 方法将多标签数据转换为二进制矩阵\n",
    "binary_matrix = mlb.fit_transform(data)\n",
    "\n",
    "print(\"二进制矩阵表示:\")\n",
    "print(binary_matrix)\n",
    "\n",
    "# 输出类别信息\n",
    "print(\"\\n类别:\")\n",
    "print(mlb.classes_)\n",
    "\n",
    "# 假设我们有新的多标签数据，进行转换\n",
    "new_data = [['label2', 'label3']]\n",
    "new_binary_matrix = mlb.transform(new_data)\n",
    "print(\"\\n新数据的二进制矩阵表示:\")\n",
    "print(new_binary_matrix)"
   ]
  }
 ],
 "metadata": {
  "kernelspec": {
   "display_name": "myenv",
   "language": "python",
   "name": "python3"
  },
  "language_info": {
   "codemirror_mode": {
    "name": "ipython",
    "version": 3
   },
   "file_extension": ".py",
   "mimetype": "text/x-python",
   "name": "python",
   "nbconvert_exporter": "python",
   "pygments_lexer": "ipython3",
   "version": "3.10.12"
  }
 },
 "nbformat": 4,
 "nbformat_minor": 2
}
