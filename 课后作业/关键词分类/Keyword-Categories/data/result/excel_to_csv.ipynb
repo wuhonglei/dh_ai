{
 "cells": [
  {
   "cell_type": "code",
   "execution_count": 2,
   "metadata": {},
   "outputs": [
    {
     "data": {
      "text/plain": [
       "dict_keys(['Category', 'Config', 'Filter', 'Stopper', 'SG', 'MY', 'TH', 'TW', 'ID', 'VN', 'PH', 'BR', 'MX', 'CL', 'CO', 'Result-SG', 'Result-MY', 'Result-TH', 'Result-TW', 'Result-ID', 'Result-VN', 'Result-PH', 'Result-BR', 'Result-MX', 'Result-CL', 'Result-CO', 'Predict-Result-SG', 'Predict-Result-MY', 'Predict-Result-TH', 'Predict-Result-TW', 'Predict-Result-ID', 'Predict-Result-VN', 'Predict-Result-PH', 'Predict-Result-BR', 'Predict-Result-MX', 'Predict-Result-CL', 'Predict-Result-CO', '(TMP) Regex', '(TMP) get most cat'])"
      ]
     },
     "execution_count": 2,
     "metadata": {},
     "output_type": "execute_result"
    }
   ],
   "source": [
    "import pandas as pd\n",
    "import os\n",
    "\n",
    "file_path = os.path.join('./Keyword Mapping.xlsx')\n",
    "sheet_name = 'SG'\n",
    "\n",
    "df = pd.read_excel(file_path, sheet_name=None)\n",
    "df.keys()"
   ]
  },
  {
   "cell_type": "code",
   "execution_count": 6,
   "metadata": {},
   "outputs": [],
   "source": [
    "sheet_names = [\n",
    "    'Result-SG', 'Result-MY', 'Result-TH', 'Result-TW', 'Result-ID', 'Result-VN', 'Result-PH', 'Result-BR', 'Result-MX', 'Result-CL', 'Result-CO'\n",
    "]\n",
    "for sheet_name in sheet_names:\n",
    "    country_df = df[sheet_name].drop(\n",
    "        'Keyword', axis=1)\n",
    "    country = sheet_name.split('-')[-1].lower()\n",
    "    country_df.to_csv(f'./{country}.csv', index=False)"
   ]
  }
 ],
 "metadata": {
  "kernelspec": {
   "display_name": "myenv",
   "language": "python",
   "name": "python3"
  },
  "language_info": {
   "codemirror_mode": {
    "name": "ipython",
    "version": 3
   },
   "file_extension": ".py",
   "mimetype": "text/x-python",
   "name": "python",
   "nbconvert_exporter": "python",
   "pygments_lexer": "ipython3",
   "version": "3.10.12"
  }
 },
 "nbformat": 4,
 "nbformat_minor": 2
}
