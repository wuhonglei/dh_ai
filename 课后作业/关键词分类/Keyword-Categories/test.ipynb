{
 "cells": [
  {
   "cell_type": "code",
   "execution_count": 1,
   "metadata": {},
   "outputs": [
    {
     "data": {
      "text/html": [
       "<div>\n",
       "<style scoped>\n",
       "    .dataframe tbody tr th:only-of-type {\n",
       "        vertical-align: middle;\n",
       "    }\n",
       "\n",
       "    .dataframe tbody tr th {\n",
       "        vertical-align: top;\n",
       "    }\n",
       "\n",
       "    .dataframe thead th {\n",
       "        text-align: right;\n",
       "    }\n",
       "</style>\n",
       "<table border=\"1\" class=\"dataframe\">\n",
       "  <thead>\n",
       "    <tr style=\"text-align: right;\">\n",
       "      <th></th>\n",
       "      <th>Keyword</th>\n",
       "      <th>Category</th>\n",
       "    </tr>\n",
       "  </thead>\n",
       "  <tbody>\n",
       "    <tr>\n",
       "      <th>0</th>\n",
       "      <td>perromart</td>\n",
       "      <td>Pet Food &amp; Supplies</td>\n",
       "    </tr>\n",
       "    <tr>\n",
       "      <th>1</th>\n",
       "      <td>stojo singapore</td>\n",
       "      <td>Home &amp; Living</td>\n",
       "    </tr>\n",
       "    <tr>\n",
       "      <th>2</th>\n",
       "      <td>remax</td>\n",
       "      <td>Mobile &amp; Gadgets</td>\n",
       "    </tr>\n",
       "    <tr>\n",
       "      <th>3</th>\n",
       "      <td>seahorse singapore</td>\n",
       "      <td>Home &amp; Living</td>\n",
       "    </tr>\n",
       "    <tr>\n",
       "      <th>4</th>\n",
       "      <td>bluetooth earpiece</td>\n",
       "      <td>Mobile &amp; Gadgets</td>\n",
       "    </tr>\n",
       "    <tr>\n",
       "      <th>...</th>\n",
       "      <td>...</td>\n",
       "      <td>...</td>\n",
       "    </tr>\n",
       "    <tr>\n",
       "      <th>24678</th>\n",
       "      <td>coklat singapore</td>\n",
       "      <td>Food &amp; Beverages</td>\n",
       "    </tr>\n",
       "    <tr>\n",
       "      <th>24679</th>\n",
       "      <td>wooden crate</td>\n",
       "      <td>Home &amp; Living</td>\n",
       "    </tr>\n",
       "    <tr>\n",
       "      <th>24680</th>\n",
       "      <td>redmi 12 5g price in singapore</td>\n",
       "      <td>Mobile &amp; Gadgets</td>\n",
       "    </tr>\n",
       "    <tr>\n",
       "      <th>24681</th>\n",
       "      <td>nike pros</td>\n",
       "      <td>Sports &amp; Outdoors</td>\n",
       "    </tr>\n",
       "    <tr>\n",
       "      <th>24682</th>\n",
       "      <td>lg c2</td>\n",
       "      <td>Home Appliances</td>\n",
       "    </tr>\n",
       "  </tbody>\n",
       "</table>\n",
       "<p>24683 rows × 2 columns</p>\n",
       "</div>"
      ],
      "text/plain": [
       "                              Keyword             Category\n",
       "0                           perromart  Pet Food & Supplies\n",
       "1                     stojo singapore        Home & Living\n",
       "2                               remax     Mobile & Gadgets\n",
       "3                  seahorse singapore        Home & Living\n",
       "4                  bluetooth earpiece     Mobile & Gadgets\n",
       "...                               ...                  ...\n",
       "24678                coklat singapore     Food & Beverages\n",
       "24679                    wooden crate        Home & Living\n",
       "24680  redmi 12 5g price in singapore     Mobile & Gadgets\n",
       "24681                       nike pros    Sports & Outdoors\n",
       "24682                           lg c2      Home Appliances\n",
       "\n",
       "[24683 rows x 2 columns]"
      ]
     },
     "execution_count": 1,
     "metadata": {},
     "output_type": "execute_result"
    }
   ],
   "source": [
    "import pandas as pd\n",
    "\n",
    "file_path = './data/Keyword Categorization.xlsx'\n",
    "sheet_name = 'SG'\n",
    "\n",
    "df = pd.read_excel(file_path, sheet_name=sheet_name)"
   ]
  },
  {
   "cell_type": "code",
   "execution_count": 2,
   "metadata": {},
   "outputs": [
    {
     "data": {
      "text/plain": [
       "Index(['Keyword', 'Category'], dtype='object')"
      ]
     },
     "execution_count": 2,
     "metadata": {},
     "output_type": "execute_result"
    }
   ],
   "source": [
    "df.columns"
   ]
  }
 ],
 "metadata": {
  "kernelspec": {
   "display_name": "myenv",
   "language": "python",
   "name": "python3"
  },
  "language_info": {
   "codemirror_mode": {
    "name": "ipython",
    "version": 3
   },
   "file_extension": ".py",
   "mimetype": "text/x-python",
   "name": "python",
   "nbconvert_exporter": "python",
   "pygments_lexer": "ipython3",
   "version": "3.10.12"
  }
 },
 "nbformat": 4,
 "nbformat_minor": 2
}
