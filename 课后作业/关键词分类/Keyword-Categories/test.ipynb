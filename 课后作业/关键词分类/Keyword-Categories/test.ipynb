{
 "cells": [
  {
   "cell_type": "code",
   "execution_count": 1,
   "metadata": {},
   "outputs": [
    {
     "data": {
      "text/html": [
       "<div>\n",
       "<style scoped>\n",
       "    .dataframe tbody tr th:only-of-type {\n",
       "        vertical-align: middle;\n",
       "    }\n",
       "\n",
       "    .dataframe tbody tr th {\n",
       "        vertical-align: top;\n",
       "    }\n",
       "\n",
       "    .dataframe thead th {\n",
       "        text-align: right;\n",
       "    }\n",
       "</style>\n",
       "<table border=\"1\" class=\"dataframe\">\n",
       "  <thead>\n",
       "    <tr style=\"text-align: right;\">\n",
       "      <th></th>\n",
       "      <th>Keyword</th>\n",
       "      <th>Category</th>\n",
       "    </tr>\n",
       "  </thead>\n",
       "  <tbody>\n",
       "    <tr>\n",
       "      <th>0</th>\n",
       "      <td>perromart</td>\n",
       "      <td>Pet Food &amp; Supplies</td>\n",
       "    </tr>\n",
       "    <tr>\n",
       "      <th>1</th>\n",
       "      <td>stojo singapore</td>\n",
       "      <td>Home &amp; Living</td>\n",
       "    </tr>\n",
       "    <tr>\n",
       "      <th>2</th>\n",
       "      <td>remax</td>\n",
       "      <td>Mobile &amp; Gadgets</td>\n",
       "    </tr>\n",
       "    <tr>\n",
       "      <th>3</th>\n",
       "      <td>seahorse singapore</td>\n",
       "      <td>Home &amp; Living</td>\n",
       "    </tr>\n",
       "    <tr>\n",
       "      <th>4</th>\n",
       "      <td>bluetooth earpiece</td>\n",
       "      <td>Mobile &amp; Gadgets</td>\n",
       "    </tr>\n",
       "    <tr>\n",
       "      <th>...</th>\n",
       "      <td>...</td>\n",
       "      <td>...</td>\n",
       "    </tr>\n",
       "    <tr>\n",
       "      <th>24678</th>\n",
       "      <td>coklat singapore</td>\n",
       "      <td>Food &amp; Beverages</td>\n",
       "    </tr>\n",
       "    <tr>\n",
       "      <th>24679</th>\n",
       "      <td>wooden crate</td>\n",
       "      <td>Home &amp; Living</td>\n",
       "    </tr>\n",
       "    <tr>\n",
       "      <th>24680</th>\n",
       "      <td>redmi 12 5g price in singapore</td>\n",
       "      <td>Mobile &amp; Gadgets</td>\n",
       "    </tr>\n",
       "    <tr>\n",
       "      <th>24681</th>\n",
       "      <td>nike pros</td>\n",
       "      <td>Sports &amp; Outdoors</td>\n",
       "    </tr>\n",
       "    <tr>\n",
       "      <th>24682</th>\n",
       "      <td>lg c2</td>\n",
       "      <td>Home Appliances</td>\n",
       "    </tr>\n",
       "  </tbody>\n",
       "</table>\n",
       "<p>24683 rows × 2 columns</p>\n",
       "</div>"
      ],
      "text/plain": [
       "                              Keyword             Category\n",
       "0                           perromart  Pet Food & Supplies\n",
       "1                     stojo singapore        Home & Living\n",
       "2                               remax     Mobile & Gadgets\n",
       "3                  seahorse singapore        Home & Living\n",
       "4                  bluetooth earpiece     Mobile & Gadgets\n",
       "...                               ...                  ...\n",
       "24678                coklat singapore     Food & Beverages\n",
       "24679                    wooden crate        Home & Living\n",
       "24680  redmi 12 5g price in singapore     Mobile & Gadgets\n",
       "24681                       nike pros    Sports & Outdoors\n",
       "24682                           lg c2      Home Appliances\n",
       "\n",
       "[24683 rows x 2 columns]"
      ]
     },
     "execution_count": 1,
     "metadata": {},
     "output_type": "execute_result"
    }
   ],
   "source": [
    "import pandas as pd\n",
    "\n",
    "file_path = './data/Keyword Categorization.xlsx'\n",
    "sheet_name = 'SG'\n",
    "\n",
    "df = pd.read_excel(file_path, sheet_name=sheet_name)"
   ]
  },
  {
   "cell_type": "code",
   "execution_count": 2,
   "metadata": {},
   "outputs": [
    {
     "data": {
      "text/plain": [
       "Index(['Keyword', 'Category'], dtype='object')"
      ]
     },
     "execution_count": 2,
     "metadata": {},
     "output_type": "execute_result"
    }
   ],
   "source": [
    "df.columns"
   ]
  },
  {
   "cell_type": "code",
   "execution_count": 3,
   "metadata": {},
   "outputs": [
    {
     "name": "stdout",
     "output_type": "stream",
     "text": [
      "{'love': 4, 'programming': 5, 'is': 3, 'fun': 2, 'beautiful': 0, 'feeling': 1}\n"
     ]
    },
    {
     "name": "stdout",
     "output_type": "stream",
     "text": [
      "[[0 0 0 0 1 1]\n",
      " [0 0 1 1 0 2]\n",
      " [1 1 0 1 1 0]]\n"
     ]
    }
   ],
   "source": [
    "from sklearn.feature_extraction.text import CountVectorizer\n",
    "\n",
    "# 示例文档\n",
    "documents = [\n",
    "    'I love programming.',\n",
    "    'Programming Programming is fun.',\n",
    "    'Love is a beautiful feeling.'\n",
    "]\n",
    "\n",
    "# 创建 CountVectorizer 对象\n",
    "vectorizer = CountVectorizer()\n",
    "\n",
    "# 将文本数据转换为词频矩阵\n",
    "X = vectorizer.fit_transform(documents)\n",
    "\n",
    "# 输出词汇表（词到索引的映射）\n",
    "print(vectorizer.vocabulary_)\n",
    "\n",
    "# 输出稀疏矩阵\n",
    "print(X.toarray())"
   ]
  },
  {
   "cell_type": "code",
   "execution_count": 14,
   "metadata": {},
   "outputs": [
    {
     "data": {
      "text/plain": [
       "0    黑糖姜 母茶\n",
       "Name: text, dtype: object"
      ]
     },
     "execution_count": 14,
     "metadata": {},
     "output_type": "execute_result"
    }
   ],
   "source": [
    "import pandas as pd\n",
    "\n",
    "data = pd.DataFrame({\n",
    "    'text': ['黑糖姜 母茶']\n",
    "})\n",
    "\n",
    "data['text'].replace(r\"[^\\w\\s]\", \"\", regex=True)"
   ]
  },
  {
   "cell_type": "code",
   "execution_count": 20,
   "metadata": {},
   "outputs": [
    {
     "name": "stdout",
     "output_type": "stream",
     "text": [
      "['[', '/', ']']\n"
     ]
    }
   ],
   "source": [
    "import re\n",
    "\n",
    "text = \"黑糖姜母茶[/]\"\n",
    "matches = re.findall(r\"[^\\w\\s]\", text)\n",
    "print(matches)"
   ]
  },
  {
   "cell_type": "code",
   "execution_count": 22,
   "metadata": {},
   "outputs": [
    {
     "name": "stdout",
     "output_type": "stream",
     "text": [
      "黑糖姜母茶\n"
     ]
    }
   ],
   "source": [
    "import nltk\n",
    "from nltk.corpus import stopwords\n",
    "from nltk.tokenize import word_tokenize\n",
    "\n",
    "text = '黑糖姜母茶'\n",
    "words = word_tokenize(text)\n",
    "for word in words:\n",
    "    print(word)\n",
    "    # if word in stopwords.words('chinese'):\n",
    "    #     print(word)"
   ]
  },
  {
   "cell_type": "code",
   "execution_count": 3,
   "metadata": {},
   "outputs": [
    {
     "name": "stdout",
     "output_type": "stream",
     "text": [
      "     size  color_blue  color_green  color_red\n",
      "0   small       False        False       True\n",
      "1  medium        True        False      False\n",
      "2   large       False         True      False\n"
     ]
    }
   ],
   "source": [
    "import pandas as pd\n",
    "\n",
    "data = {'color': ['red', 'blue', 'green'],\n",
    "        'size': ['small', 'medium', 'large']}\n",
    "df = pd.DataFrame(data)\n",
    "\n",
    "dummies = pd.get_dummies(df, columns=['color'])\n",
    "print(dummies)"
   ]
  },
  {
   "cell_type": "code",
   "execution_count": 4,
   "metadata": {},
   "outputs": [
    {
     "name": "stdout",
     "output_type": "stream",
     "text": [
      "['class1']\n"
     ]
    }
   ],
   "source": [
    "import pandas as pd\n",
    "from sklearn.model_selection import train_test_split\n",
    "from sklearn.feature_extraction.text import TfidfVectorizer\n",
    "from sklearn.linear_model import LogisticRegression\n",
    "\n",
    "# 假设这是你的数据\n",
    "data = {\n",
    "    'feature_1': [1, 2, 3, 4],\n",
    "    'feature_2': [5, 6, 7, 8],\n",
    "    'feature_3': [9, 10, 11, 12],\n",
    "    'target': ['class1', 'class2', 'class1', 'class3']\n",
    "}\n",
    "\n",
    "df = pd.DataFrame(data)\n",
    "\n",
    "# 将 target 列设置为索引\n",
    "df.set_index('target', inplace=True)\n",
    "\n",
    "# 假设进行一个简单的文本分类任务，这里仅为示例\n",
    "# 提取特征，假设 feature_1、feature_2、feature_3 为数值特征，这里进行简单处理\n",
    "X = df[['feature_1', 'feature_2', 'feature_3']]\n",
    "y = df.index\n",
    "\n",
    "# 划分训练集和测试集\n",
    "X_train, X_test, y_train, y_test = train_test_split(\n",
    "    X, y, test_size=0.2, random_state=42)\n",
    "\n",
    "# 进行机器学习训练，这里使用逻辑回归作为示例\n",
    "model = LogisticRegression()\n",
    "model.fit(X_train, y_train)\n",
    "\n",
    "# 进行预测等后续操作\n",
    "predictions = model.predict(X_test)\n",
    "print(predictions)"
   ]
  },
  {
   "cell_type": "code",
   "execution_count": 9,
   "metadata": {},
   "outputs": [
    {
     "data": {
      "text/html": [
       "<div>\n",
       "<style scoped>\n",
       "    .dataframe tbody tr th:only-of-type {\n",
       "        vertical-align: middle;\n",
       "    }\n",
       "\n",
       "    .dataframe tbody tr th {\n",
       "        vertical-align: top;\n",
       "    }\n",
       "\n",
       "    .dataframe thead th {\n",
       "        text-align: right;\n",
       "    }\n",
       "</style>\n",
       "<table border=\"1\" class=\"dataframe\">\n",
       "  <thead>\n",
       "    <tr style=\"text-align: right;\">\n",
       "      <th></th>\n",
       "      <th>text</th>\n",
       "    </tr>\n",
       "  </thead>\n",
       "  <tbody>\n",
       "    <tr>\n",
       "      <th>0</th>\n",
       "      <td>I love programming.</td>\n",
       "    </tr>\n",
       "    <tr>\n",
       "      <th>1</th>\n",
       "      <td>Programming is fun.</td>\n",
       "    </tr>\n",
       "    <tr>\n",
       "      <th>2</th>\n",
       "      <td>Love is a beautiful feeling.</td>\n",
       "    </tr>\n",
       "  </tbody>\n",
       "</table>\n",
       "</div>"
      ],
      "text/plain": [
       "                           text\n",
       "0           I love programming.\n",
       "1           Programming is fun.\n",
       "2  Love is a beautiful feeling."
      ]
     },
     "execution_count": 9,
     "metadata": {},
     "output_type": "execute_result"
    }
   ],
   "source": [
    "import pandas as pd\n",
    "\n",
    "df = pd.DataFrame({\n",
    "    'text': ['I love programming.', 'Programming is fun.', 'Love is a beautiful feeling.']\n",
    "})\n",
    "df"
   ]
  }
 ],
 "metadata": {
  "kernelspec": {
   "display_name": "myenv",
   "language": "python",
   "name": "python3"
  },
  "language_info": {
   "codemirror_mode": {
    "name": "ipython",
    "version": 3
   },
   "file_extension": ".py",
   "mimetype": "text/x-python",
   "name": "python",
   "nbconvert_exporter": "python",
   "pygments_lexer": "ipython3",
   "version": "3.10.12"
  }
 },
 "nbformat": 4,
 "nbformat_minor": 2
}
