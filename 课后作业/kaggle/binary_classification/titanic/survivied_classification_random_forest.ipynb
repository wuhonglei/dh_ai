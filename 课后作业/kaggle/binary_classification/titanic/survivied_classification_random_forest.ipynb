{
 "cells": [
  {
   "cell_type": "code",
   "execution_count": 23,
   "metadata": {},
   "outputs": [
    {
     "name": "stdout",
     "output_type": "stream",
     "text": [
      "Validation Accuracy: 0.8156424581005587\n",
      "Cross-Validation Accuracy: 0.8159939740129307\n"
     ]
    }
   ],
   "source": [
    "import pandas as pd\n",
    "import numpy as np\n",
    "from sklearn.ensemble import RandomForestClassifier\n",
    "from sklearn.model_selection import train_test_split, GridSearchCV, cross_val_score\n",
    "from sklearn.metrics import accuracy_score\n",
    "\n",
    "# 加载数据\n",
    "train = pd.read_csv('./data/train.csv')\n",
    "test = pd.read_csv('./data/test.csv')\n",
    "\n",
    "\n",
    "def data_preprocess(data):\n",
    "    # 特征工程示例\n",
    "    # data['Title'] = data['Name'].apply(\n",
    "    #     lambda name: name.split(',')[1].split('.')[0].strip())\n",
    "    data['FamilySize'] = data['SibSp'] + data['Parch'] + 1\n",
    "    data['IsAlone'] = (data['FamilySize'] == 1).astype(int)\n",
    "    data['AgeGroup'] = pd.cut(data['Age'], bins=[0, 12, 20, 40, 60, 80], labels=[\n",
    "        'Child', 'Teen', 'Adult', 'Middle-aged', 'Senior'])\n",
    "    data['FareBand'] = pd.qcut(data['Fare'], 4, labels=[1, 2, 3, 4])\n",
    "\n",
    "    # 填补缺失值\n",
    "    data['Age'] = data['Age'].fillna(data['Age'].median())\n",
    "    data['Embarked'] = data['Embarked'].fillna(\n",
    "        data['Embarked'].mode()[0])\n",
    "\n",
    "    # 特征编码\n",
    "    data = pd.get_dummies(data, columns=[\n",
    "        'Sex', 'Embarked', 'AgeGroup', 'FareBand'], drop_first=True)\n",
    "\n",
    "    # 模型训练\n",
    "    X = data.drop(['PassengerId', 'Survived',\n",
    "                  'Name', 'Title', 'Ticket', 'Cabin'], axis=1, errors='ignore')\n",
    "    return X\n",
    "\n",
    "\n",
    "X = data_preprocess(train)\n",
    "y = train['Survived']\n",
    "\n",
    "X_train, X_valid, y_train, y_valid = train_test_split(\n",
    "    X, y, test_size=0.2, random_state=42)\n",
    "\n",
    "rf_model = RandomForestClassifier(\n",
    "    n_estimators=100, max_depth=5, random_state=42)\n",
    "rf_model.fit(X_train, y_train)\n",
    "\n",
    "y_pred = rf_model.predict(X_valid)\n",
    "print('Validation Accuracy:', accuracy_score(y_valid, y_pred))\n",
    "\n",
    "# 交叉验证分数\n",
    "cv_scores = cross_val_score(rf_model, X, y, cv=5)\n",
    "print('Cross-Validation Accuracy:', np.mean(cv_scores))"
   ]
  },
  {
   "cell_type": "code",
   "execution_count": 26,
   "metadata": {},
   "outputs": [],
   "source": [
    "data = data_preprocess(test)\n",
    "pd.DataFrame({'PassengerId': test['PassengerId'], 'Survived': rf_model.predict(\n",
    "    data)}).to_csv('./data/result.csv', index=False)"
   ]
  }
 ],
 "metadata": {
  "kernelspec": {
   "display_name": "myenv",
   "language": "python",
   "name": "python3"
  },
  "language_info": {
   "codemirror_mode": {
    "name": "ipython",
    "version": 3
   },
   "file_extension": ".py",
   "mimetype": "text/x-python",
   "name": "python",
   "nbconvert_exporter": "python",
   "pygments_lexer": "ipython3",
   "version": "3.9.19"
  }
 },
 "nbformat": 4,
 "nbformat_minor": 2
}
