{
 "cells": [
  {
   "cell_type": "code",
   "execution_count": 36,
   "metadata": {},
   "outputs": [],
   "source": [
    "\"\"\"\n",
    "描述: 根据工年预测工资\n",
    "参考: https://www.kaggle.com/code/ybifoundation/simple-linear-regression/notebook\n",
    "\"\"\"\n",
    "\n",
    "import pandas as pd\n",
    "import matplotlib.pyplot as plt\n",
    "from IPython.display import clear_output\n",
    "import torch\n",
    "\n",
    "# 检查是否有可用的 GPU\n",
    "device = torch.device(\"cuda\" if torch.cuda.is_available() else \"cpu\")\n",
    "df = pd.read_csv('./data/salary_data.csv')\n",
    "X = df['Experience Years'].values.reshape(-1, 1)  # 转为列向量\n",
    "y = df['Salary'].values.reshape(-1, 1) / 10000\n",
    "\n",
    "\n",
    "def plot_sample_data(X, y):\n",
    "    plt.scatter(X, y, color='blue')\n",
    "    plt.xlabel('Experience Years')\n",
    "    plt.ylabel('Salary')\n",
    "    plt.title('Salary vs Experience Years')\n",
    "    plt.show()\n",
    "\n",
    "\n",
    "def plot_linear_regression(X, y, model):\n",
    "    \"\"\" 绘制线性回归的结果 \"\"\"\n",
    "    model.eval()\n",
    "    clear_output(wait=True)\n",
    "    plt.scatter(X, y, color='blue')\n",
    "    plt.plot(X, model(torch.from_numpy(X).float().to(device)).cpu().detach().numpy(), color='red')\n",
    "    plt.xlabel('Experience Years')\n",
    "    plt.ylabel('Salary')\n",
    "    plt.title('Salary vs Experience Years')\n",
    "    plt.show()\n",
    "\n",
    "# plot_sample_data(X, y)"
   ]
  },
  {
   "cell_type": "code",
   "execution_count": 39,
   "metadata": {},
   "outputs": [
    {
     "data": {
      "image/png": "[encoded data removed]",
      "text/plain": [
       "<Figure size 640x480 with 1 Axes>"
      ]
     },
     "metadata": {},
     "output_type": "display_data"
    }
   ],
   "source": [
    "import torch\n",
    "import torch.nn as nn\n",
    "\n",
    "from sklearn.model_selection import train_test_split\n",
    "X_train, X_test, y_train, y_test = train_test_split(\n",
    "    X, y, test_size=0.2, random_state=0)\n",
    "\n",
    "\n",
    "class LinearRegression(nn.Module):\n",
    "    def __init__(self, input_dim, output_dim):\n",
    "        super(LinearRegression, self).__init__()\n",
    "        self.linear = nn.Linear(input_dim, output_dim)\n",
    "        # 手动初始化权重\n",
    "        self.linear.weight = nn.Parameter(torch.tensor([[0.01]]))\n",
    "\n",
    "    def forward(self, x):\n",
    "        return self.linear(x)\n",
    "\n",
    "    def predict(self, x):\n",
    "        return self.forward(x) * 10000\n",
    "\n",
    "\n",
    "input_dim = X_train.shape[1]\n",
    "output_dim = 1\n",
    "model = LinearRegression(input_dim, output_dim)\n",
    "model.to(device)\n",
    "criteria = nn.MSELoss()\n",
    "learning_rate = 0.005\n",
    "iterations = 10000\n",
    "\n",
    "optimizer = torch.optim.Adam(model.parameters(), lr=learning_rate)\n",
    "\n",
    "inputs = torch.from_numpy(X_train).float().to(device)\n",
    "labels = torch.from_numpy(y_train).float().to(device)\n",
    "\n",
    "for i in range(iterations):\n",
    "    plot_linear_regression(X_train, y_train, model)\n",
    "    model.train()\n",
    "    optimizer.zero_grad()\n",
    "    outputs = model(inputs)\n",
    "    loss = criteria(outputs, labels)\n",
    "    loss.backward()  # compute gradients\n",
    "    optimizer.step()  # update weights\n",
    "    if i % 1000 == 0:\n",
    "        print('epoch {}, loss {}'.format(i, loss.item()))"
   ]
  },
  {
   "cell_type": "code",
   "execution_count": 5,
   "metadata": {},
   "outputs": [
    {
     "data": {
      "text/plain": [
       "(Parameter containing:\n",
       " tensor([[0.9510]], requires_grad=True),\n",
       " Parameter containing:\n",
       " tensor([2.6125], requires_grad=True))"
      ]
     },
     "execution_count": 5,
     "metadata": {},
     "output_type": "execute_result"
    }
   ],
   "source": [
    "# 打印模型参数和截距\n",
    "model.linear.weight, model.linear.bias"
   ]
  },
  {
   "cell_type": "code",
   "execution_count": 8,
   "metadata": {},
   "outputs": [
    {
     "name": "stdout",
     "output_type": "stream",
     "text": [
      "loss on test data 0.3176531195640564\n"
     ]
    }
   ],
   "source": [
    "# 使用测试数据集评估模型\n",
    "inputs = torch.from_numpy(X_test).float().to(device)\n",
    "labels = torch.from_numpy(y_test).float().to(device)\n",
    "outputs = model(inputs)\n",
    "loss = criteria(outputs, labels)\n",
    "print('loss on test data', loss.item())"
   ]
  },
  {
   "cell_type": "code",
   "execution_count": 10,
   "metadata": {},
   "outputs": [
    {
     "data": {
      "text/plain": [
       "73674.25"
      ]
     },
     "execution_count": 10,
     "metadata": {},
     "output_type": "execute_result"
    }
   ],
   "source": [
    "# 根据工作年限预测工资\n",
    "years = 5\n",
    "salary = model.predict(torch.tensor([years]).float().to(device))\n",
    "salary.item()"
   ]
  }
 ],
 "metadata": {
  "kernelspec": {
   "display_name": "myenv",
   "language": "python",
   "name": "python3"
  },
  "language_info": {
   "codemirror_mode": {
    "name": "ipython",
    "version": 3
   },
   "file_extension": ".py",
   "mimetype": "text/x-python",
   "name": "python",
   "nbconvert_exporter": "python",
   "pygments_lexer": "ipython3",
   "version": "3.10.12"
  }
 },
 "nbformat": 4,
 "nbformat_minor": 2
}
