{
 "cells": [
  {
   "cell_type": "code",
   "execution_count": 1,
   "id": "6419a1cc",
   "metadata": {},
   "outputs": [],
   "source": [
    "#导入torch库\n",
    "import torch as t"
   ]
  },
  {
   "cell_type": "code",
   "execution_count": 2,
   "id": "ac8e3290",
   "metadata": {},
   "outputs": [],
   "source": [
    "#注意是小写tensor\n",
    "a = t.tensor([1, 2, 3, 4, 5])"
   ]
  },
  {
   "cell_type": "code",
   "execution_count": 3,
   "id": "f3bb5338",
   "metadata": {},
   "outputs": [
    {
     "name": "stdout",
     "output_type": "stream",
     "text": [
      "tensor([1, 2, 3, 4, 5])\n",
      "torch.LongTensor\n"
     ]
    }
   ],
   "source": [
    "print(a) #打印a\n",
    "print(a.type()) #打印a的类型"
   ]
  },
  {
   "cell_type": "code",
   "execution_count": 4,
   "id": "07327c1e",
   "metadata": {},
   "outputs": [],
   "source": [
    "#注意是大写tensor\n",
    "b = t.Tensor([1, 2, 3, 4, 5])"
   ]
  },
  {
   "cell_type": "code",
   "execution_count": 5,
   "id": "a237c161",
   "metadata": {},
   "outputs": [
    {
     "name": "stdout",
     "output_type": "stream",
     "text": [
      "tensor([1., 2., 3., 4., 5.])\n",
      "torch.FloatTensor\n"
     ]
    }
   ],
   "source": [
    "print(b) #打印b\n",
    "print(b.type()) #打印b的类型"
   ]
  },
  {
   "cell_type": "code",
   "execution_count": null,
   "id": "d4b26d4c",
   "metadata": {},
   "outputs": [],
   "source": []
  }
 ],
 "metadata": {
  "kernelspec": {
   "display_name": "pytorch",
   "language": "python",
   "name": "pytorch"
  },
  "language_info": {
   "codemirror_mode": {
    "name": "ipython",
    "version": 3
   },
   "file_extension": ".py",
   "mimetype": "text/x-python",
   "name": "python",
   "nbconvert_exporter": "python",
   "pygments_lexer": "ipython3",
   "version": "3.8.13"
  }
 },
 "nbformat": 4,
 "nbformat_minor": 5
}
