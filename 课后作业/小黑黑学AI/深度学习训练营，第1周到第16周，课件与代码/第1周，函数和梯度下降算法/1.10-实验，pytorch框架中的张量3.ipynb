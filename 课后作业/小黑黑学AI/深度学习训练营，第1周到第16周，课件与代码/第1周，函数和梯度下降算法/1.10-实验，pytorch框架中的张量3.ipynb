{
 "cells": [
  {
   "cell_type": "code",
   "execution_count": 1,
   "id": "50d4b248",
   "metadata": {},
   "outputs": [],
   "source": [
    "import torch as t #导入torch库"
   ]
  },
  {
   "cell_type": "code",
   "execution_count": 2,
   "id": "761e6938",
   "metadata": {},
   "outputs": [],
   "source": [
    "#创建一个2乘3的张量a\n",
    "a = t.Tensor([[1, 2, 3], [4, 5, 6]])"
   ]
  },
  {
   "cell_type": "code",
   "execution_count": 3,
   "id": "72ae8888",
   "metadata": {},
   "outputs": [
    {
     "name": "stdout",
     "output_type": "stream",
     "text": [
      "torch.Size([2, 3])\n"
     ]
    }
   ],
   "source": [
    "#打印a点size，得到它的形状\n",
    "print(a.size())"
   ]
  },
  {
   "cell_type": "code",
   "execution_count": 4,
   "id": "06eb09d1",
   "metadata": {},
   "outputs": [
    {
     "name": "stdout",
     "output_type": "stream",
     "text": [
      "tensor([[1., 1., 1.],\n",
      "        [1., 1., 1.]])\n"
     ]
    }
   ],
   "source": [
    "#创建值为1的张量\n",
    "z1 = t.ones(2, 3)\n",
    "print(z1)"
   ]
  },
  {
   "cell_type": "code",
   "execution_count": 5,
   "id": "564eb09b",
   "metadata": {},
   "outputs": [
    {
     "name": "stdout",
     "output_type": "stream",
     "text": [
      "tensor([[0., 0., 0.],\n",
      "        [0., 0., 0.]])\n"
     ]
    }
   ],
   "source": [
    "#创建值为0的张量\n",
    "z2 = t.zeros(2, 3)\n",
    "print(z2)"
   ]
  },
  {
   "cell_type": "code",
   "execution_count": 6,
   "id": "9f668c8c",
   "metadata": {},
   "outputs": [
    {
     "name": "stdout",
     "output_type": "stream",
     "text": [
      "tensor([[-0.0480,  0.7712,  1.0522],\n",
      "        [-1.4677,  0.6182,  0.6102]])\n"
     ]
    }
   ],
   "source": [
    "#创建标准正太分布的随机数\n",
    "z3 = t.randn(2, 3)\n",
    "print(z3)"
   ]
  },
  {
   "cell_type": "code",
   "execution_count": 7,
   "id": "caf345f2",
   "metadata": {},
   "outputs": [
    {
     "name": "stdout",
     "output_type": "stream",
     "text": [
      "tensor([ 1.0000,  3.2500,  5.5000,  7.7500, 10.0000])\n"
     ]
    }
   ],
   "source": [
    "#创建一个范围内的均匀数据\n",
    "z4 = t.linspace(1, 10, 5)\n",
    "print(z4)"
   ]
  },
  {
   "cell_type": "code",
   "execution_count": null,
   "id": "de7c36b0",
   "metadata": {},
   "outputs": [],
   "source": []
  }
 ],
 "metadata": {
  "kernelspec": {
   "display_name": "pytorch",
   "language": "python",
   "name": "pytorch"
  },
  "language_info": {
   "codemirror_mode": {
    "name": "ipython",
    "version": 3
   },
   "file_extension": ".py",
   "mimetype": "text/x-python",
   "name": "python",
   "nbconvert_exporter": "python",
   "pygments_lexer": "ipython3",
   "version": "3.8.13"
  }
 },
 "nbformat": 4,
 "nbformat_minor": 5
}
