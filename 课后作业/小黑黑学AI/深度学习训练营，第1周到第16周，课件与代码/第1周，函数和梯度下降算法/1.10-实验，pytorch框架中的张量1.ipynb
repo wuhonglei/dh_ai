{
 "cells": [
  {
   "cell_type": "code",
   "execution_count": 1,
   "id": "fb9f6712",
   "metadata": {},
   "outputs": [],
   "source": [
    "import torch as t #导入torch库"
   ]
  },
  {
   "cell_type": "code",
   "execution_count": 2,
   "id": "610865fd",
   "metadata": {},
   "outputs": [
    {
     "name": "stdout",
     "output_type": "stream",
     "text": [
      "1.12.1\n"
     ]
    }
   ],
   "source": [
    "print(t.__version__) #打印当前pytorch的版本号"
   ]
  },
  {
   "cell_type": "code",
   "execution_count": 3,
   "id": "3a2f9f87",
   "metadata": {},
   "outputs": [],
   "source": [
    "a = t.Tensor(2, 3) #创建一个2乘3的张量a"
   ]
  },
  {
   "cell_type": "code",
   "execution_count": 4,
   "id": "279446fe",
   "metadata": {},
   "outputs": [
    {
     "data": {
      "text/plain": [
       "tensor([[3.1992e-12, 1.4583e-19, 1.0899e+27],\n",
       "        [6.8943e+34, 1.1835e+22, 7.0976e+22]])"
      ]
     },
     "execution_count": 4,
     "metadata": {},
     "output_type": "execute_result"
    }
   ],
   "source": [
    "a #直接输入a"
   ]
  },
  {
   "cell_type": "code",
   "execution_count": 5,
   "id": "5f7a1ca1",
   "metadata": {},
   "outputs": [
    {
     "name": "stdout",
     "output_type": "stream",
     "text": [
      "tensor([[3.1992e-12, 1.4583e-19, 1.0899e+27],\n",
      "        [6.8943e+34, 1.1835e+22, 7.0976e+22]])\n"
     ]
    }
   ],
   "source": [
    "print(a) #使用print打印a"
   ]
  },
  {
   "cell_type": "code",
   "execution_count": null,
   "id": "7bb23eb4",
   "metadata": {},
   "outputs": [],
   "source": [
    "#根据一个2乘3的列表，创建张量b\n",
    "b = t.Tensor([[1, 2, 3], [4, 5, 6]])"
   ]
  },
  {
   "cell_type": "code",
   "execution_count": null,
   "id": "660387fb",
   "metadata": {},
   "outputs": [],
   "source": [
    "b #输出b的值"
   ]
  },
  {
   "cell_type": "code",
   "execution_count": null,
   "id": "88a4ac28",
   "metadata": {},
   "outputs": [],
   "source": [
    "print(b) #打印b的值"
   ]
  },
  {
   "cell_type": "code",
   "execution_count": null,
   "id": "dc015314",
   "metadata": {},
   "outputs": [],
   "source": [
    "#通过tolist函数，将张量b转换为列表\n",
    "c = b.tolist()"
   ]
  },
  {
   "cell_type": "code",
   "execution_count": null,
   "id": "82d968e1",
   "metadata": {},
   "outputs": [],
   "source": [
    "c #输出c"
   ]
  },
  {
   "cell_type": "code",
   "execution_count": null,
   "id": "d56495ae",
   "metadata": {},
   "outputs": [],
   "source": [
    "#使用rand函数，构建一个3乘3的张量\n",
    "d = t.rand(3, 3)"
   ]
  },
  {
   "cell_type": "code",
   "execution_count": null,
   "id": "1ec1b69c",
   "metadata": {},
   "outputs": [],
   "source": [
    "#将d作为参数，创建张量e\n",
    "e = t.Tensor(d)"
   ]
  },
  {
   "cell_type": "code",
   "execution_count": null,
   "id": "1f557936",
   "metadata": {},
   "outputs": [],
   "source": [
    "d #输出d"
   ]
  },
  {
   "cell_type": "code",
   "execution_count": null,
   "id": "33f4b8a4",
   "metadata": {},
   "outputs": [],
   "source": [
    "e #输出e"
   ]
  },
  {
   "cell_type": "code",
   "execution_count": null,
   "id": "a3638999",
   "metadata": {},
   "outputs": [],
   "source": []
  },
  {
   "cell_type": "code",
   "execution_count": null,
   "id": "3d032e46",
   "metadata": {},
   "outputs": [],
   "source": [
    "print(\"1\")"
   ]
  },
  {
   "cell_type": "code",
   "execution_count": null,
   "id": "87b32327",
   "metadata": {},
   "outputs": [],
   "source": []
  }
 ],
 "metadata": {
  "kernelspec": {
   "display_name": "Python 3 (ipykernel)",
   "language": "python",
   "name": "python3"
  },
  "language_info": {
   "codemirror_mode": {
    "name": "ipython",
    "version": 3
   },
   "file_extension": ".py",
   "mimetype": "text/x-python",
   "name": "python",
   "nbconvert_exporter": "python",
   "pygments_lexer": "ipython3",
   "version": "3.8.13"
  }
 },
 "nbformat": 4,
 "nbformat_minor": 5
}
