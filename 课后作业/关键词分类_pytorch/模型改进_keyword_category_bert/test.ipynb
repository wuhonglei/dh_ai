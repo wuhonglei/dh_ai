{
 "cells": [
  {
   "cell_type": "code",
   "execution_count": 8,
   "metadata": {},
   "outputs": [
    {
     "data": {
      "text/plain": [
       "49366"
      ]
     },
     "execution_count": 8,
     "metadata": {},
     "output_type": "execute_result"
    }
   ],
   "source": [
    "import pandas as pd\n",
    "\n",
    "data = pd.read_csv('./data/csv/sg.csv')\n",
    "cat1 = data['imp_level1_category_1d']\n",
    "cat2 = data['pv_level1_category_1d']\n",
    "\n",
    "# len(cat1 + cat2)\n",
    "len(pd.concat([cat1, cat2], axis=0))"
   ]
  },
  {
   "cell_type": "code",
   "execution_count": 8,
   "metadata": {},
   "outputs": [
    {
     "data": {
      "text/plain": [
       "50"
      ]
     },
     "execution_count": 8,
     "metadata": {},
     "output_type": "execute_result"
    }
   ],
   "source": [
    "from sklearn.preprocessing import LabelEncoder, OneHotEncoder\n",
    "import pandas as pd\n",
    "\n",
    "\n",
    "data = pd.read_csv('./data/csv/sg.csv')\n",
    "cat1 = data['imp_level1_category_1d']\n",
    "\n",
    "one_hot_encoder = OneHotEncoder()\n",
    "one_hot_encoder.fit_transform(cat1.to_numpy().reshape(-1, 1)).toarray()\n",
    "\n",
    "len(one_hot_encoder.get_feature_names_out())"
   ]
  }
 ],
 "metadata": {
  "kernelspec": {
   "display_name": "myconda",
   "language": "python",
   "name": "python3"
  },
  "language_info": {
   "codemirror_mode": {
    "name": "ipython",
    "version": 3
   },
   "file_extension": ".py",
   "mimetype": "text/x-python",
   "name": "python",
   "nbconvert_exporter": "python",
   "pygments_lexer": "ipython3",
   "version": "3.12.4"
  }
 },
 "nbformat": 4,
 "nbformat_minor": 2
}
