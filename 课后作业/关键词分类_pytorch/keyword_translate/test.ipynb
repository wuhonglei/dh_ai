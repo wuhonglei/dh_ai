{
 "cells": [
  {
   "cell_type": "code",
   "execution_count": 1,
   "metadata": {},
   "outputs": [
    {
     "data": {
      "text/plain": [
       "100"
      ]
     },
     "execution_count": 1,
     "metadata": {},
     "output_type": "execute_result"
    }
   ],
   "source": [
    "from translate.api import translate\n",
    "\n",
    "a = [\n",
    "    'dji osmo pocket 3',\n",
    "    'feastables malaysia',\n",
    "    'kamatto car mat review',\n",
    "    'campguru',\n",
    "    'kebaya janggan',\n",
    "    'sling bag dior',\n",
    "    'cili giling',\n",
    "    'samsung phone price in malaysia 2023',\n",
    "    'honor 90 lite price in malaysia',\n",
    "    'kad ucapan hari raya aidilfitri',\n",
    "    'jenis warna purple',\n",
    "    'harpic toilet',\n",
    "    'honor watch',\n",
    "    'oppo find x7 ultra price in malaysia',\n",
    "    'ubat batuk kanak kanak',\n",
    "    'harga nintendo switch',\n",
    "    '7e thailand',\n",
    "    'bengkung bersalin',\n",
    "    'vape 69',\n",
    "    'eroxon gel malaysia',\n",
    "    'retro style men',\n",
    "    'puma palermo',\n",
    "    'beworths',\n",
    "    'bendera negara dunia',\n",
    "    'serbuk teh thailand',\n",
    "    'durian d24',\n",
    "    '黑丝',\n",
    "    'bawang besar merah',\n",
    "    'jumpsuit women',\n",
    "    'botani hasyifah',\n",
    "    'xiaomi 14 pro price in malaysia',\n",
    "    'gopro malaysia',\n",
    "    'powerbank',\n",
    "    'shoopen malaysia',\n",
    "    'bardox',\n",
    "    'aluminium composite panel',\n",
    "    'permata yang hilang pdf',\n",
    "    'jamu nenek rapat plus',\n",
    "    'smarttag',\n",
    "    'visualizer',\n",
    "    'john wick 3 subtitle',\n",
    "    'joven water heater',\n",
    "    'relx malaysia',\n",
    "    'noctua',\n",
    "    'e tech pc',\n",
    "    'tenga',\n",
    "    'belkin surge protector',\n",
    "    'desa home theatre',\n",
    "    'tshirt',\n",
    "    'bengkung sajat',\n",
    "    'omron malaysia',\n",
    "    'tudung bawal',\n",
    "    'seven mobile',\n",
    "    'ohana lotion',\n",
    "    'coca cola malaysia',\n",
    "    'bluetooth earphones',\n",
    "    'skechers one piece',\n",
    "    'rail langsir',\n",
    "    'tabita',\n",
    "    'indomovie',\n",
    "    'rehal',\n",
    "    'portable air conditioner',\n",
    "    'rabbit mart blender',\n",
    "    'acuan semperit',\n",
    "    'manjakani',\n",
    "    'walnut',\n",
    "    'mcdonalds hello kitty carrier',\n",
    "    'nutrition pro',\n",
    "    'jubah muslimah',\n",
    "    'smok infinix',\n",
    "    'berus cat',\n",
    "    'google home mini malaysia',\n",
    "    'wynora',\n",
    "    'telinga berdesing',\n",
    "    'drawstring bag',\n",
    "    'neelofa perfume',\n",
    "    'superdeals',\n",
    "    'whatsapp plus',\n",
    "    'keyboard',\n",
    "    'selamat hari lahir',\n",
    "    'mishang mask',\n",
    "    'l3110',\n",
    "    'circular saw',\n",
    "    'mini air conditioner',\n",
    "    'unifi mobile prepaid',\n",
    "    'sonno',\n",
    "    'thermaltake',\n",
    "    'football live streaming',\n",
    "    'flavettes glow',\n",
    "    'iphone x price in malaysia',\n",
    "    'beauty wise',\n",
    "    'cyber sale',\n",
    "    'telekung siti khadijah',\n",
    "    'sabella baju',\n",
    "    'bantal leyna',\n",
    "    'oreo supreme',\n",
    "    'totem road bike',\n",
    "    \"beryl's chocolate\",\n",
    "    'aiqiyi',\n",
    "    'air fryer haier'\n",
    "]\n",
    "\n",
    "translate(a, 'ms', 'en')"
   ]
  },
  {
   "cell_type": "code",
   "execution_count": 4,
   "metadata": {},
   "outputs": [
    {
     "data": {
      "text/plain": [
       "1"
      ]
     },
     "execution_count": 4,
     "metadata": {},
     "output_type": "execute_result"
    }
   ],
   "source": [
    "b = [0, 1, 2, 3, 4]\n",
    "3//2"
   ]
  }
 ],
 "metadata": {
  "kernelspec": {
   "display_name": "myenv",
   "language": "python",
   "name": "python3"
  },
  "language_info": {
   "codemirror_mode": {
    "name": "ipython",
    "version": 3
   },
   "file_extension": ".py",
   "mimetype": "text/x-python",
   "name": "python",
   "nbconvert_exporter": "python",
   "pygments_lexer": "ipython3",
   "version": "3.10.12"
  }
 },
 "nbformat": 4,
 "nbformat_minor": 2
}
