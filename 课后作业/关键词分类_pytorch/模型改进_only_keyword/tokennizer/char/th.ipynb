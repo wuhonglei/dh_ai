{
 "cells": [
  {
   "cell_type": "code",
   "execution_count": 6,
   "metadata": {},
   "outputs": [
    {
     "data": {
      "text/plain": [
       "(['ค', 'ร', 'ั', 'บ'], 4)"
      ]
     },
     "execution_count": 6,
     "metadata": {},
     "output_type": "execute_result"
    }
   ],
   "source": [
    "import unicodedata\n",
    "\n",
    "\n",
    "def split_thai_characters(text):\n",
    "    result = []\n",
    "    current = ''\n",
    "    for char in text:\n",
    "        if unicodedata.combining(char):  # 检查是否是附加标记\n",
    "            current += char  # 将附加标记与主字符合并\n",
    "        else:\n",
    "            if current:\n",
    "                result.append(current)\n",
    "            current = char  # 开始新字符\n",
    "    if current:\n",
    "        result.append(current)\n",
    "    return result\n",
    "\n",
    "\n",
    "text = 'ครับ'\n",
    "characters = split_thai_characters(text)\n",
    "characters, len(characters)"
   ]
  },
  {
   "cell_type": "code",
   "execution_count": 7,
   "metadata": {},
   "outputs": [
    {
     "ename": "ModuleNotFoundError",
     "evalue": "No module named 'icu'",
     "output_type": "error",
     "traceback": [
      "\u001b[0;31m---------------------------------------------------------------------------\u001b[0m",
      "\u001b[0;31mModuleNotFoundError\u001b[0m                       Traceback (most recent call last)",
      "Cell \u001b[0;32mIn[7], line 1\u001b[0m\n\u001b[0;32m----> 1\u001b[0m \u001b[38;5;28;01mimport\u001b[39;00m \u001b[38;5;21;01micu\u001b[39;00m\n\u001b[1;32m      4\u001b[0m \u001b[38;5;28;01mdef\u001b[39;00m \u001b[38;5;21msegment_thai_characters\u001b[39m(text):\n\u001b[1;32m      5\u001b[0m     bd \u001b[38;5;241m=\u001b[39m icu\u001b[38;5;241m.\u001b[39mBreakIterator\u001b[38;5;241m.\u001b[39mcreateCharacterInstance(icu\u001b[38;5;241m.\u001b[39mLocale(\u001b[38;5;124m\"\u001b[39m\u001b[38;5;124mth\u001b[39m\u001b[38;5;124m\"\u001b[39m))\n",
      "\u001b[0;31mModuleNotFoundError\u001b[0m: No module named 'icu'"
     ]
    }
   ],
   "source": [
    "import icu\n",
    "\n",
    "\n",
    "def segment_thai_characters(text):\n",
    "    bd = icu.BreakIterator.createCharacterInstance(icu.Locale(\"th\"))\n",
    "    bd.setText(text)\n",
    "    return [text[start:end] for start, end in zip(bd, list(bd)[1:])]\n",
    "\n",
    "\n",
    "text = 'ครับ'\n",
    "characters = segment_thai_characters(text)\n",
    "print(characters)"
   ]
  },
  {
   "cell_type": "code",
   "execution_count": 4,
   "metadata": {},
   "outputs": [
    {
     "name": "stdout",
     "output_type": "stream",
     "text": [
      "['ค', 'รั', 'บ']\n",
      "['คุ', 'ณ', 'อ', 'ยู่', 'ที่', 'ไ', 'ห', 'น']\n"
     ]
    }
   ],
   "source": [
    "import regex\n",
    "\n",
    "\n",
    "def split_thai_graphemes(text):\n",
    "    return regex.findall(r'\\X', text)  # \\X 表示完整的 Unicode Grapheme Cluster\n",
    "\n",
    "\n",
    "text_list = [\n",
    "    'ครับ',  # 你好\n",
    "    'คุณอยู่ที่ไหน'  # 你在哪里\n",
    "]\n",
    "for text in text_list:\n",
    "    characters = split_thai_graphemes(text)\n",
    "    print(characters)"
   ]
  },
  {
   "cell_type": "code",
   "execution_count": null,
   "metadata": {},
   "outputs": [
    {
     "name": "stdout",
     "output_type": "stream",
     "text": [
      "None\n",
      "<regex.Match object; span=(0, 3), match='adc', fuzzy_counts=(1, 0, 0)>\n"
     ]
    }
   ],
   "source": [
    "import regex\n",
    "\n",
    "pattern = r\"colou?r\"\n",
    "print(regex.match(pattern, \"color\", regex.BESTMATCH))  # 匹配允许一定的误差\n",
    "print(regex.match(r\"(abc){e<=1}\", \"adc\"))  # 允许 1 个编辑距离误差"
   ]
  }
 ],
 "metadata": {
  "kernelspec": {
   "display_name": "myconda",
   "language": "python",
   "name": "python3"
  },
  "language_info": {
   "codemirror_mode": {
    "name": "ipython",
    "version": 3
   },
   "file_extension": ".py",
   "mimetype": "text/x-python",
   "name": "python",
   "nbconvert_exporter": "python",
   "pygments_lexer": "ipython3",
   "version": "3.10.12"
  }
 },
 "nbformat": 4,
 "nbformat_minor": 2
}
