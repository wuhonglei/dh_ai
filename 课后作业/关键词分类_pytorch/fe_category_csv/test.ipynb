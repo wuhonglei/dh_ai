{
 "cells": [
  {
   "cell_type": "code",
   "execution_count": null,
   "metadata": {},
   "outputs": [
    {
     "data": {
      "text/plain": [
       "count    1.034388e+06\n",
       "mean     1.347462e+01\n",
       "std      5.564675e+00\n",
       "min      1.000000e+00\n",
       "25%      1.000000e+01\n",
       "50%      1.200000e+01\n",
       "75%      1.700000e+01\n",
       "max      7.200000e+01\n",
       "Name: name_len, dtype: float64"
      ]
     },
     "execution_count": 33,
     "metadata": {},
     "output_type": "execute_result"
    }
   ],
   "source": [
    "import pandas as pd\n",
    "\n",
    "df = pd.read_csv('./data/cat_len.csv')\n",
    "df['cat_len'].describe()"
   ]
  },
  {
   "cell_type": "code",
   "execution_count": 34,
   "metadata": {},
   "outputs": [
    {
     "data": {
      "text/plain": [
       "count    1.034388e+06\n",
       "mean     1.347462e+01\n",
       "std      5.564675e+00\n",
       "min      1.000000e+00\n",
       "25%      1.000000e+01\n",
       "50%      1.200000e+01\n",
       "75%      1.700000e+01\n",
       "max      7.200000e+01\n",
       "Name: name_len, dtype: float64"
      ]
     },
     "execution_count": 34,
     "metadata": {},
     "output_type": "execute_result"
    }
   ],
   "source": [
    "import pandas as pd\n",
    "\n",
    "df = pd.read_csv('./data/name_len.csv')\n",
    "df['name_len'].describe()"
   ]
  },
  {
   "cell_type": "code",
   "execution_count": 22,
   "metadata": {},
   "outputs": [
    {
     "name": "stdout",
     "output_type": "stream",
     "text": [
      "11011760:Hobbies & Books, 11011795:Card & Board Games, 11011796:Jigsaw Puzzles & Brain Teasers\n"
     ]
    }
   ],
   "source": [
    "import re\n",
    "\n",
    "str = \"\"\"[[11011760:Hobbies & Books, 11011795:Card & Board Games, 11011796:Jigsaw Puzzles & Brain Teasers], [11011760:Hobbies & Books, 11011795:Card & Board Games, 11011797:Others], [11011760:Hobbies & Books, 11011795:Card & Board Games, 11011798:Table Top & Board Games], [11011760:Hobbies & Books, 11011795:Card & Board Games, 11011799:Trading Card Games (TCG)], [11011760:Hobbies & Books, 11011795:Card & Board Games, 11011800:Mahjong & Accessories], [11011760:Hobbies & Books, 11011795:Card & Board Games, 11011801:Poker Cards, Dice & Accessories]]\"\"\"\n",
    "\n",
    "match = re.search(r'\\[([^\\[\\]]*?)\\]', str)\n",
    "if match:\n",
    "    print(match.group(1))"
   ]
  },
  {
   "cell_type": "code",
   "execution_count": 21,
   "metadata": {},
   "outputs": [
    {
     "data": {
      "text/plain": [
       "[1, 2, 3]"
      ]
     },
     "execution_count": 21,
     "metadata": {},
     "output_type": "execute_result"
    }
   ],
   "source": [
    "a = []\n",
    "b = [1, 2, 3, 4, 5]\n",
    "a[0:3]\n",
    "b[0:3]"
   ]
  },
  {
   "cell_type": "code",
   "execution_count": 31,
   "metadata": {},
   "outputs": [
    {
     "data": {
      "text/plain": [
       "list"
      ]
     },
     "execution_count": 31,
     "metadata": {},
     "output_type": "execute_result"
    }
   ],
   "source": [
    "str = '11011538:Toys, Kids & Babies, 11011731:Milk Formula (1 year+), 11011736:Growing Up Milk (3 Years+)'\n",
    "res = re.findall(r'(?:\\d+):(.+?)(?=,\\s+\\d{2,}|$)', str)"
   ]
  }
 ],
 "metadata": {
  "kernelspec": {
   "display_name": "myconda",
   "language": "python",
   "name": "python3"
  },
  "language_info": {
   "codemirror_mode": {
    "name": "ipython",
    "version": 3
   },
   "file_extension": ".py",
   "mimetype": "text/x-python",
   "name": "python",
   "nbconvert_exporter": "python",
   "pygments_lexer": "ipython3",
   "version": "3.10.12"
  }
 },
 "nbformat": 4,
 "nbformat_minor": 2
}
