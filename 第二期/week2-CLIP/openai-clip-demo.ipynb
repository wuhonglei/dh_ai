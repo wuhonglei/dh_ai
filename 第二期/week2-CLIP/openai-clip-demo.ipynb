{
 "cells": [
  {
   "cell_type": "code",
   "execution_count": 10,
   "metadata": {},
   "outputs": [
    {
     "data": {
      "text/plain": [
       "'cat'"
      ]
     },
     "execution_count": 10,
     "metadata": {},
     "output_type": "execute_result"
    }
   ],
   "source": [
    "import torch\n",
    "from PIL import Image\n",
    "import requests\n",
    "\n",
    "from transformers import CLIPProcessor, CLIPModel\n",
    "\n",
    "model = CLIPModel.from_pretrained(\"openai/clip-vit-base-patch32\")\n",
    "processor = CLIPProcessor.from_pretrained(\"openai/clip-vit-base-patch32\")\n",
    "\n",
    "def find_matches(model, image, text, processor):\n",
    "    inputs = processor(text=text, images=image, return_tensors=\"pt\", padding=True) # type: ignore\n",
    "\n",
    "    model.eval()\n",
    "    with torch.no_grad():\n",
    "      outputs = model(**inputs)\n",
    "      logits_per_image = outputs.logits_per_image  # this is the image-text similarity score\n",
    "      probs = logits_per_image.softmax(dim=1)  # we can take the softmax to get the label probabilities\n",
    "      # 获取概率最大的标签\n",
    "      max_prob_index = torch.argmax(probs, dim=1)\n",
    "      return max_prob_index"
   ]
  },
  {
   "cell_type": "code",
   "execution_count": 13,
   "metadata": {},
   "outputs": [
    {
     "data": {
      "text/plain": [
       "'cat'"
      ]
     },
     "execution_count": 13,
     "metadata": {},
     "output_type": "execute_result"
    }
   ],
   "source": [
    "categories = [\"cat\", \"dog\"]\n",
    "text = [f'a photo of a {category}' for category in categories]\n",
    "image = Image.open('./cat.png')\n",
    "\n",
    "index = find_matches(model, image, text, processor)\n",
    "categories[index]"
   ]
  }
 ],
 "metadata": {
  "kernelspec": {
   "display_name": "myenv",
   "language": "python",
   "name": "python3"
  },
  "language_info": {
   "name": "python",
   "version": "3.12.9"
  }
 },
 "nbformat": 4,
 "nbformat_minor": 2
}
