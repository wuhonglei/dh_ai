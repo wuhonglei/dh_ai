{
 "cells": [
  {
   "cell_type": "code",
   "execution_count": 128,
   "metadata": {},
   "outputs": [
    {
     "name": "stdout",
     "output_type": "stream",
     "text": [
      "Hello: ,\n",
      ",:  I\n",
      " my:  name\n",
      " dog:  is\n",
      " is:  a\n",
      " cute: .\n"
     ]
    }
   ],
   "source": [
    "from transformers import GPT2LMHeadModel, AutoTokenizer\n",
    "\n",
    "tokenizer = AutoTokenizer.from_pretrained(\"openai-community/gpt2\")\n",
    "model = GPT2LMHeadModel.from_pretrained(\"openai-community/gpt2\")\n",
    "\n",
    "text = \"Hello, my dog is cute\"\n",
    "inputs = tokenizer(text, return_tensors=\"pt\")\n",
    "outputs = model(**inputs, labels=inputs[\"input_ids\"])\n",
    "for index, logits in enumerate(outputs.logits[0]):\n",
    "    print(\n",
    "        f'{tokenizer.decode(inputs[\"input_ids\"][0][index])}: {tokenizer.decode(logits.argmax(dim=-1))}')"
   ]
  },
  {
   "cell_type": "code",
   "execution_count": 55,
   "metadata": {},
   "outputs": [
    {
     "data": {
      "text/plain": [
       "{'input_ids': tensor([[15496,    11,   616,  3290,   318, 13779]]), 'attention_mask': tensor([[1, 1, 1, 1, 1, 1]])}"
      ]
     },
     "execution_count": 55,
     "metadata": {},
     "output_type": "execute_result"
    }
   ],
   "source": [
    "inputs"
   ]
  },
  {
   "cell_type": "code",
   "execution_count": 18,
   "metadata": {},
   "outputs": [
    {
     "data": {
      "text/plain": [
       "torch.Size([1, 3, 50257])"
      ]
     },
     "execution_count": 18,
     "metadata": {},
     "output_type": "execute_result"
    }
   ],
   "source": [
    "outputs.logits.shape"
   ]
  },
  {
   "cell_type": "code",
   "execution_count": 118,
   "metadata": {},
   "outputs": [
    {
     "data": {
      "text/plain": [
       "(nan, 3.99018931388855)"
      ]
     },
     "execution_count": 118,
     "metadata": {},
     "output_type": "execute_result"
    }
   ],
   "source": [
    "import torch\n",
    "import torch.nn.functional as F\n",
    "import math\n",
    "\n",
    "# 单词预测 loss 计算\n",
    "logits = outputs.logits[0]\n",
    "total_loss = 0.0\n",
    "ignore_index = -100\n",
    "criterion = torch.nn.CrossEntropyLoss()\n",
    "shift_label = torch.roll(inputs[\"input_ids\"][0], shifts=-1)\n",
    "shift_label[-1] = ignore_index\n",
    "count = 0\n",
    "\n",
    "for seq_index, token_index in enumerate(inputs[\"input_ids\"][0].tolist()):\n",
    "    current_logits = logits[seq_index]\n",
    "    # if shift_label[seq_index] != ignore_index:\n",
    "    loss = criterion(current_logits, shift_label[seq_index])\n",
    "    total_loss += loss.item()\n",
    "    count += 1\n",
    "\n",
    "\n",
    "total_loss/count, criterion(logits, shift_label).item()"
   ]
  },
  {
   "cell_type": "code",
   "execution_count": 140,
   "metadata": {},
   "outputs": [
    {
     "data": {
      "text/plain": [
       "tensor(1.7409)"
      ]
     },
     "execution_count": 140,
     "metadata": {},
     "output_type": "execute_result"
    }
   ],
   "source": [
    "from cProfile import label\n",
    "import torch\n",
    "\n",
    "logits = torch.tensor([\n",
    "    [1, 2, 3],\n",
    "    [4, 5, 6],\n",
    "    [7, 8, 9],\n",
    "    [10, 11, 12]\n",
    "], dtype=torch.float32)\n",
    "\n",
    "labels = torch.tensor([0, 1, 1, -1])\n",
    "\n",
    "criterion = torch.nn.CrossEntropyLoss(ignore_index=-1)\n",
    "criterion(logits, labels)"
   ]
  }
 ],
 "metadata": {
  "kernelspec": {
   "display_name": ".venv",
   "language": "python",
   "name": "python3"
  },
  "language_info": {
   "codemirror_mode": {
    "name": "ipython",
    "version": 3
   },
   "file_extension": ".py",
   "mimetype": "text/x-python",
   "name": "python",
   "nbconvert_exporter": "python",
   "pygments_lexer": "ipython3",
   "version": "3.11.11"
  }
 },
 "nbformat": 4,
 "nbformat_minor": 2
}
