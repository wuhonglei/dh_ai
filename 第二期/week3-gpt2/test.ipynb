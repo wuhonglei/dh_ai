{
 "cells": [
  {
   "cell_type": "code",
   "execution_count": 2,
   "metadata": {},
   "outputs": [
    {
     "name": "stdout",
     "output_type": "stream",
     "text": [
      "mask tensor([[1., 0., 0.],\n",
      "        [1., 1., 0.],\n",
      "        [1., 1., 1.]])\n",
      "attn_scores tensor([[-3.5568e-01, -1.0000e+09, -1.0000e+09],\n",
      "        [ 2.2428e+00, -6.8590e-01, -1.0000e+09],\n",
      "        [ 1.4357e+00, -6.3859e-01,  1.1135e+00]])\n",
      "attn_probs tensor([[1.0000, 0.0000, 0.0000],\n",
      "        [0.9492, 0.0508, 0.0000],\n",
      "        [0.5405, 0.0679, 0.3916]])\n"
     ]
    }
   ],
   "source": [
    "import torch\n",
    "import torch.nn.functional as F\n",
    "\n",
    "seq_length = 3\n",
    "\n",
    "# 创建掩码\n",
    "mask = torch.tril(torch.ones(seq_length, seq_length), diagonal=0)\n",
    "attn_scores = torch.randn(seq_length, seq_length)\n",
    "attn_scores = attn_scores.masked_fill(mask == 0, -1e9)\n",
    "attn_probs = F.softmax(attn_scores, dim=-1)\n",
    "print('mask', mask)\n",
    "print('attn_scores', attn_scores)\n",
    "print('attn_probs', attn_probs)"
   ]
  },
  {
   "cell_type": "code",
   "execution_count": 1,
   "metadata": {},
   "outputs": [
    {
     "name": "stdout",
     "output_type": "stream",
     "text": [
      "input_ids tensor([[4, 8, 9],\n",
      "        [4, 0, 5]])\n",
      "labels tensor([[8, 9, 4],\n",
      "        [0, 5, 4]])\n"
     ]
    }
   ],
   "source": [
    "import torch\n",
    "seq_length = 3\n",
    "input_ids = torch.randint(0, 10, (2, seq_length))\n",
    "labels = torch.roll(input_ids, -1, dims=1)\n",
    "print('input_ids', input_ids)\n",
    "print('labels', labels)"
   ]
  }
 ],
 "metadata": {
  "kernelspec": {
   "display_name": "myconda",
   "language": "python",
   "name": "python3"
  },
  "language_info": {
   "codemirror_mode": {
    "name": "ipython",
    "version": 3
   },
   "file_extension": ".py",
   "mimetype": "text/x-python",
   "name": "python",
   "nbconvert_exporter": "python",
   "pygments_lexer": "ipython3",
   "version": "3.12.4"
  }
 },
 "nbformat": 4,
 "nbformat_minor": 2
}
