{
 "cells": [
  {
   "cell_type": "code",
   "execution_count": 14,
   "metadata": {},
   "outputs": [
    {
     "name": "stdout",
     "output_type": "stream",
     "text": [
      "tensor([[[1., 1., 1.]]])\n"
     ]
    },
    {
     "data": {
      "text/plain": [
       "tensor([[[1., 1., 1.]],\n",
       "\n",
       "        [[1., 1., 1.]],\n",
       "\n",
       "        [[1., 1., 1.]]])"
      ]
     },
     "execution_count": 14,
     "metadata": {},
     "output_type": "execute_result"
    }
   ],
   "source": [
    "import torch\n",
    "import torch.nn as nn\n",
    "\n",
    "\n",
    "a = torch.ones(1, 1, 3)\n",
    "print(a)\n",
    "a.expand(3, -1, -1)"
   ]
  },
  {
   "cell_type": "code",
   "execution_count": 3,
   "metadata": {},
   "outputs": [
    {
     "name": "stdout",
     "output_type": "stream",
     "text": [
      "tensor([[1., 1., 1.],\n",
      "        [1., 1., 1.],\n",
      "        [1., 1., 1.]]) tensor([[1., 1., 1.]])\n"
     ]
    }
   ],
   "source": [
    "import torch\n",
    "import torch.nn as nn\n",
    "\n",
    "a = torch.ones(3, 3)\n",
    "b = torch.ones(1, 3)\n",
    "torch.cat((a, b), dim=0)"
   ]
  },
  {
   "cell_type": "code",
   "execution_count": 3,
   "metadata": {},
   "outputs": [
    {
     "name": "stdout",
     "output_type": "stream",
     "text": [
      "输入张量 shape: torch.Size([2, 3, 4])\n",
      "输入张量:\n",
      " tensor([[[1., 2., 3., 4.],\n",
      "         [2., 3., 4., 5.],\n",
      "         [3., 4., 5., 6.]],\n",
      "\n",
      "        [[4., 5., 6., 7.],\n",
      "         [5., 6., 7., 8.],\n",
      "         [6., 7., 8., 9.]]])\n",
      "\n",
      "==================================================\n",
      "\n",
      "手动计算的LayerNorm结果:\n",
      " tensor([[[-1.3416, -0.4472,  0.4472,  1.3416],\n",
      "         [-1.3416, -0.4472,  0.4472,  1.3416],\n",
      "         [-1.3416, -0.4472,  0.4472,  1.3416]],\n",
      "\n",
      "        [[-1.3416, -0.4472,  0.4472,  1.3416],\n",
      "         [-1.3416, -0.4472,  0.4472,  1.3416],\n",
      "         [-1.3416, -0.4472,  0.4472,  1.3416]]])\n",
      "\n",
      "==================================================\n",
      "\n",
      "PyTorch的LayerNorm结果:\n",
      " tensor([[[-1.3416, -0.4472,  0.4472,  1.3416],\n",
      "         [-1.3416, -0.4472,  0.4472,  1.3416],\n",
      "         [-1.3416, -0.4472,  0.4472,  1.3416]],\n",
      "\n",
      "        [[-1.3416, -0.4472,  0.4472,  1.3416],\n",
      "         [-1.3416, -0.4472,  0.4472,  1.3416],\n",
      "         [-1.3416, -0.4472,  0.4472,  1.3416]]],\n",
      "       grad_fn=<NativeLayerNormBackward0>)\n"
     ]
    }
   ],
   "source": [
    "import torch\n",
    "import torch.nn as nn\n",
    "\n",
    "# 创建一个简单的输入张量 (batch_size=2, sequence_length=3, feature_dim=4)\n",
    "x = torch.tensor([\n",
    "    [[1, 2, 3, 4],     # 第一个样本，第一个序列\n",
    "     [2, 3, 4, 5],     # 第一个样本，第二个序列\n",
    "     [3, 4, 5, 6]],    # 第一个样本，第三个序列\n",
    "\n",
    "    [[4, 5, 6, 7],     # 第二个样本，第一个序列\n",
    "     [5, 6, 7, 8],     # 第二个样本，第二个序列\n",
    "     [6, 7, 8, 9]]     # 第二个样本，第三个序列\n",
    "], dtype=torch.float32)\n",
    "\n",
    "# 创建LayerNorm层，normalized_shape=4 表示在特征维度(最后一个维度)上进行归一化\n",
    "layer_norm = nn.LayerNorm(normalized_shape=4)\n",
    "\n",
    "# 手动计算LayerNorm的过程\n",
    "\n",
    "\n",
    "def manual_layer_norm(x, eps=1e-5):\n",
    "    # 1. 计算均值 (在特征维度上)\n",
    "    mean = x.mean(dim=-1, keepdim=True)\n",
    "    # print(\"均值shape:\", mean.shape)\n",
    "    # print(\"均值:\\n\", mean)\n",
    "\n",
    "    # 2. 计算方差\n",
    "    var = x.var(dim=-1, keepdim=True, unbiased=False)\n",
    "    # print(\"方差shape:\", var.shape)\n",
    "    # print(\"方差:\\n\", var)\n",
    "\n",
    "    # 3. 归一化\n",
    "    x_norm = (x - mean) / torch.sqrt(var + eps)\n",
    "    # print(\"归一化后shape:\", x_norm.shape)\n",
    "    # print(\"归一化后:\\n\", x_norm)\n",
    "\n",
    "    return x_norm\n",
    "\n",
    "\n",
    "# 对比手动计算和PyTorch的LayerNorm结果\n",
    "print(\"输入张量 shape:\", x.shape)\n",
    "print(\"输入张量:\\n\", x)\n",
    "print(\"\\n\" + \"=\"*50 + \"\\n\")\n",
    "\n",
    "print(\"手动计算的LayerNorm结果:\\n\", manual_layer_norm(x))\n",
    "print(\"\\n\" + \"=\"*50 + \"\\n\")\n",
    "\n",
    "print(\"PyTorch的LayerNorm结果:\\n\", layer_norm(x))"
   ]
  },
  {
   "cell_type": "code",
   "execution_count": 12,
   "metadata": {},
   "outputs": [
    {
     "name": "stdout",
     "output_type": "stream",
     "text": [
      "Files already downloaded and verified\n"
     ]
    },
    {
     "data": {
      "image/png": "[encoded data removed]",
      "text/plain": [
       "<Figure size 224x224 with 1 Axes>"
      ]
     },
     "metadata": {},
     "output_type": "display_data"
    }
   ],
   "source": [
    "from torchvision import datasets, transforms\n",
    "import matplotlib.pyplot as plt\n",
    "\n",
    "# 加载 CIFAR-10 数据集\n",
    "test_dataset = datasets.CIFAR10(\n",
    "    root='/mnt/dataset', train=False, download=True)\n",
    "\n",
    "# 预览 10 张图片\n",
    "for i in range(10):\n",
    "    # 设置figure大小为32x32像素（单位是英寸，所以需要除以DPI）\n",
    "    plt.figure(figsize=(224/100, 224/100), dpi=100)\n",
    "\n",
    "    img, label = test_dataset[i]\n",
    "    plt.imshow(img)\n",
    "    # 将 label 转换为字符串\n",
    "    label = test_dataset.classes[label]\n",
    "    plt.title(f\"Label: {label}\")\n",
    "    # 使用原始尺寸显示图片\n",
    "    plt.show()\n",
    "    break"
   ]
  },
  {
   "cell_type": "code",
   "execution_count": 9,
   "metadata": {},
   "outputs": [],
   "source": [
    "a = {\n",
    "    'name': 'vit_patch4_32',\n",
    "    'patch_size': 4,\n",
    "    'embed_dim': 144,\n",
    "    'n_heads': 12,\n",
    "    'depth': None,\n",
    "    'n_classes': 10,\n",
    "}\n",
    "\n",
    "a.get('depth', 1)"
   ]
  }
 ],
 "metadata": {
  "kernelspec": {
   "display_name": "myenv",
   "language": "python",
   "name": "python3"
  },
  "language_info": {
   "codemirror_mode": {
    "name": "ipython",
    "version": 3
   },
   "file_extension": ".py",
   "mimetype": "text/x-python",
   "name": "python",
   "nbconvert_exporter": "python",
   "pygments_lexer": "ipython3",
   "version": "3.10.12"
  }
 },
 "nbformat": 4,
 "nbformat_minor": 2
}
