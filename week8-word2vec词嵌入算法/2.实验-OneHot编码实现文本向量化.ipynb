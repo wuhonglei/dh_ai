{
 "cells": [
  {
   "cell_type": "code",
   "execution_count": 32,
   "metadata": {},
   "outputs": [
    {
     "name": "stdout",
     "output_type": "stream",
     "text": [
      "{'学校', '后海', '好吃', '小吃', '地方', '北京', '北京大学'}\n"
     ]
    },
    {
     "data": {
      "text/plain": [
       "(['北京', '后海', '地方'], ['北京', '小吃', '好吃'], ['北京大学', '学校'])"
      ]
     },
     "execution_count": 32,
     "metadata": {},
     "output_type": "execute_result"
    }
   ],
   "source": [
    "import jieba\n",
    "\n",
    "doc1 = '北京的后海是个好地方'\n",
    "doc2 = '北京的小吃很好吃'\n",
    "doc3 = '北京大学是个好学校'\n",
    "\n",
    "stopwords = set(['是', '个', '很', '好', '的', '。'])\n",
    "\n",
    "\n",
    "def doc_to_words(doc, wordbag: set[str]):\n",
    "    tokens = jieba.cut(doc)\n",
    "    words: list[str] = []\n",
    "    for token in tokens:\n",
    "        if token in stopwords:\n",
    "            continue\n",
    "\n",
    "        words.append(token)\n",
    "        wordbag.add(token)\n",
    "\n",
    "    return words\n",
    "\n",
    "\n",
    "wordbag = set()\n",
    "[words1, words2, words3] = [doc_to_words(\n",
    "    doc, wordbag) for doc in [doc1, doc2, doc3]]\n",
    "\n",
    "print(wordbag)\n",
    "words1, words2, words3"
   ]
  },
  {
   "cell_type": "code",
   "execution_count": 30,
   "metadata": {},
   "outputs": [
    {
     "data": {
      "text/plain": [
       "([0, 1, 0, 0, 1, 1, 0], [0, 0, 1, 1, 0, 1, 0], [1, 0, 0, 0, 0, 0, 1])"
      ]
     },
     "execution_count": 30,
     "metadata": {},
     "output_type": "execute_result"
    }
   ],
   "source": [
    "wordbag_index: dict[str, int] = dict()\n",
    "for i, word in enumerate(wordbag):\n",
    "    wordbag_index[word] = i\n",
    "\n",
    "\n",
    "def words_to_vector(words: list[str], wordbag_index: dict[str, int]):\n",
    "    vector = [0] * len(wordbag)\n",
    "    for word in words:\n",
    "        vector[wordbag_index[word]] += 1\n",
    "\n",
    "    return vector\n",
    "\n",
    "\n",
    "[vector1, vector2, vector3] = [words_to_vector(\n",
    "    words, wordbag_index) for words in [words1, words2, words3]]\n",
    "\n",
    "vector1, vector2, vector3"
   ]
  },
  {
   "cell_type": "code",
   "execution_count": 20,
   "metadata": {},
   "outputs": [
    {
     "data": {
      "text/plain": [
       "7"
      ]
     },
     "execution_count": 20,
     "metadata": {},
     "output_type": "execute_result"
    }
   ],
   "source": []
  }
 ],
 "metadata": {
  "kernelspec": {
   "display_name": "myenv",
   "language": "python",
   "name": "python3"
  },
  "language_info": {
   "codemirror_mode": {
    "name": "ipython",
    "version": 3
   },
   "file_extension": ".py",
   "mimetype": "text/x-python",
   "name": "python",
   "nbconvert_exporter": "python",
   "pygments_lexer": "ipython3",
   "version": "3.9.19"
  }
 },
 "nbformat": 4,
 "nbformat_minor": 2
}
