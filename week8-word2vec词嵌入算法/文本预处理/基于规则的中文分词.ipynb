{
 "cells": [
  {
   "cell_type": "code",
   "execution_count": 6,
   "metadata": {},
   "outputs": [
    {
     "name": "stdout",
     "output_type": "stream",
     "text": [
      "最大前向匹配（FMM）:\n",
      "['研究生活']\n",
      "['我', '来到', '北京', '清华大学', '。']\n",
      "['结巴', '分词', '是', '一', '个', '非常', '好用', '的', 'Python', '中文', '分词', '组件', '。']\n"
     ]
    }
   ],
   "source": [
    "# 词典示例\n",
    "dictionary = {\n",
    "    '研究生', '研究', '生活', '研究生活', '中国', '自然语言处理', '语言', '处理',\n",
    "    '我', '来到', '北京', '清华大学', '清华', '大学', '结巴', '分词', '非常',\n",
    "    '好用', '的', 'Python', '中文', '组件'\n",
    "}\n",
    "\n",
    "\n",
    "def fmm_segment(text, dictionary, max_len=5):\n",
    "    \"\"\"\n",
    "    最大前向匹配（Forward Maximum Matching）分词\n",
    "    :param text: 待分词的文本\n",
    "    :param dictionary: 词典集合\n",
    "    :param max_len: 词典中最长词的长度\n",
    "    :return: 分词结果列表\n",
    "    \"\"\"\n",
    "    result = []\n",
    "    index = 0\n",
    "    text_length = len(text)\n",
    "\n",
    "    while index < text_length:\n",
    "        matched = False\n",
    "        # 从最大长度开始匹配\n",
    "        for size in range(max_len, 0, -1):\n",
    "            if index + size > text_length:\n",
    "                continue\n",
    "            word = text[index:index+size]\n",
    "            if word in dictionary:\n",
    "                result.append(word)\n",
    "                index += size\n",
    "                matched = True\n",
    "                break\n",
    "        if not matched:\n",
    "            # 如果未匹配到，单个字符作为一个词\n",
    "            result.append(text[index])\n",
    "            index += 1\n",
    "    return result\n",
    "\n",
    "\n",
    "# 待分词文本\n",
    "text1 = \"研究生活\"\n",
    "text2 = \"我来到北京清华大学。\"\n",
    "text3 = \"结巴分词是一个非常好用的Python中文分词组件。\"\n",
    "\n",
    "# 最大词长度\n",
    "max_len = max(len(word) for word in dictionary)\n",
    "\n",
    "# 分词结果\n",
    "print(\"最大前向匹配（FMM）:\")\n",
    "print(fmm_segment(text1, dictionary, max_len))\n",
    "print(fmm_segment(text2, dictionary, max_len))\n",
    "print(fmm_segment(text3, dictionary, max_len))"
   ]
  }
 ],
 "metadata": {
  "kernelspec": {
   "display_name": "myenv",
   "language": "python",
   "name": "python3"
  },
  "language_info": {
   "codemirror_mode": {
    "name": "ipython",
    "version": 3
   },
   "file_extension": ".py",
   "mimetype": "text/x-python",
   "name": "python",
   "nbconvert_exporter": "python",
   "pygments_lexer": "ipython3",
   "version": "3.10.12"
  }
 },
 "nbformat": 4,
 "nbformat_minor": 2
}
