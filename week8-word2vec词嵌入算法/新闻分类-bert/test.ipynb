{
 "cells": [
  {
   "cell_type": "code",
   "execution_count": 2,
   "metadata": {},
   "outputs": [
    {
     "name": "stderr",
     "output_type": "stream",
     "text": [
      "Process: 100%|██████████| 100/100 [00:00<00:00, 812.31it/s, loss=9.9, accuracy=89.1]\n"
     ]
    }
   ],
   "source": [
    "from tqdm import tqdm\n",
    "\n",
    "progress_bar = tqdm(range(100), desc=\"Process\")\n",
    "for i in progress_bar:\n",
    "    progress_bar.set_postfix({'loss': 0.1*i, 'accuracy': 0.9*i})\n",
    "    pass"
   ]
  }
 ],
 "metadata": {
  "kernelspec": {
   "display_name": "myenv",
   "language": "python",
   "name": "python3"
  },
  "language_info": {
   "codemirror_mode": {
    "name": "ipython",
    "version": 3
   },
   "file_extension": ".py",
   "mimetype": "text/x-python",
   "name": "python",
   "nbconvert_exporter": "python",
   "pygments_lexer": "ipython3",
   "version": "3.9.19"
  }
 },
 "nbformat": 4,
 "nbformat_minor": 2
}
