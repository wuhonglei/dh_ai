{
 "cells": [
  {
   "cell_type": "code",
   "execution_count": 3,
   "metadata": {},
   "outputs": [
    {
     "name": "stdout",
     "output_type": "stream",
     "text": [
      "tensor([[ 4, 10, 18]])\n"
     ]
    },
    {
     "data": {
      "text/plain": [
       "tensor(32)"
      ]
     },
     "execution_count": 3,
     "metadata": {},
     "output_type": "execute_result"
    }
   ],
   "source": [
    "import torch\n",
    "\n",
    "a = torch.tensor([\n",
    "    [1, 2, 3]\n",
    "])\n",
    "b = torch.tensor([\n",
    "    [4, 5, 6]\n",
    "])\n",
    "c = torch.mul(a, b)\n",
    "print(c)\n",
    "\n",
    "torch.dot(a[0], b[0])"
   ]
  },
  {
   "cell_type": "code",
   "execution_count": 8,
   "metadata": {},
   "outputs": [
    {
     "data": {
      "text/plain": [
       "tensor([[[1],\n",
       "         [2],\n",
       "         [3]]])"
      ]
     },
     "execution_count": 8,
     "metadata": {},
     "output_type": "execute_result"
    }
   ],
   "source": [
    "import torch\n",
    "\n",
    "a = torch.tensor([[1, 2, 3]])\n",
    "a.unsqueeze(2)"
   ]
  },
  {
   "cell_type": "code",
   "execution_count": 18,
   "metadata": {},
   "outputs": [
    {
     "data": {
      "text/plain": [
       "tensor([0.9241, 0.7685, 0.7311])"
      ]
     },
     "execution_count": 18,
     "metadata": {},
     "output_type": "execute_result"
    }
   ],
   "source": [
    "import torch\n",
    "\n",
    "a = torch.tensor(\n",
    "    [2.5, 1.2, 1]\n",
    ")\n",
    "\n",
    "torch.sigmoid(a)"
   ]
  },
  {
   "cell_type": "code",
   "execution_count": 24,
   "metadata": {},
   "outputs": [
    {
     "name": "stdout",
     "output_type": "stream",
     "text": [
      "人工智能（Artificial Intelligence，简称 ai）是一门研究、开发用于模拟、延伸和扩展人类智能的技术科学。\n",
      "yield\n",
      "一、主要特点\n",
      "yield\n",
      "学习能力：人工智能系统可以通过大量的数据进行学习，不断改进自己的性能。例如，机器学习算法可以从数据中自动发现模式和规律，从而对新的数据进行预测和分类。\n",
      "yield\n",
      "适应性：能够适应不同的环境和任务。随着新数据的输入和任务的变化，人工智能系统可以调整自己的参数和策略，以更好地完成任务。\n",
      "yield\n",
      "自动化：可以自动执行复杂的任务，减少人类的工作量和错误率。例如，自动化的图像识别系统可以快速准确地识别大量的图像，而无需人工干预。\n",
      "yield\n",
      "智能决策：基于数据和算法进行智能决策。在复杂的情况下，人工智能系统可以分析各种因素，权衡利弊，做出最优的决策。\n",
      "yield\n"
     ]
    }
   ],
   "source": [
    "def corpus_reader(file_path):\n",
    "    with open(file_path, 'r', encoding='utf-8') as f:\n",
    "        for line in f:\n",
    "            yield line.strip()\n",
    "\n",
    "\n",
    "result = corpus_reader('data/1.txt')\n",
    "for line in result:\n",
    "    print(line)"
   ]
  },
  {
   "cell_type": "code",
   "execution_count": 1,
   "metadata": {},
   "outputs": [],
   "source": [
    "import torch\n",
    "\n",
    "a = torch.tensor([\n",
    "    [1, 2],\n",
    "    [3, 4]\n",
    "])\n",
    "\n",
    "b = torch.tensor([\n",
    "    [5, 6],\n",
    "    [7, 8]\n",
    "])\n",
    "\n",
    "torch.mul(a, b)"
   ]
  }
 ],
 "metadata": {
  "kernelspec": {
   "display_name": "myenv",
   "language": "python",
   "name": "python3"
  },
  "language_info": {
   "codemirror_mode": {
    "name": "ipython",
    "version": 3
   },
   "file_extension": ".py",
   "mimetype": "text/x-python",
   "name": "python",
   "nbconvert_exporter": "python",
   "pygments_lexer": "ipython3",
   "version": "3.9.19"
  }
 },
 "nbformat": 4,
 "nbformat_minor": 2
}
