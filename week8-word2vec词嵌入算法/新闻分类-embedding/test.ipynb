{
 "cells": [
  {
   "cell_type": "code",
   "execution_count": 24,
   "metadata": {},
   "outputs": [
    {
     "name": "stdout",
     "output_type": "stream",
     "text": [
      "frozenset({'co', 'fifteen', 'eight', 'either', 'this', 'over', 'wherein', 'elsewhere', 'when', 'therein', 'thus', 'some', 'bottom', 'none', 'show', 'together', 'been', 'once', 'system', 'among', 'nothing', 'serious', 'indeed', 'anyway', 'everywhere', 'from', 'moreover', 'something', 'nor', 'even', 'very', 'others', 'into', 'may', 'around', 'eleven', 'below', 'nevertheless', 'might', 'all', 'whose', 'several', 'anyone', 'many', 'other', 'therefore', 'their', 'themselves', 'find', 'at', 'thereby', 'of', 'back', 'seeming', 'between', 'beforehand', 'except', 'put', 'keep', 'an', 'mill', 'myself', 'besides', 'than', 'ourselves', 'for', 'whence', 'they', 'almost', 'already', 'onto', 'have', 'beside', 'he', 'behind', 'interest', 'so', 'another', 'you', 'somehow', 'my', 'whether', 'namely', 'and', 'as', 'has', 'anywhere', 'towards', 'through', 'herein', 'where', 'last', 'go', 'next', 'same', 'please', 'ever', 'always', 'amount', 'your', 'top', 'latterly', 'whenever', 'thereafter', 'could', 'inc', 'along', 'who', 'across', 'sometime', 'up', 'any', 'however', 'latter', 'his', 'was', 'ours', 'seemed', 'ltd', 'should', 'can', 'full', 'by', 'in', 'though', 'the', 'seem', 'four', 'to', 'thereupon', 'someone', 'couldnt', 'three', 'front', 'former', 'otherwise', 'de', 'again', 'nobody', 'which', 'whereby', 'get', 'often', 'be', 'yours', 'before', 'down', 'con', 'name', 'were', 'why', 'do', 'else', 'per', 'with', 'amoungst', 'what', 'without', 'about', 'one', 'during', 'also', 'perhaps', 'beyond', 'since', 'still', 'those', 'thence', 'further', 'not', 'a', 'least', 'more', 'etc', 'me', 'own', 'although', 'hence', 'wherever', 'throughout', 'must', 'well', 'hundred', 'sometimes', 'them', 'whom', 'afterwards', 'only', 'her', 'take', 'enough', 'part', 'found', 'whatever', 'because', 'meanwhile', 'bill', 'thin', 'until', 'on', 'everything', 'i', 'each', 'but', 'cannot', 'am', 'anything', 'un', 'fire', 'yet', 'no', 'its', 'under', 'here', 'how', 'whereupon', 'after', 'now', 'seems', 'never', 'would', 'whole', 'rather', 'becomes', 'itself', 'will', 'us', 'done', 'thick', 'too', 'five', 'or', 'via', 'then', 'eg', 'while', 'yourselves', 'hereupon', 'most', 'out', 'whereafter', 'detail', 'whereas', 'ten', 'it', 'thru', 'due', 'both', 'third', 'neither', 'fill', 'him', 'sincere', 'somewhere', 'himself', 'side', 'becoming', 'are', 'everyone', 'hereby', 'there', 'mine', 'describe', 'alone', 'nine', 'our', 'whoever', 'two', 'first', 'made', 'sixty', 'herself', 'forty', 'become', 'yourself', 'nowhere', 'within', 'hers', 'empty', 'we', 'six', 'call', 'twenty', 'see', 'she', 'hereafter', 'had', 'anyhow', 'twelve', 'ie', 'against', 'fifty', 'mostly', 'give', 'is', 'amongst', 'being', 'cant', 'cry', 'if', 'formerly', 'move', 're', 'these', 'much', 'few', 'hasnt', 'such', 'less', 'became', 'every', 'upon', 'whither', 'noone', 'off', 'toward', 'above', 'that'})\n",
      "[[0 0 0 0 0 1 1 0 0 1 0 1 0 1 0 0 0 0 0 0 1]\n",
      " [0 0 0 0 1 0 0 1 1 0 0 0 1 0 0 1 1 0 0 1 0]\n",
      " [1 0 0 1 0 1 0 1 0 0 0 0 0 1 0 0 0 0 0 0 0]\n",
      " [0 1 1 0 0 0 1 0 0 0 1 0 0 0 1 0 0 1 1 0 0]]\n"
     ]
    }
   ],
   "source": [
    "import nltk\n",
    "import torch\n",
    "from sklearn.datasets import fetch_20newsgroups\n",
    "from sklearn.model_selection import train_test_split\n",
    "from sklearn.preprocessing import LabelEncoder\n",
    "from sklearn.feature_extraction.text import CountVectorizer, TfidfVectorizer\n",
    "import numpy as np\n",
    "\n",
    "from sklearn.feature_extraction import text\n",
    "\n",
    "print(text.ENGLISH_STOP_WORDS)\n",
    "\n",
    "\n",
    "# 示例文本\n",
    "texts = [\n",
    "    \"Hello, world! I'm learning NLP.\",\n",
    "    \"Natural Language Processing with Python is fun.\",\n",
    "    \"Hello again: NLP is fascinating.\",\n",
    "    \"I love AI. state-of-the-art\",\n",
    "]\n",
    "\n",
    "bow_vectorizer = CountVectorizer(\n",
    "    max_features=5000, token_pattern=r\"(?u)\\b\\w+\\b\")\n",
    "\n",
    "X_train_bow = bow_vectorizer.fit_transform(texts)\n",
    "\n",
    "# 打印词频矩阵\n",
    "print(X_train_bow.toarray())"
   ]
  },
  {
   "cell_type": "code",
   "execution_count": 15,
   "metadata": {},
   "outputs": [],
   "source": [
    "bow_vectorizer.get_stop_words()"
   ]
  },
  {
   "cell_type": "code",
   "execution_count": 4,
   "metadata": {},
   "outputs": [
    {
     "data": {
      "text/plain": [
       "Embedding(124959, 100)"
      ]
     },
     "execution_count": 4,
     "metadata": {},
     "output_type": "execute_result"
    }
   ],
   "source": [
    "import torch\n",
    "import torch.nn as nn\n",
    "from gensim.models import Word2Vec\n",
    "\n",
    "word2vec_model = Word2Vec.load('./models/word2vec.model')\n",
    "word_vectors = torch.FloatTensor(word2vec_model.wv.vectors)\n",
    "embedding_layer = nn.Embedding.from_pretrained(word_vectors)\n",
    "embedding_layer"
   ]
  },
  {
   "cell_type": "code",
   "execution_count": 11,
   "metadata": {},
   "outputs": [
    {
     "name": "stdout",
     "output_type": "stream",
     "text": [
      "I True\n",
      "at True\n",
      "about True\n",
      "love False\n",
      "AI False\n",
      ". False\n",
      "state False\n",
      "- False\n",
      "of True\n",
      "- False\n",
      "the True\n",
      "- False\n",
      "art False\n"
     ]
    }
   ],
   "source": [
    "import spacy\n",
    "\n",
    "nlp = spacy.load('en_core_web_sm')\n",
    "nlp.Defaults.stop_words\n",
    "doc = nlp(\"I at about love AI. state-of-the-art\")\n",
    "for token in doc:\n",
    "    print(token.text, token.is_stop)"
   ]
  }
 ],
 "metadata": {
  "kernelspec": {
   "display_name": "myenv",
   "language": "python",
   "name": "python3"
  },
  "language_info": {
   "codemirror_mode": {
    "name": "ipython",
    "version": 3
   },
   "file_extension": ".py",
   "mimetype": "text/x-python",
   "name": "python",
   "nbconvert_exporter": "python",
   "pygments_lexer": "ipython3",
   "version": "3.9.19"
  }
 },
 "nbformat": 4,
 "nbformat_minor": 2
}
