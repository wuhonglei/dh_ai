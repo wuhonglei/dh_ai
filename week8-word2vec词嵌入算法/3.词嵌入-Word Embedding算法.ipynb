{
 "cells": [
  {
   "cell_type": "code",
   "execution_count": 1,
   "metadata": {},
   "outputs": [
    {
     "data": {
      "image/png": "[encoded data removed]",
      "text/plain": [
       "<Figure size 640x480 with 1 Axes>"
      ]
     },
     "metadata": {},
     "output_type": "display_data"
    }
   ],
   "source": [
    "import matplotlib.pyplot as plt\n",
    "from sklearn.decomposition import PCA\n",
    "import numpy as np\n",
    "\n",
    "cat = np.array([\n",
    "    0.6,\n",
    "    0.9,\n",
    "    0.1,\n",
    "    0.4,\n",
    "    -0.7,\n",
    "    -0.3,\n",
    "    -0.2,\n",
    "])\n",
    "\n",
    "kitten = np.array([\n",
    "    0.5,\n",
    "    0.8,\n",
    "    -0.1,\n",
    "    0.2,\n",
    "    -0.6,\n",
    "    -0.5,\n",
    "    -0.1,\n",
    "])\n",
    "\n",
    "dog = np.array([\n",
    "    0.7,\n",
    "    -0.1,\n",
    "    0.4,\n",
    "    0.3,\n",
    "    -0.4,\n",
    "    -0.1,\n",
    "    -0.3,\n",
    "])\n",
    "\n",
    "house = np.array([\n",
    "    -0.8,\n",
    "    -0.4,\n",
    "    -0.5,\n",
    "    0.1,\n",
    "    -0.9,\n",
    "    0.3,\n",
    "    0.8,\n",
    "])\n",
    "\n",
    "# 通过降维算法，绘制出这四个词的二维向量表示\n",
    "pca = PCA(n_components=2)\n",
    "word_vectors = np.array([cat, kitten,  house, dog])\n",
    "word_vectors_2d = pca.fit_transform(word_vectors)\n",
    "\n",
    "plt.scatter(word_vectors_2d[:, 0], word_vectors_2d[:, 1])\n",
    "for i, word in enumerate(['cat', 'kitten', 'dog', 'house']):\n",
    "    plt.text(word_vectors_2d[i, 0], word_vectors_2d[i, 1], word)\n",
    "\n",
    "# 隐藏坐标轴上的数字\n",
    "plt.xticks([])\n",
    "plt.yticks([])\n",
    "plt.show()"
   ]
  },
  {
   "cell_type": "code",
   "execution_count": 13,
   "metadata": {},
   "outputs": [
    {
     "data": {
      "text/plain": [
       "(array([[ 0.69597197,  0.30213697],\n",
       "        [ 0.53708766,  0.3849268 ],\n",
       "        [ 0.39879842, -0.75749338],\n",
       "        [-1.63185806,  0.07042961]]),\n",
       " array([ 0.69597197,  0.53708766,  0.39879842, -1.63185806]))"
      ]
     },
     "execution_count": 13,
     "metadata": {},
     "output_type": "execute_result"
    }
   ],
   "source": [
    "word_vectors_2d, word_vectors_2d[:, 0]"
   ]
  }
 ],
 "metadata": {
  "kernelspec": {
   "display_name": "myenv",
   "language": "python",
   "name": "python3"
  },
  "language_info": {
   "codemirror_mode": {
    "name": "ipython",
    "version": 3
   },
   "file_extension": ".py",
   "mimetype": "text/x-python",
   "name": "python",
   "nbconvert_exporter": "python",
   "pygments_lexer": "ipython3",
   "version": "3.10.12"
  }
 },
 "nbformat": 4,
 "nbformat_minor": 2
}
