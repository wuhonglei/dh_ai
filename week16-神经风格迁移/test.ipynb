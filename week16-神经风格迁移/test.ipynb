{
 "cells": [
  {
   "cell_type": "code",
   "execution_count": 29,
   "metadata": {},
   "outputs": [
    {
     "data": {
      "text/plain": [
       "tensor([0.0000, 0.0000, 0.5000, 1.0000, 1.0000])"
      ]
     },
     "execution_count": 29,
     "metadata": {},
     "output_type": "execute_result"
    }
   ],
   "source": [
    "import torch\n",
    "\n",
    "a = torch.tensor([-0.1, 0, 0.5, 1, 1.1])\n",
    "a.clamp(0, 1)  # tensor([0.0, 0.5, 1.0, 1.0])"
   ]
  },
  {
   "cell_type": "code",
   "execution_count": 2,
   "metadata": {},
   "outputs": [
    {
     "data": {
      "text/plain": [
       "(tensor([[[[1., 2., 3.],\n",
       "           [4., 5., 6.],\n",
       "           [7., 8., 9.]]]]),\n",
       " tensor([[[[1., 1., 2., 2., 3., 3.],\n",
       "           [1., 1., 2., 2., 3., 3.],\n",
       "           [4., 4., 5., 5., 6., 6.],\n",
       "           [4., 4., 5., 5., 6., 6.],\n",
       "           [7., 7., 8., 8., 9., 9.],\n",
       "           [7., 7., 8., 8., 9., 9.]]]]),\n",
       " tensor([[[[1., 1., 1., 2., 2., 2., 3., 3., 3.],\n",
       "           [1., 1., 1., 2., 2., 2., 3., 3., 3.],\n",
       "           [1., 1., 1., 2., 2., 2., 3., 3., 3.],\n",
       "           [4., 4., 4., 5., 5., 5., 6., 6., 6.],\n",
       "           [4., 4., 4., 5., 5., 5., 6., 6., 6.],\n",
       "           [4., 4., 4., 5., 5., 5., 6., 6., 6.],\n",
       "           [7., 7., 7., 8., 8., 8., 9., 9., 9.],\n",
       "           [7., 7., 7., 8., 8., 8., 9., 9., 9.],\n",
       "           [7., 7., 7., 8., 8., 8., 9., 9., 9.]]]]))"
      ]
     },
     "execution_count": 2,
     "metadata": {},
     "output_type": "execute_result"
    }
   ],
   "source": [
    "import torch\n",
    "import torch.nn as nn\n",
    "\n",
    "a = torch.tensor([\n",
    "    [\n",
    "        [\n",
    "            [1, 2, 3],\n",
    "            [4, 5, 6],\n",
    "            [7, 8, 9]\n",
    "        ]\n",
    "    ]\n",
    "], dtype=torch.float32)\n",
    "\n",
    "up1 = nn.Upsample(scale_factor=1, mode='nearest')\n",
    "up2 = nn.Upsample(scale_factor=2, mode='nearest')\n",
    "up3 = nn.Upsample(scale_factor=3, mode='nearest')\n",
    "\n",
    "up1(a), up2(a), up3(a)"
   ]
  }
 ],
 "metadata": {
  "kernelspec": {
   "display_name": "myenv",
   "language": "python",
   "name": "python3"
  },
  "language_info": {
   "codemirror_mode": {
    "name": "ipython",
    "version": 3
   },
   "file_extension": ".py",
   "mimetype": "text/x-python",
   "name": "python",
   "nbconvert_exporter": "python",
   "pygments_lexer": "ipython3",
   "version": "3.10.12"
  }
 },
 "nbformat": 4,
 "nbformat_minor": 2
}
