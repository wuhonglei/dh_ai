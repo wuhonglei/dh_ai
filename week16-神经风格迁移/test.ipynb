{
 "cells": [
  {
   "cell_type": "code",
   "execution_count": 7,
   "metadata": {},
   "outputs": [
    {
     "name": "stdout",
     "output_type": "stream",
     "text": [
      "===================================================================================================================\n",
      "Layer (type:depth-idx)                   Input Shape               Output Shape              Param #\n",
      "===================================================================================================================\n",
      "VGG                                      [1, 3, 224, 224]          [1, 1000]                 --\n",
      "├─Sequential: 1-1                        [1, 3, 224, 224]          [1, 512, 7, 7]            --\n",
      "│    └─Conv2d: 2-1                       [1, 3, 224, 224]          [1, 64, 224, 224]         1,792\n",
      "│    └─ReLU: 2-2                         [1, 64, 224, 224]         [1, 64, 224, 224]         --\n",
      "│    └─Conv2d: 2-3                       [1, 64, 224, 224]         [1, 64, 224, 224]         36,928\n",
      "│    └─ReLU: 2-4                         [1, 64, 224, 224]         [1, 64, 224, 224]         --\n",
      "│    └─MaxPool2d: 2-5                    [1, 64, 224, 224]         [1, 64, 112, 112]         --\n",
      "│    └─Conv2d: 2-6                       [1, 64, 112, 112]         [1, 128, 112, 112]        73,856\n",
      "│    └─ReLU: 2-7                         [1, 128, 112, 112]        [1, 128, 112, 112]        --\n",
      "│    └─Conv2d: 2-8                       [1, 128, 112, 112]        [1, 128, 112, 112]        147,584\n",
      "│    └─ReLU: 2-9                         [1, 128, 112, 112]        [1, 128, 112, 112]        --\n",
      "│    └─MaxPool2d: 2-10                   [1, 128, 112, 112]        [1, 128, 56, 56]          --\n",
      "│    └─Conv2d: 2-11                      [1, 128, 56, 56]          [1, 256, 56, 56]          295,168\n",
      "│    └─ReLU: 2-12                        [1, 256, 56, 56]          [1, 256, 56, 56]          --\n",
      "│    └─Conv2d: 2-13                      [1, 256, 56, 56]          [1, 256, 56, 56]          590,080\n",
      "│    └─ReLU: 2-14                        [1, 256, 56, 56]          [1, 256, 56, 56]          --\n",
      "│    └─Conv2d: 2-15                      [1, 256, 56, 56]          [1, 256, 56, 56]          590,080\n",
      "│    └─ReLU: 2-16                        [1, 256, 56, 56]          [1, 256, 56, 56]          --\n",
      "│    └─Conv2d: 2-17                      [1, 256, 56, 56]          [1, 256, 56, 56]          590,080\n",
      "│    └─ReLU: 2-18                        [1, 256, 56, 56]          [1, 256, 56, 56]          --\n",
      "│    └─MaxPool2d: 2-19                   [1, 256, 56, 56]          [1, 256, 28, 28]          --\n",
      "│    └─Conv2d: 2-20                      [1, 256, 28, 28]          [1, 512, 28, 28]          1,180,160\n",
      "│    └─ReLU: 2-21                        [1, 512, 28, 28]          [1, 512, 28, 28]          --\n",
      "│    └─Conv2d: 2-22                      [1, 512, 28, 28]          [1, 512, 28, 28]          2,359,808\n",
      "│    └─ReLU: 2-23                        [1, 512, 28, 28]          [1, 512, 28, 28]          --\n",
      "│    └─Conv2d: 2-24                      [1, 512, 28, 28]          [1, 512, 28, 28]          2,359,808\n",
      "│    └─ReLU: 2-25                        [1, 512, 28, 28]          [1, 512, 28, 28]          --\n",
      "│    └─Conv2d: 2-26                      [1, 512, 28, 28]          [1, 512, 28, 28]          2,359,808\n",
      "│    └─ReLU: 2-27                        [1, 512, 28, 28]          [1, 512, 28, 28]          --\n",
      "│    └─MaxPool2d: 2-28                   [1, 512, 28, 28]          [1, 512, 14, 14]          --\n",
      "│    └─Conv2d: 2-29                      [1, 512, 14, 14]          [1, 512, 14, 14]          2,359,808\n",
      "│    └─ReLU: 2-30                        [1, 512, 14, 14]          [1, 512, 14, 14]          --\n",
      "│    └─Conv2d: 2-31                      [1, 512, 14, 14]          [1, 512, 14, 14]          2,359,808\n",
      "│    └─ReLU: 2-32                        [1, 512, 14, 14]          [1, 512, 14, 14]          --\n",
      "│    └─Conv2d: 2-33                      [1, 512, 14, 14]          [1, 512, 14, 14]          2,359,808\n",
      "│    └─ReLU: 2-34                        [1, 512, 14, 14]          [1, 512, 14, 14]          --\n",
      "│    └─Conv2d: 2-35                      [1, 512, 14, 14]          [1, 512, 14, 14]          2,359,808\n",
      "│    └─ReLU: 2-36                        [1, 512, 14, 14]          [1, 512, 14, 14]          --\n",
      "│    └─MaxPool2d: 2-37                   [1, 512, 14, 14]          [1, 512, 7, 7]            --\n",
      "├─AdaptiveAvgPool2d: 1-2                 [1, 512, 7, 7]            [1, 512, 7, 7]            --\n",
      "├─Sequential: 1-3                        [1, 25088]                [1, 1000]                 --\n",
      "│    └─Linear: 2-38                      [1, 25088]                [1, 4096]                 102,764,544\n",
      "│    └─ReLU: 2-39                        [1, 4096]                 [1, 4096]                 --\n",
      "│    └─Dropout: 2-40                     [1, 4096]                 [1, 4096]                 --\n",
      "│    └─Linear: 2-41                      [1, 4096]                 [1, 4096]                 16,781,312\n",
      "│    └─ReLU: 2-42                        [1, 4096]                 [1, 4096]                 --\n",
      "│    └─Dropout: 2-43                     [1, 4096]                 [1, 4096]                 --\n",
      "│    └─Linear: 2-44                      [1, 4096]                 [1, 1000]                 4,097,000\n",
      "===================================================================================================================\n",
      "Total params: 143,667,240\n",
      "Trainable params: 143,667,240\n",
      "Non-trainable params: 0\n",
      "Total mult-adds (G): 19.65\n",
      "===================================================================================================================\n",
      "Input size (MB): 0.60\n",
      "Forward/backward pass size (MB): 118.89\n",
      "Params size (MB): 574.67\n",
      "Estimated Total Size (MB): 694.16\n",
      "===================================================================================================================\n"
     ]
    }
   ],
   "source": [
    "import torch\n",
    "import torch.nn as nn\n",
    "import torchvision.models as models\n",
    "\n",
    "from torchinfo import summary\n",
    "\n",
    "# 加载预训练模型\n",
    "vgg19 = models.vgg19(weights=None)\n",
    "print(summary(vgg19, input_size=(1, 3, 224, 224), col_names=[\n",
    "    'input_size', 'output_size', 'num_params']))"
   ]
  },
  {
   "cell_type": "code",
   "execution_count": 10,
   "metadata": {},
   "outputs": [
    {
     "data": {
      "text/plain": [
       "Sequential(\n",
       "  (0): Conv2d(3, 64, kernel_size=(3, 3), stride=(1, 1), padding=(1, 1))\n",
       "  (1): ReLU(inplace=True)\n",
       "  (2): Conv2d(64, 64, kernel_size=(3, 3), stride=(1, 1), padding=(1, 1))\n",
       "  (3): ReLU(inplace=True)\n",
       "  (4): MaxPool2d(kernel_size=2, stride=2, padding=0, dilation=1, ceil_mode=False)\n",
       "  (5): Conv2d(64, 128, kernel_size=(3, 3), stride=(1, 1), padding=(1, 1))\n",
       "  (6): ReLU(inplace=True)\n",
       "  (7): Conv2d(128, 128, kernel_size=(3, 3), stride=(1, 1), padding=(1, 1))\n",
       "  (8): ReLU(inplace=True)\n",
       "  (9): MaxPool2d(kernel_size=2, stride=2, padding=0, dilation=1, ceil_mode=False)\n",
       "  (10): Conv2d(128, 256, kernel_size=(3, 3), stride=(1, 1), padding=(1, 1))\n",
       "  (11): ReLU(inplace=True)\n",
       "  (12): Conv2d(256, 256, kernel_size=(3, 3), stride=(1, 1), padding=(1, 1))\n",
       "  (13): ReLU(inplace=True)\n",
       "  (14): Conv2d(256, 256, kernel_size=(3, 3), stride=(1, 1), padding=(1, 1))\n",
       "  (15): ReLU(inplace=True)\n",
       "  (16): Conv2d(256, 256, kernel_size=(3, 3), stride=(1, 1), padding=(1, 1))\n",
       "  (17): ReLU(inplace=True)\n",
       "  (18): MaxPool2d(kernel_size=2, stride=2, padding=0, dilation=1, ceil_mode=False)\n",
       "  (19): Conv2d(256, 512, kernel_size=(3, 3), stride=(1, 1), padding=(1, 1))\n",
       "  (20): ReLU(inplace=True)\n",
       "  (21): Conv2d(512, 512, kernel_size=(3, 3), stride=(1, 1), padding=(1, 1))\n",
       "  (22): ReLU(inplace=True)\n",
       "  (23): Conv2d(512, 512, kernel_size=(3, 3), stride=(1, 1), padding=(1, 1))\n",
       "  (24): ReLU(inplace=True)\n",
       "  (25): Conv2d(512, 512, kernel_size=(3, 3), stride=(1, 1), padding=(1, 1))\n",
       "  (26): ReLU(inplace=True)\n",
       "  (27): MaxPool2d(kernel_size=2, stride=2, padding=0, dilation=1, ceil_mode=False)\n",
       "  (28): Conv2d(512, 512, kernel_size=(3, 3), stride=(1, 1), padding=(1, 1))\n",
       "  (29): ReLU(inplace=True)\n",
       "  (30): Conv2d(512, 512, kernel_size=(3, 3), stride=(1, 1), padding=(1, 1))\n",
       "  (31): ReLU(inplace=True)\n",
       "  (32): Conv2d(512, 512, kernel_size=(3, 3), stride=(1, 1), padding=(1, 1))\n",
       "  (33): ReLU(inplace=True)\n",
       "  (34): Conv2d(512, 512, kernel_size=(3, 3), stride=(1, 1), padding=(1, 1))\n",
       "  (35): ReLU(inplace=True)\n",
       "  (36): MaxPool2d(kernel_size=2, stride=2, padding=0, dilation=1, ceil_mode=False)\n",
       ")"
      ]
     },
     "execution_count": 10,
     "metadata": {},
     "output_type": "execute_result"
    }
   ],
   "source": [
    "vgg19.features"
   ]
  },
  {
   "cell_type": "code",
   "execution_count": 6,
   "metadata": {},
   "outputs": [
    {
     "data": {
      "text/plain": [
       "(torch.Size([1, 2, 1, 2]), torch.Size([1, 2, 1, 2]), tensor(16.))"
      ]
     },
     "execution_count": 6,
     "metadata": {},
     "output_type": "execute_result"
    }
   ],
   "source": [
    "import torch\n",
    "import torch.nn.functional as F\n",
    "\n",
    "a = torch.tensor([\n",
    "    [[[1, 2]],\n",
    "     [[3, 4]]\n",
    "     ]\n",
    "], dtype=torch.float32)\n",
    "\n",
    "b = torch.tensor([\n",
    "    [[[5, 6]],\n",
    "     [[7, 8]]]\n",
    "],  dtype=torch.float32)\n",
    "\n",
    "\n",
    "a.shape, b.shape, F.mse_loss(a, b)"
   ]
  }
 ],
 "metadata": {
  "kernelspec": {
   "display_name": "myenv",
   "language": "python",
   "name": "python3"
  },
  "language_info": {
   "codemirror_mode": {
    "name": "ipython",
    "version": 3
   },
   "file_extension": ".py",
   "mimetype": "text/x-python",
   "name": "python",
   "nbconvert_exporter": "python",
   "pygments_lexer": "ipython3",
   "version": "3.9.19"
  }
 },
 "nbformat": 4,
 "nbformat_minor": 2
}
