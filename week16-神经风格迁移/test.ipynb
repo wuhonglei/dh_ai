{
 "cells": [
  {
   "cell_type": "code",
   "execution_count": 29,
   "metadata": {},
   "outputs": [
    {
     "data": {
      "text/plain": [
       "tensor([0.0000, 0.0000, 0.5000, 1.0000, 1.0000])"
      ]
     },
     "execution_count": 29,
     "metadata": {},
     "output_type": "execute_result"
    }
   ],
   "source": [
    "import torch\n",
    "\n",
    "a = torch.tensor([-0.1, 0, 0.5, 1, 1.1])\n",
    "a.clamp(0, 1)  # tensor([0.0, 0.5, 1.0, 1.0])"
   ]
  },
  {
   "cell_type": "code",
   "execution_count": 2,
   "metadata": {},
   "outputs": [
    {
     "data": {
      "text/plain": [
       "(tensor([[[[1., 2., 3.],\n",
       "           [4., 5., 6.],\n",
       "           [7., 8., 9.]]]]),\n",
       " tensor([[[[1., 1., 2., 2., 3., 3.],\n",
       "           [1., 1., 2., 2., 3., 3.],\n",
       "           [4., 4., 5., 5., 6., 6.],\n",
       "           [4., 4., 5., 5., 6., 6.],\n",
       "           [7., 7., 8., 8., 9., 9.],\n",
       "           [7., 7., 8., 8., 9., 9.]]]]),\n",
       " tensor([[[[1., 1., 1., 2., 2., 2., 3., 3., 3.],\n",
       "           [1., 1., 1., 2., 2., 2., 3., 3., 3.],\n",
       "           [1., 1., 1., 2., 2., 2., 3., 3., 3.],\n",
       "           [4., 4., 4., 5., 5., 5., 6., 6., 6.],\n",
       "           [4., 4., 4., 5., 5., 5., 6., 6., 6.],\n",
       "           [4., 4., 4., 5., 5., 5., 6., 6., 6.],\n",
       "           [7., 7., 7., 8., 8., 8., 9., 9., 9.],\n",
       "           [7., 7., 7., 8., 8., 8., 9., 9., 9.],\n",
       "           [7., 7., 7., 8., 8., 8., 9., 9., 9.]]]]))"
      ]
     },
     "execution_count": 2,
     "metadata": {},
     "output_type": "execute_result"
    }
   ],
   "source": [
    "import torch\n",
    "import torch.nn as nn\n",
    "\n",
    "a = torch.tensor([\n",
    "    [\n",
    "        [\n",
    "            [1, 2, 3],\n",
    "            [4, 5, 6],\n",
    "            [7, 8, 9]\n",
    "        ]\n",
    "    ]\n",
    "], dtype=torch.float32)\n",
    "\n",
    "up1 = nn.Upsample(scale_factor=1, mode='nearest')\n",
    "up2 = nn.Upsample(scale_factor=2, mode='nearest')\n",
    "up3 = nn.Upsample(scale_factor=3, mode='nearest')\n",
    "\n",
    "up1(a), up2(a), up3(a)"
   ]
  },
  {
   "cell_type": "code",
   "execution_count": 9,
   "metadata": {},
   "outputs": [
    {
     "data": {
      "text/plain": [
       "Point(x=1, y=2)"
      ]
     },
     "execution_count": 9,
     "metadata": {},
     "output_type": "execute_result"
    }
   ],
   "source": [
    "from collections import namedtuple\n",
    "\n",
    "Point = namedtuple('Point', ['x', 'y'])\n",
    "Point(1, 2)"
   ]
  },
  {
   "cell_type": "code",
   "execution_count": 15,
   "metadata": {},
   "outputs": [
    {
     "ename": "RuntimeError",
     "evalue": "Number of dimensions of repeat dims can not be smaller than number of dimensions of tensor",
     "output_type": "error",
     "traceback": [
      "\u001b[0;31m---------------------------------------------------------------------------\u001b[0m",
      "\u001b[0;31mRuntimeError\u001b[0m                              Traceback (most recent call last)",
      "Cell \u001b[0;32mIn[15], line 7\u001b[0m\n\u001b[1;32m      1\u001b[0m \u001b[38;5;28;01mimport\u001b[39;00m \u001b[38;5;21;01mtorch\u001b[39;00m\n\u001b[1;32m      3\u001b[0m a \u001b[38;5;241m=\u001b[39m torch\u001b[38;5;241m.\u001b[39mtensor([\n\u001b[1;32m      4\u001b[0m     [\u001b[38;5;241m2\u001b[39m, \u001b[38;5;241m3\u001b[39m]\n\u001b[1;32m      5\u001b[0m ])\n\u001b[0;32m----> 7\u001b[0m \u001b[43ma\u001b[49m\u001b[38;5;241;43m.\u001b[39;49m\u001b[43mrepeat\u001b[49m\u001b[43m(\u001b[49m\u001b[38;5;241;43m5\u001b[39;49m\u001b[43m)\u001b[49m\n",
      "\u001b[0;31mRuntimeError\u001b[0m: Number of dimensions of repeat dims can not be smaller than number of dimensions of tensor"
     ]
    }
   ],
   "source": [
    "import torch\n",
    "\n",
    "a = torch.tensor([\n",
    "    [2, 3]\n",
    "])\n",
    "\n",
    "a.repeat(5)"
   ]
  },
  {
   "cell_type": "code",
   "execution_count": 16,
   "metadata": {},
   "outputs": [
    {
     "data": {
      "text/plain": [
       "[1, 1, 1]"
      ]
     },
     "execution_count": 16,
     "metadata": {},
     "output_type": "execute_result"
    }
   ],
   "source": [
    "[1] * 3"
   ]
  }
 ],
 "metadata": {
  "kernelspec": {
   "display_name": "myenv",
   "language": "python",
   "name": "python3"
  },
  "language_info": {
   "codemirror_mode": {
    "name": "ipython",
    "version": 3
   },
   "file_extension": ".py",
   "mimetype": "text/x-python",
   "name": "python",
   "nbconvert_exporter": "python",
   "pygments_lexer": "ipython3",
   "version": "3.10.12"
  }
 },
 "nbformat": 4,
 "nbformat_minor": 2
}
